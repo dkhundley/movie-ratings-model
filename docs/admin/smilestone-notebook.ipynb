{
 "cells": [
  {
   "cell_type": "markdown",
   "id": "1cee5439",
   "metadata": {},
   "source": [
    "# Smilestone Data Notebook\n",
    "If you know, you know. 😉"
   ]
  },
  {
   "cell_type": "markdown",
   "id": "4c577f87",
   "metadata": {},
   "source": [
    "## Project Setup"
   ]
  },
  {
   "cell_type": "code",
   "execution_count": 26,
   "id": "4cf76f7b",
   "metadata": {},
   "outputs": [],
   "source": [
    "# Importing the required Python libraries\n",
    "import pandas as pd\n",
    "import matplotlib.pyplot as plt\n",
    "\n",
    "%matplotlib inline"
   ]
  },
  {
   "cell_type": "code",
   "execution_count": 22,
   "id": "f0b36ec8",
   "metadata": {},
   "outputs": [],
   "source": [
    "# Defining the ID of the Google Sheet with the movie ratings\n",
    "sheet_id = '1-8tdDUtm0iBrCdCRAsYCw2KOimecrHcmsnL-aqG-l0E'\n",
    "\n",
    "# Creating a small function to load the data sheet by ID and sheet name\n",
    "def load_google_sheet(sheet_id, sheet_name):\n",
    "    url = f'https://docs.google.com/spreadsheets/d/{sheet_id}/gviz/tq?tqx=out:csv&sheet={sheet_name}'\n",
    "    df = pd.read_csv(url)\n",
    "    return df\n",
    "\n",
    "# Loading all the sheets and joining them together\n",
    "df_main = load_google_sheet(sheet_id, 'main')\n",
    "df_patreon = load_google_sheet(sheet_id, 'patreon')\n",
    "df_mnight = load_google_sheet(sheet_id, 'movie_night')\n",
    "df = pd.concat([df_main, df_patreon, df_mnight], axis = 0)"
   ]
  },
  {
   "cell_type": "markdown",
   "id": "7f0b8454",
   "metadata": {},
   "source": [
    "## Parsing Down Data"
   ]
  },
  {
   "cell_type": "code",
   "execution_count": 23,
   "id": "4d799748",
   "metadata": {},
   "outputs": [],
   "source": [
    "df_main = df_main[(df_main['Episode Number'] <= (69 * 4))]\n",
    "df_main = df_main[(df_main['Episode Number'] > (69 * 3))]"
   ]
  },
  {
   "cell_type": "code",
   "execution_count": 67,
   "id": "599efc59",
   "metadata": {},
   "outputs": [
    {
     "data": {
      "image/png": "[encoded data removed]",
      "text/plain": [
       "<Figure size 432x288 with 1 Axes>"
      ]
     },
     "metadata": {
      "needs_background": "light"
     },
     "output_type": "display_data"
    }
   ],
   "source": [
    "sb.histplot(df_main['Rating'], bins = [0, .5, 1, 1.5, 2, 2.5, 3, 3.5, 4, 4.5, 5, 5.5, 6, 6.5, 7, 7.5, 8, 8.5, 9, 9.5, 10]);"
   ]
  },
  {
   "cell_type": "code",
   "execution_count": 76,
   "id": "184f8094",
   "metadata": {},
   "outputs": [
    {
     "name": "stderr",
     "output_type": "stream",
     "text": [
      "C:\\Users\\david\\AppData\\Local\\Programs\\Python\\Python310\\lib\\site-packages\\seaborn\\_decorators.py:36: FutureWarning: Pass the following variable as a keyword arg: x. From version 0.12, the only valid positional argument will be `data`, and passing other arguments without an explicit keyword will result in an error or misinterpretation.\n",
      "  warnings.warn(\n"
     ]
    },
    {
     "data": {
      "image/png": "[encoded data removed]",
      "text/plain": [
       "<Figure size 432x288 with 1 Axes>"
      ]
     },
     "metadata": {
      "needs_background": "light"
     },
     "output_type": "display_data"
    }
   ],
   "source": [
    "sb.countplot(df_main['Category'], orient = 'v');"
   ]
  },
  {
   "cell_type": "code",
   "execution_count": 77,
   "id": "2254b1b6",
   "metadata": {},
   "outputs": [
    {
     "data": {
      "text/plain": [
       "Movie      33\n",
       "TV Show    10\n",
       "Other       9\n",
       "Food        2\n",
       "Person      1\n",
       "Name: Category, dtype: int64"
      ]
     },
     "execution_count": 77,
     "metadata": {},
     "output_type": "execute_result"
    }
   ],
   "source": [
    "df_main['Category'].value_counts()"
   ]
  },
  {
   "cell_type": "code",
   "execution_count": 58,
   "id": "b2eaf380",
   "metadata": {},
   "outputs": [
    {
     "data": {
      "text/html": [
       "<div>\n",
       "<style scoped>\n",
       "    .dataframe tbody tr th:only-of-type {\n",
       "        vertical-align: middle;\n",
       "    }\n",
       "\n",
       "    .dataframe tbody tr th {\n",
       "        vertical-align: top;\n",
       "    }\n",
       "\n",
       "    .dataframe thead th {\n",
       "        text-align: right;\n",
       "    }\n",
       "</style>\n",
       "<table border=\"1\" class=\"dataframe\">\n",
       "  <thead>\n",
       "    <tr style=\"text-align: right;\">\n",
       "      <th></th>\n",
       "      <th>Name</th>\n",
       "      <th>Category</th>\n",
       "      <th>Rating</th>\n",
       "      <th>Flickable</th>\n",
       "      <th>Episode Number</th>\n",
       "      <th>Notes</th>\n",
       "    </tr>\n",
       "  </thead>\n",
       "  <tbody>\n",
       "    <tr>\n",
       "      <th>268</th>\n",
       "      <td>Caelan's second daughter</td>\n",
       "      <td>Person</td>\n",
       "      <td>9.1</td>\n",
       "      <td>Yes</td>\n",
       "      <td>246</td>\n",
       "      <td>NaN</td>\n",
       "    </tr>\n",
       "    <tr>\n",
       "      <th>273</th>\n",
       "      <td>Doctor Sleep</td>\n",
       "      <td>Movie</td>\n",
       "      <td>9.1</td>\n",
       "      <td>Yes</td>\n",
       "      <td>251</td>\n",
       "      <td>NaN</td>\n",
       "    </tr>\n",
       "    <tr>\n",
       "      <th>276</th>\n",
       "      <td>Borat Subsequent Moviefilm</td>\n",
       "      <td>Movie</td>\n",
       "      <td>9.3</td>\n",
       "      <td>Yes</td>\n",
       "      <td>256</td>\n",
       "      <td>NaN</td>\n",
       "    </tr>\n",
       "    <tr>\n",
       "      <th>251</th>\n",
       "      <td>Starship Troopers</td>\n",
       "      <td>Movie</td>\n",
       "      <td>9.4</td>\n",
       "      <td>Yes</td>\n",
       "      <td>222</td>\n",
       "      <td>NaN</td>\n",
       "    </tr>\n",
       "    <tr>\n",
       "      <th>272</th>\n",
       "      <td>The Social Dilemma</td>\n",
       "      <td>Movie</td>\n",
       "      <td>9.6</td>\n",
       "      <td>Yes</td>\n",
       "      <td>250</td>\n",
       "      <td>NaN</td>\n",
       "    </tr>\n",
       "    <tr>\n",
       "      <th>257</th>\n",
       "      <td>Jumanji</td>\n",
       "      <td>Movie</td>\n",
       "      <td>9.7</td>\n",
       "      <td>Yes</td>\n",
       "      <td>230</td>\n",
       "      <td>NaN</td>\n",
       "    </tr>\n",
       "    <tr>\n",
       "      <th>269</th>\n",
       "      <td>Some cold cut from some unnamed Italian deli</td>\n",
       "      <td>Food</td>\n",
       "      <td>9.7</td>\n",
       "      <td>Yes</td>\n",
       "      <td>246</td>\n",
       "      <td>NaN</td>\n",
       "    </tr>\n",
       "    <tr>\n",
       "      <th>285</th>\n",
       "      <td>The Mandalorian (Season 2)</td>\n",
       "      <td>TV Show</td>\n",
       "      <td>9.7</td>\n",
       "      <td>Yes</td>\n",
       "      <td>263</td>\n",
       "      <td>NaN</td>\n",
       "    </tr>\n",
       "    <tr>\n",
       "      <th>263</th>\n",
       "      <td>The Biehn scale itself</td>\n",
       "      <td>Other</td>\n",
       "      <td>9.9</td>\n",
       "      <td>Yes</td>\n",
       "      <td>239</td>\n",
       "      <td>As requested by Jeff Cesario</td>\n",
       "    </tr>\n",
       "    <tr>\n",
       "      <th>286</th>\n",
       "      <td>Michelle Pfeiffer as Catwoman</td>\n",
       "      <td>Other</td>\n",
       "      <td>10.0</td>\n",
       "      <td>Yes</td>\n",
       "      <td>263</td>\n",
       "      <td>NaN</td>\n",
       "    </tr>\n",
       "  </tbody>\n",
       "</table>\n",
       "</div>"
      ],
      "text/plain": [
       "                                             Name Category  Rating Flickable  \\\n",
       "268                      Caelan's second daughter   Person     9.1       Yes   \n",
       "273                                  Doctor Sleep    Movie     9.1       Yes   \n",
       "276                    Borat Subsequent Moviefilm    Movie     9.3       Yes   \n",
       "251                             Starship Troopers    Movie     9.4       Yes   \n",
       "272                            The Social Dilemma    Movie     9.6       Yes   \n",
       "257                                       Jumanji    Movie     9.7       Yes   \n",
       "269  Some cold cut from some unnamed Italian deli     Food     9.7       Yes   \n",
       "285                    The Mandalorian (Season 2)  TV Show     9.7       Yes   \n",
       "263                        The Biehn scale itself    Other     9.9       Yes   \n",
       "286                 Michelle Pfeiffer as Catwoman    Other    10.0       Yes   \n",
       "\n",
       "     Episode Number                         Notes  \n",
       "268             246                           NaN  \n",
       "273             251                           NaN  \n",
       "276             256                           NaN  \n",
       "251             222                           NaN  \n",
       "272             250                           NaN  \n",
       "257             230                           NaN  \n",
       "269             246                           NaN  \n",
       "285             263                           NaN  \n",
       "263             239  As requested by Jeff Cesario  \n",
       "286             263                           NaN  "
      ]
     },
     "execution_count": 58,
     "metadata": {},
     "output_type": "execute_result"
    }
   ],
   "source": [
    "(df_main[df_main['Rating'] > 9]).sort_values(by = ['Rating'])"
   ]
  },
  {
   "cell_type": "code",
   "execution_count": 50,
   "id": "580043c3",
   "metadata": {},
   "outputs": [
    {
     "data": {
      "text/html": [
       "<div>\n",
       "<style scoped>\n",
       "    .dataframe tbody tr th:only-of-type {\n",
       "        vertical-align: middle;\n",
       "    }\n",
       "\n",
       "    .dataframe tbody tr th {\n",
       "        vertical-align: top;\n",
       "    }\n",
       "\n",
       "    .dataframe thead th {\n",
       "        text-align: right;\n",
       "    }\n",
       "</style>\n",
       "<table border=\"1\" class=\"dataframe\">\n",
       "  <thead>\n",
       "    <tr style=\"text-align: right;\">\n",
       "      <th></th>\n",
       "      <th>Name</th>\n",
       "      <th>Category</th>\n",
       "      <th>Rating</th>\n",
       "      <th>Flickable</th>\n",
       "      <th>Episode Number</th>\n",
       "      <th>Notes</th>\n",
       "    </tr>\n",
       "  </thead>\n",
       "  <tbody>\n",
       "    <tr>\n",
       "      <th>243</th>\n",
       "      <td>The Hunt</td>\n",
       "      <td>Movie</td>\n",
       "      <td>3.5</td>\n",
       "      <td>No</td>\n",
       "      <td>210</td>\n",
       "      <td>NaN</td>\n",
       "    </tr>\n",
       "    <tr>\n",
       "      <th>259</th>\n",
       "      <td>Jumanji: Next Level</td>\n",
       "      <td>Movie</td>\n",
       "      <td>3.0</td>\n",
       "      <td>No</td>\n",
       "      <td>230</td>\n",
       "      <td>Technically scored by Matt, but Caelan officia...</td>\n",
       "    </tr>\n",
       "    <tr>\n",
       "      <th>270</th>\n",
       "      <td>Project Power</td>\n",
       "      <td>Movie</td>\n",
       "      <td>3.9</td>\n",
       "      <td>No</td>\n",
       "      <td>247</td>\n",
       "      <td>NaN</td>\n",
       "    </tr>\n",
       "    <tr>\n",
       "      <th>271</th>\n",
       "      <td>An American Pickle</td>\n",
       "      <td>Movie</td>\n",
       "      <td>3.2</td>\n",
       "      <td>No</td>\n",
       "      <td>249</td>\n",
       "      <td>NaN</td>\n",
       "    </tr>\n",
       "  </tbody>\n",
       "</table>\n",
       "</div>"
      ],
      "text/plain": [
       "                    Name Category  Rating Flickable  Episode Number  \\\n",
       "243             The Hunt    Movie     3.5        No             210   \n",
       "259  Jumanji: Next Level    Movie     3.0        No             230   \n",
       "270        Project Power    Movie     3.9        No             247   \n",
       "271   An American Pickle    Movie     3.2        No             249   \n",
       "\n",
       "                                                 Notes  \n",
       "243                                                NaN  \n",
       "259  Technically scored by Matt, but Caelan officia...  \n",
       "270                                                NaN  \n",
       "271                                                NaN  "
      ]
     },
     "execution_count": 50,
     "metadata": {},
     "output_type": "execute_result"
    }
   ],
   "source": [
    "df_main[df_main['Rating'] < 4]"
   ]
  },
  {
   "cell_type": "code",
   "execution_count": 79,
   "id": "f4359b32",
   "metadata": {},
   "outputs": [
    {
     "data": {
      "text/html": [
       "<div>\n",
       "<style scoped>\n",
       "    .dataframe tbody tr th:only-of-type {\n",
       "        vertical-align: middle;\n",
       "    }\n",
       "\n",
       "    .dataframe tbody tr th {\n",
       "        vertical-align: top;\n",
       "    }\n",
       "\n",
       "    .dataframe thead th {\n",
       "        text-align: right;\n",
       "    }\n",
       "</style>\n",
       "<table border=\"1\" class=\"dataframe\">\n",
       "  <thead>\n",
       "    <tr style=\"text-align: right;\">\n",
       "      <th></th>\n",
       "      <th>Name</th>\n",
       "      <th>Category</th>\n",
       "      <th>Rating</th>\n",
       "      <th>Flickable</th>\n",
       "      <th>Episode Number</th>\n",
       "      <th>Notes</th>\n",
       "    </tr>\n",
       "  </thead>\n",
       "  <tbody>\n",
       "    <tr>\n",
       "      <th>242</th>\n",
       "      <td>Being in quarantine</td>\n",
       "      <td>Other</td>\n",
       "      <td>5.5</td>\n",
       "      <td>Yes</td>\n",
       "      <td>209</td>\n",
       "      <td>First show when COVID hit big</td>\n",
       "    </tr>\n",
       "    <tr>\n",
       "      <th>263</th>\n",
       "      <td>The Biehn scale itself</td>\n",
       "      <td>Other</td>\n",
       "      <td>9.9</td>\n",
       "      <td>Yes</td>\n",
       "      <td>239</td>\n",
       "      <td>As requested by Jeff Cesario</td>\n",
       "    </tr>\n",
       "    <tr>\n",
       "      <th>277</th>\n",
       "      <td>Turquoise (the color)</td>\n",
       "      <td>Other</td>\n",
       "      <td>7.1</td>\n",
       "      <td>No</td>\n",
       "      <td>257</td>\n",
       "      <td>The Biehn Scale game!</td>\n",
       "    </tr>\n",
       "    <tr>\n",
       "      <th>278</th>\n",
       "      <td>Uranium</td>\n",
       "      <td>Other</td>\n",
       "      <td>8.8</td>\n",
       "      <td>Yes</td>\n",
       "      <td>257</td>\n",
       "      <td>NaN</td>\n",
       "    </tr>\n",
       "    <tr>\n",
       "      <th>279</th>\n",
       "      <td>Mac n cheese on Thanksgiving</td>\n",
       "      <td>Other</td>\n",
       "      <td>8.6</td>\n",
       "      <td>No</td>\n",
       "      <td>257</td>\n",
       "      <td>NaN</td>\n",
       "    </tr>\n",
       "    <tr>\n",
       "      <th>280</th>\n",
       "      <td>Mercury (the planet)</td>\n",
       "      <td>Other</td>\n",
       "      <td>4.4</td>\n",
       "      <td>No</td>\n",
       "      <td>257</td>\n",
       "      <td>\"What a boring planet.\"</td>\n",
       "    </tr>\n",
       "    <tr>\n",
       "      <th>281</th>\n",
       "      <td>Birds</td>\n",
       "      <td>Other</td>\n",
       "      <td>7.7</td>\n",
       "      <td>Yes</td>\n",
       "      <td>257</td>\n",
       "      <td>NaN</td>\n",
       "    </tr>\n",
       "    <tr>\n",
       "      <th>286</th>\n",
       "      <td>Michelle Pfeiffer as Catwoman</td>\n",
       "      <td>Other</td>\n",
       "      <td>10.0</td>\n",
       "      <td>Yes</td>\n",
       "      <td>263</td>\n",
       "      <td>NaN</td>\n",
       "    </tr>\n",
       "    <tr>\n",
       "      <th>295</th>\n",
       "      <td>The Last Blockbuster</td>\n",
       "      <td>Other</td>\n",
       "      <td>6.1</td>\n",
       "      <td>Yes</td>\n",
       "      <td>276</td>\n",
       "      <td>The 4 banger</td>\n",
       "    </tr>\n",
       "  </tbody>\n",
       "</table>\n",
       "</div>"
      ],
      "text/plain": [
       "                              Name Category  Rating Flickable  Episode Number  \\\n",
       "242            Being in quarantine    Other     5.5       Yes             209   \n",
       "263         The Biehn scale itself    Other     9.9       Yes             239   \n",
       "277          Turquoise (the color)    Other     7.1        No             257   \n",
       "278                        Uranium    Other     8.8       Yes             257   \n",
       "279   Mac n cheese on Thanksgiving    Other     8.6        No             257   \n",
       "280           Mercury (the planet)    Other     4.4        No             257   \n",
       "281                          Birds    Other     7.7       Yes             257   \n",
       "286  Michelle Pfeiffer as Catwoman    Other    10.0       Yes             263   \n",
       "295           The Last Blockbuster    Other     6.1       Yes             276   \n",
       "\n",
       "                             Notes  \n",
       "242  First show when COVID hit big  \n",
       "263   As requested by Jeff Cesario  \n",
       "277          The Biehn Scale game!  \n",
       "278                            NaN  \n",
       "279                            NaN  \n",
       "280        \"What a boring planet.\"  \n",
       "281                            NaN  \n",
       "286                            NaN  \n",
       "295                   The 4 banger  "
      ]
     },
     "execution_count": 79,
     "metadata": {},
     "output_type": "execute_result"
    }
   ],
   "source": [
    "df_main[df_main['Category'] == 'Other']"
   ]
  },
  {
   "cell_type": "code",
   "execution_count": null,
   "id": "942769a3",
   "metadata": {},
   "outputs": [],
   "source": []
  }
 ],
 "metadata": {
  "kernelspec": {
   "display_name": "Python 3 (ipykernel)",
   "language": "python",
   "name": "python3"
  },
  "language_info": {
   "codemirror_mode": {
    "name": "ipython",
    "version": 3
   },
   "file_extension": ".py",
   "mimetype": "text/x-python",
   "name": "python",
   "nbconvert_exporter": "python",
   "pygments_lexer": "ipython3",
   "version": "3.10.1"
  }
 },
 "nbformat": 4,
 "nbformat_minor": 5
}
