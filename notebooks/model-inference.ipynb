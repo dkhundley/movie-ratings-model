{
 "cells": [
  {
   "cell_type": "markdown",
   "id": "d272e7b1",
   "metadata": {},
   "source": [
    "# Model Inference\n",
    "Now that we have finally finished training our respective models, we are ready to craft the inference script that will generate scores from each of the respective models. Once this inference script is complete, we will make use of it as part of a FastAPI API that will serve a tiny webpage on the Heroku platform!"
   ]
  },
  {
   "cell_type": "markdown",
   "id": "b7b3987e",
   "metadata": {},
   "source": [
    "## Project Setup\n",
    "Before jumping into the inference script, we will need to do some setup to import things like Pandas libraries, API keys, helper functions, and of course, the serialized model pipelines."
   ]
  },
  {
   "cell_type": "code",
   "execution_count": 1,
   "id": "b19708df",
   "metadata": {},
   "outputs": [],
   "source": [
    "# Importing the necessary Python libraries\n",
    "import sys\n",
    "import json\n",
    "import yaml\n",
    "import cloudpickle\n",
    "import numpy as np\n",
    "import pandas as pd\n",
    "import tmdbv3api\n",
    "from imdb import IMDb\n",
    "from omdb import OMDBClient\n",
    "from rotten_tomatoes_scraper.rt_scraper import MovieScraper"
   ]
  },
  {
   "cell_type": "code",
   "execution_count": 2,
   "id": "9e985d2a",
   "metadata": {},
   "outputs": [],
   "source": [
    "# Importing the inference helper functions\n",
    "sys.path.insert(0, '../container/model-training/')\n",
    "from helpers import *"
   ]
  },
  {
   "cell_type": "code",
   "execution_count": 3,
   "id": "39e7ffb9",
   "metadata": {},
   "outputs": [],
   "source": [
    "# Loading the API keys from the separate, secret YAML file\n",
    "with open('../keys/keys.yml', 'r') as f:\n",
    "    keys_yaml = yaml.safe_load(f)\n",
    "\n",
    "# Extracting the API keys from the loaded YAML\n",
    "tmdb_key = keys_yaml['api_keys']['tmdb_key']\n",
    "omdb_key = keys_yaml['api_keys']['omdb_key']"
   ]
  },
  {
   "cell_type": "code",
   "execution_count": 4,
   "id": "13755c84",
   "metadata": {},
   "outputs": [],
   "source": [
    "# Loading the models from the serialized pickle files\n",
    "with open('../models/binary_classification_pipeline.pkl', 'rb') as f:\n",
    "    binary_classification_pipeline = cloudpickle.load(f)\n",
    "with open('../models/regression_pipeline.pkl', 'rb') as f:\n",
    "    regression_pipeline = cloudpickle.load(f)"
   ]
  },
  {
   "cell_type": "code",
   "execution_count": 5,
   "id": "e75fbd75",
   "metadata": {},
   "outputs": [],
   "source": [
    "# Defining which features to keep from each respective source\n",
    "TMDB_FEATS = ['tmdb_id', 'imdb_id', 'budget', 'primary_genre', 'secondary_genre',\n",
    "              'tmdb_popularity', 'revenue', 'runtime', 'tmdb_vote_average', 'tmdb_vote_count']\n",
    "IMDB_FEATS = ['imdb_rating', 'imdb_votes', 'year']\n",
    "OMDB_FEATS = ['rt_critic_score', 'metascore']\n",
    "ROTT_FEATS = ['rt_audience_score']\n",
    "ALL_FEATS = TMDB_FEATS + IMDB_FEATS + OMDB_FEATS + ROTT_FEATS"
   ]
  },
  {
   "cell_type": "code",
   "execution_count": 6,
   "id": "1e5f820c",
   "metadata": {},
   "outputs": [],
   "source": [
    "# Instantiating the TMDb objects and setting the API key\n",
    "tmdb = tmdbv3api.TMDb()\n",
    "tmdb_search = tmdbv3api.Search()\n",
    "tmdb_movies = tmdbv3api.Movie()\n",
    "tmdb.api_key = tmdb_key\n",
    "\n",
    "# Instantiating the IMDbPY search object\n",
    "imdb_search = IMDb()\n",
    "\n",
    "# Instantiating the OMDb client\n",
    "omdb_client = OMDBClient(apikey = omdb_key)"
   ]
  },
  {
   "cell_type": "code",
   "execution_count": 7,
   "id": "e98d20c3",
   "metadata": {},
   "outputs": [],
   "source": [
    "# Creating initial Pandas DataFrame\n",
    "df = pd.DataFrame(data = ['The Matrix'], columns = ['movie_name'])"
   ]
  },
  {
   "cell_type": "code",
   "execution_count": 8,
   "id": "5600fa69",
   "metadata": {},
   "outputs": [],
   "source": [
    "# Extracting the demo movie name from df\n",
    "movie_name = df['movie_name'][0]"
   ]
  },
  {
   "cell_type": "markdown",
   "id": "6fd8d158",
   "metadata": {},
   "source": [
    "## Data Gathering\n",
    "Before we can produce an inference on a particular movie, we will need to gather the raw data from the APIs and craft them appropriately in a Pandas DataFrame."
   ]
  },
  {
   "cell_type": "markdown",
   "id": "83f88072",
   "metadata": {},
   "source": [
    "### TMDb Data Gathering"
   ]
  },
  {
   "cell_type": "code",
   "execution_count": 9,
   "id": "811fff38",
   "metadata": {},
   "outputs": [],
   "source": [
    "# Getting TMDb full search results\n",
    "tmdb_search_results = tmdb_search.movies({'query': movie_name})"
   ]
  },
  {
   "cell_type": "code",
   "execution_count": 10,
   "id": "c8bebc05",
   "metadata": {},
   "outputs": [],
   "source": [
    "# Extracting tmdb_id if search results exist\n",
    "if len(tmdb_search_results) != 0:\n",
    "    tmdb_id = tmdb_search_results[0]['id']\n",
    "else:\n",
    "    print(f'Results not found for title: {movie_name}.')"
   ]
  },
  {
   "cell_type": "code",
   "execution_count": 11,
   "id": "6f476437",
   "metadata": {},
   "outputs": [],
   "source": [
    "# Getting the details of the movie using the tmdb_id\n",
    "tmdb_details = dict(tmdb_movies.details(tmdb_id))"
   ]
  },
  {
   "cell_type": "code",
   "execution_count": 12,
   "id": "8e99ff61",
   "metadata": {},
   "outputs": [],
   "source": [
    "# Adding tmdb_id to tmdb_details dictionary\n",
    "tmdb_details['tmdb_id'] = tmdb_id"
   ]
  },
  {
   "cell_type": "code",
   "execution_count": 13,
   "id": "2c1de603",
   "metadata": {},
   "outputs": [],
   "source": [
    "# Checking the length of TMDb genres to see if there is a secondary genre\n",
    "tmdb_genre_length = len(tmdb_details['genres'])"
   ]
  },
  {
   "cell_type": "code",
   "execution_count": 14,
   "id": "7aba01b3",
   "metadata": {},
   "outputs": [],
   "source": [
    "# Separating the primary_genre from the 'genres' nested child dictionary if it exists\n",
    "if tmdb_genre_length == 0:\n",
    "    tmdb_details['primary_genre'] = np.nan\n",
    "else:\n",
    "    tmdb_details['primary_genre'] = tmdb_details['genres'][0]['name']\n",
    "\n",
    "# Separating the secondary_genre from the 'genres' nested child dictionary if it exists\n",
    "if tmdb_genre_length >= 2:\n",
    "    tmdb_details['secondary_genre'] = tmdb_details['genres'][1]['name']\n",
    "else:\n",
    "    tmdb_details['secondary_genre'] = np.nan"
   ]
  },
  {
   "cell_type": "code",
   "execution_count": 15,
   "id": "b5db7ec4",
   "metadata": {},
   "outputs": [],
   "source": [
    "# Renaming some TMDb columns appropriately\n",
    "tmdb_details['tmdb_popularity'] = tmdb_details.pop('popularity')\n",
    "tmdb_details['tmdb_vote_average'] = tmdb_details.pop('vote_average')\n",
    "tmdb_details['tmdb_vote_count'] = tmdb_details.pop('vote_count')"
   ]
  },
  {
   "cell_type": "code",
   "execution_count": 16,
   "id": "f26564b8",
   "metadata": {},
   "outputs": [],
   "source": [
    "# Adding the TMDb features to df\n",
    "for feat in TMDB_FEATS:\n",
    "    df[feat] = tmdb_details[feat]"
   ]
  },
  {
   "cell_type": "code",
   "execution_count": 17,
   "id": "1447bcdd",
   "metadata": {},
   "outputs": [
    {
     "data": {
      "text/html": [
       "<div>\n",
       "<style scoped>\n",
       "    .dataframe tbody tr th:only-of-type {\n",
       "        vertical-align: middle;\n",
       "    }\n",
       "\n",
       "    .dataframe tbody tr th {\n",
       "        vertical-align: top;\n",
       "    }\n",
       "\n",
       "    .dataframe thead th {\n",
       "        text-align: right;\n",
       "    }\n",
       "</style>\n",
       "<table border=\"1\" class=\"dataframe\">\n",
       "  <thead>\n",
       "    <tr style=\"text-align: right;\">\n",
       "      <th></th>\n",
       "      <th>movie_name</th>\n",
       "      <th>tmdb_id</th>\n",
       "      <th>imdb_id</th>\n",
       "      <th>budget</th>\n",
       "      <th>primary_genre</th>\n",
       "      <th>secondary_genre</th>\n",
       "      <th>tmdb_popularity</th>\n",
       "      <th>revenue</th>\n",
       "      <th>runtime</th>\n",
       "      <th>tmdb_vote_average</th>\n",
       "      <th>tmdb_vote_count</th>\n",
       "    </tr>\n",
       "  </thead>\n",
       "  <tbody>\n",
       "    <tr>\n",
       "      <th>0</th>\n",
       "      <td>The Matrix</td>\n",
       "      <td>624860</td>\n",
       "      <td>tt10838180</td>\n",
       "      <td>190000000</td>\n",
       "      <td>Science Fiction</td>\n",
       "      <td>Action</td>\n",
       "      <td>975.279</td>\n",
       "      <td>156497322</td>\n",
       "      <td>148</td>\n",
       "      <td>6.8</td>\n",
       "      <td>3117</td>\n",
       "    </tr>\n",
       "  </tbody>\n",
       "</table>\n",
       "</div>"
      ],
      "text/plain": [
       "   movie_name  tmdb_id     imdb_id     budget    primary_genre  \\\n",
       "0  The Matrix   624860  tt10838180  190000000  Science Fiction   \n",
       "\n",
       "  secondary_genre  tmdb_popularity    revenue  runtime  tmdb_vote_average  \\\n",
       "0          Action          975.279  156497322      148                6.8   \n",
       "\n",
       "   tmdb_vote_count  \n",
       "0             3117  "
      ]
     },
     "execution_count": 17,
     "metadata": {},
     "output_type": "execute_result"
    }
   ],
   "source": [
    "# Viewing what df looks like after getting TMDb data\n",
    "df"
   ]
  },
  {
   "cell_type": "markdown",
   "id": "d60e933b",
   "metadata": {},
   "source": [
    "### IMDb Data Gathering"
   ]
  },
  {
   "cell_type": "code",
   "execution_count": 18,
   "id": "1c67cc08",
   "metadata": {},
   "outputs": [
    {
     "data": {
      "text/plain": [
       "'10838180'"
      ]
     },
     "execution_count": 18,
     "metadata": {},
     "output_type": "execute_result"
    }
   ],
   "source": [
    "# Getting imdb_id from TMDb output and removing unnecessary characters\n",
    "imdb_id = df['imdb_id'][0]\n",
    "imdb_id = imdb_id[2:]\n",
    "imdb_id"
   ]
  },
  {
   "cell_type": "code",
   "execution_count": 19,
   "id": "82b6ec99",
   "metadata": {},
   "outputs": [],
   "source": [
    "# Using IMDbPY to get movie details using the IMDb ID\n",
    "imdb_details = dict(imdb_search.get_movie(imdb_id))"
   ]
  },
  {
   "cell_type": "code",
   "execution_count": 20,
   "id": "43971e5c",
   "metadata": {},
   "outputs": [],
   "source": [
    "# Renaming the features appropriately\n",
    "imdb_details['imdb_rating'] = imdb_details.pop('rating')\n",
    "imdb_details['imdb_votes'] = imdb_details.pop('votes')"
   ]
  },
  {
   "cell_type": "code",
   "execution_count": 21,
   "id": "5feb0057",
   "metadata": {},
   "outputs": [],
   "source": [
    "# Adding the IMDb features to df\n",
    "for feat in IMDB_FEATS:\n",
    "    df[feat] = imdb_details[feat]"
   ]
  },
  {
   "cell_type": "code",
   "execution_count": 22,
   "id": "50c45860",
   "metadata": {},
   "outputs": [
    {
     "data": {
      "text/html": [
       "<div>\n",
       "<style scoped>\n",
       "    .dataframe tbody tr th:only-of-type {\n",
       "        vertical-align: middle;\n",
       "    }\n",
       "\n",
       "    .dataframe tbody tr th {\n",
       "        vertical-align: top;\n",
       "    }\n",
       "\n",
       "    .dataframe thead th {\n",
       "        text-align: right;\n",
       "    }\n",
       "</style>\n",
       "<table border=\"1\" class=\"dataframe\">\n",
       "  <thead>\n",
       "    <tr style=\"text-align: right;\">\n",
       "      <th></th>\n",
       "      <th>movie_name</th>\n",
       "      <th>tmdb_id</th>\n",
       "      <th>imdb_id</th>\n",
       "      <th>budget</th>\n",
       "      <th>primary_genre</th>\n",
       "      <th>secondary_genre</th>\n",
       "      <th>tmdb_popularity</th>\n",
       "      <th>revenue</th>\n",
       "      <th>runtime</th>\n",
       "      <th>tmdb_vote_average</th>\n",
       "      <th>tmdb_vote_count</th>\n",
       "      <th>imdb_rating</th>\n",
       "      <th>imdb_votes</th>\n",
       "      <th>year</th>\n",
       "    </tr>\n",
       "  </thead>\n",
       "  <tbody>\n",
       "    <tr>\n",
       "      <th>0</th>\n",
       "      <td>The Matrix</td>\n",
       "      <td>624860</td>\n",
       "      <td>tt10838180</td>\n",
       "      <td>190000000</td>\n",
       "      <td>Science Fiction</td>\n",
       "      <td>Action</td>\n",
       "      <td>975.279</td>\n",
       "      <td>156497322</td>\n",
       "      <td>148</td>\n",
       "      <td>6.8</td>\n",
       "      <td>3117</td>\n",
       "      <td>5.7</td>\n",
       "      <td>201964</td>\n",
       "      <td>2021</td>\n",
       "    </tr>\n",
       "  </tbody>\n",
       "</table>\n",
       "</div>"
      ],
      "text/plain": [
       "   movie_name  tmdb_id     imdb_id     budget    primary_genre  \\\n",
       "0  The Matrix   624860  tt10838180  190000000  Science Fiction   \n",
       "\n",
       "  secondary_genre  tmdb_popularity    revenue  runtime  tmdb_vote_average  \\\n",
       "0          Action          975.279  156497322      148                6.8   \n",
       "\n",
       "   tmdb_vote_count  imdb_rating  imdb_votes  year  \n",
       "0             3117          5.7      201964  2021  "
      ]
     },
     "execution_count": 22,
     "metadata": {},
     "output_type": "execute_result"
    }
   ],
   "source": [
    "# Viewing what df looks like after getting IMDb data\n",
    "df"
   ]
  },
  {
   "cell_type": "markdown",
   "id": "3f6407cb",
   "metadata": {},
   "source": [
    "### OMDb Data Gathering"
   ]
  },
  {
   "cell_type": "code",
   "execution_count": 23,
   "id": "4cac435a",
   "metadata": {},
   "outputs": [],
   "source": [
    "# Using the OMDb client to search for the movie results using the IMDb ID\n",
    "omdb_details = omdb_client.imdbid(df['imdb_id'][0])"
   ]
  },
  {
   "cell_type": "code",
   "execution_count": 24,
   "id": "8b993857",
   "metadata": {},
   "outputs": [],
   "source": [
    "# Setting the Rotten Tomatoes critic score based on availability\n",
    "if len(omdb_details['ratings']) > 0:\n",
    "    for rater in omdb_details['ratings']:\n",
    "        if rater['source'] == 'Rotten Tomatoes':\n",
    "            omdb_details['rt_critic_score'] = rater['value']\n",
    "else:\n",
    "    omdb_details['rt_critic_score'] = np.nan"
   ]
  },
  {
   "cell_type": "code",
   "execution_count": 25,
   "id": "2edddb3a",
   "metadata": {},
   "outputs": [],
   "source": [
    "# Adding the OMDb features to df\n",
    "for feat in OMDB_FEATS:\n",
    "    df[feat] = omdb_details[feat]"
   ]
  },
  {
   "cell_type": "code",
   "execution_count": 26,
   "id": "0a7f43e6",
   "metadata": {},
   "outputs": [
    {
     "data": {
      "text/html": [
       "<div>\n",
       "<style scoped>\n",
       "    .dataframe tbody tr th:only-of-type {\n",
       "        vertical-align: middle;\n",
       "    }\n",
       "\n",
       "    .dataframe tbody tr th {\n",
       "        vertical-align: top;\n",
       "    }\n",
       "\n",
       "    .dataframe thead th {\n",
       "        text-align: right;\n",
       "    }\n",
       "</style>\n",
       "<table border=\"1\" class=\"dataframe\">\n",
       "  <thead>\n",
       "    <tr style=\"text-align: right;\">\n",
       "      <th></th>\n",
       "      <th>movie_name</th>\n",
       "      <th>tmdb_id</th>\n",
       "      <th>imdb_id</th>\n",
       "      <th>budget</th>\n",
       "      <th>primary_genre</th>\n",
       "      <th>secondary_genre</th>\n",
       "      <th>tmdb_popularity</th>\n",
       "      <th>revenue</th>\n",
       "      <th>runtime</th>\n",
       "      <th>tmdb_vote_average</th>\n",
       "      <th>tmdb_vote_count</th>\n",
       "      <th>imdb_rating</th>\n",
       "      <th>imdb_votes</th>\n",
       "      <th>year</th>\n",
       "      <th>rt_critic_score</th>\n",
       "      <th>metascore</th>\n",
       "    </tr>\n",
       "  </thead>\n",
       "  <tbody>\n",
       "    <tr>\n",
       "      <th>0</th>\n",
       "      <td>The Matrix</td>\n",
       "      <td>624860</td>\n",
       "      <td>tt10838180</td>\n",
       "      <td>190000000</td>\n",
       "      <td>Science Fiction</td>\n",
       "      <td>Action</td>\n",
       "      <td>975.279</td>\n",
       "      <td>156497322</td>\n",
       "      <td>148</td>\n",
       "      <td>6.8</td>\n",
       "      <td>3117</td>\n",
       "      <td>5.7</td>\n",
       "      <td>201964</td>\n",
       "      <td>2021</td>\n",
       "      <td>63%</td>\n",
       "      <td>63</td>\n",
       "    </tr>\n",
       "  </tbody>\n",
       "</table>\n",
       "</div>"
      ],
      "text/plain": [
       "   movie_name  tmdb_id     imdb_id     budget    primary_genre  \\\n",
       "0  The Matrix   624860  tt10838180  190000000  Science Fiction   \n",
       "\n",
       "  secondary_genre  tmdb_popularity    revenue  runtime  tmdb_vote_average  \\\n",
       "0          Action          975.279  156497322      148                6.8   \n",
       "\n",
       "   tmdb_vote_count  imdb_rating  imdb_votes  year rt_critic_score metascore  \n",
       "0             3117          5.7      201964  2021             63%        63  "
      ]
     },
     "execution_count": 26,
     "metadata": {},
     "output_type": "execute_result"
    }
   ],
   "source": [
    "# Viewing what df looks like after getting OMDb data\n",
    "df"
   ]
  },
  {
   "cell_type": "markdown",
   "id": "c96ae9ce",
   "metadata": {},
   "source": [
    "### Rotten Tomatoes Data Gathering"
   ]
  },
  {
   "cell_type": "code",
   "execution_count": 27,
   "id": "c8a68bae",
   "metadata": {},
   "outputs": [],
   "source": [
    "# Setting the Rotten Tomatoes audience score to be null if RT critic score is not present from OMDb output\n",
    "if str(df['rt_critic_score'][0]) == 'nan':\n",
    "    rt_movie_details = {'rt_audience_score': np.nan}\n",
    "else:\n",
    "    # Setting the Rotten Tomatoes audience score appropriately from the RT scraper object if present\n",
    "    try:\n",
    "        # Getting the movie metadata from the RT scraper\n",
    "        movie_name = df['movie_name'][0]\n",
    "        rt_movie_scraper = MovieScraper(movie_title = movie_name)\n",
    "        rt_movie_scraper.extract_metadata()\n",
    "        \n",
    "        # Extracting the critic and audience scores from the metadata\n",
    "        rt_critic_score = rt_movie_scraper.metadata['Score_Rotten']\n",
    "        rt_audience_score = rt_movie_scraper.metadata['Score_Audience']\n",
    "        \n",
    "        # Comparing the rt_critic_score from the RT scraper to the OMDb output\n",
    "        if rt_critic_score == df['rt_critic_score'][0][:2]:\n",
    "            rt_movie_details = {'rt_audience_score': rt_audience_score}\n",
    "        else:\n",
    "            rt_movie_details = {'rt_audience_score': np.nan}\n",
    "        \n",
    "    # Setting the Rotten Tomatoes audience score to be null if RT critic score is not present from OMDb output\n",
    "    except:\n",
    "        rt_movie_details = {'rt_audience_score': np.nan}"
   ]
  },
  {
   "cell_type": "code",
   "execution_count": 28,
   "id": "8bff79ae",
   "metadata": {},
   "outputs": [],
   "source": [
    "# Adding the ROTT features to df\n",
    "for feat in ROTT_FEATS:\n",
    "    df[feat] = rt_movie_details[feat]"
   ]
  },
  {
   "cell_type": "code",
   "execution_count": 29,
   "id": "7cc0d63a",
   "metadata": {},
   "outputs": [
    {
     "data": {
      "text/html": [
       "<div>\n",
       "<style scoped>\n",
       "    .dataframe tbody tr th:only-of-type {\n",
       "        vertical-align: middle;\n",
       "    }\n",
       "\n",
       "    .dataframe tbody tr th {\n",
       "        vertical-align: top;\n",
       "    }\n",
       "\n",
       "    .dataframe thead th {\n",
       "        text-align: right;\n",
       "    }\n",
       "</style>\n",
       "<table border=\"1\" class=\"dataframe\">\n",
       "  <thead>\n",
       "    <tr style=\"text-align: right;\">\n",
       "      <th></th>\n",
       "      <th>movie_name</th>\n",
       "      <th>tmdb_id</th>\n",
       "      <th>imdb_id</th>\n",
       "      <th>budget</th>\n",
       "      <th>primary_genre</th>\n",
       "      <th>secondary_genre</th>\n",
       "      <th>tmdb_popularity</th>\n",
       "      <th>revenue</th>\n",
       "      <th>runtime</th>\n",
       "      <th>tmdb_vote_average</th>\n",
       "      <th>tmdb_vote_count</th>\n",
       "      <th>imdb_rating</th>\n",
       "      <th>imdb_votes</th>\n",
       "      <th>year</th>\n",
       "      <th>rt_critic_score</th>\n",
       "      <th>metascore</th>\n",
       "      <th>rt_audience_score</th>\n",
       "    </tr>\n",
       "  </thead>\n",
       "  <tbody>\n",
       "    <tr>\n",
       "      <th>0</th>\n",
       "      <td>The Matrix</td>\n",
       "      <td>624860</td>\n",
       "      <td>tt10838180</td>\n",
       "      <td>190000000</td>\n",
       "      <td>Science Fiction</td>\n",
       "      <td>Action</td>\n",
       "      <td>975.279</td>\n",
       "      <td>156497322</td>\n",
       "      <td>148</td>\n",
       "      <td>6.8</td>\n",
       "      <td>3117</td>\n",
       "      <td>5.7</td>\n",
       "      <td>201964</td>\n",
       "      <td>2021</td>\n",
       "      <td>63%</td>\n",
       "      <td>63</td>\n",
       "      <td>NaN</td>\n",
       "    </tr>\n",
       "  </tbody>\n",
       "</table>\n",
       "</div>"
      ],
      "text/plain": [
       "   movie_name  tmdb_id     imdb_id     budget    primary_genre  \\\n",
       "0  The Matrix   624860  tt10838180  190000000  Science Fiction   \n",
       "\n",
       "  secondary_genre  tmdb_popularity    revenue  runtime  tmdb_vote_average  \\\n",
       "0          Action          975.279  156497322      148                6.8   \n",
       "\n",
       "   tmdb_vote_count  imdb_rating  imdb_votes  year rt_critic_score metascore  \\\n",
       "0             3117          5.7      201964  2021             63%        63   \n",
       "\n",
       "   rt_audience_score  \n",
       "0                NaN  "
      ]
     },
     "execution_count": 29,
     "metadata": {},
     "output_type": "execute_result"
    }
   ],
   "source": [
    "# Viewing what df looks like after getting Rotten Tomatoes data\n",
    "df"
   ]
  },
  {
   "cell_type": "markdown",
   "id": "3eb48592",
   "metadata": {},
   "source": [
    "## Model Inference\n",
    "Now that we have gotten all our data from the respective APIs, we are finally ready to generate an inference for our movie predictions!"
   ]
  },
  {
   "cell_type": "code",
   "execution_count": 30,
   "id": "b9eeff02",
   "metadata": {},
   "outputs": [],
   "source": [
    "# Getting the inference for the Biehn \"yes or no\" approval\n",
    "df['biehn_yes_or_no'] = binary_classification_pipeline.predict(df[ALL_FEATS])"
   ]
  },
  {
   "cell_type": "code",
   "execution_count": 31,
   "id": "3e72bdcc",
   "metadata": {},
   "outputs": [],
   "source": [
    "# Getting the inference for the Biehn Scale score\n",
    "df['biehn_scale_score'] = regression_pipeline.predict(df[ALL_FEATS])"
   ]
  },
  {
   "cell_type": "code",
   "execution_count": 32,
   "id": "b6fadcd6",
   "metadata": {},
   "outputs": [
    {
     "data": {
      "text/html": [
       "<div>\n",
       "<style scoped>\n",
       "    .dataframe tbody tr th:only-of-type {\n",
       "        vertical-align: middle;\n",
       "    }\n",
       "\n",
       "    .dataframe tbody tr th {\n",
       "        vertical-align: top;\n",
       "    }\n",
       "\n",
       "    .dataframe thead th {\n",
       "        text-align: right;\n",
       "    }\n",
       "</style>\n",
       "<table border=\"1\" class=\"dataframe\">\n",
       "  <thead>\n",
       "    <tr style=\"text-align: right;\">\n",
       "      <th></th>\n",
       "      <th>movie_name</th>\n",
       "      <th>biehn_yes_or_no</th>\n",
       "      <th>biehn_scale_score</th>\n",
       "    </tr>\n",
       "  </thead>\n",
       "  <tbody>\n",
       "    <tr>\n",
       "      <th>0</th>\n",
       "      <td>The Matrix</td>\n",
       "      <td>Yes</td>\n",
       "      <td>6.44178</td>\n",
       "    </tr>\n",
       "  </tbody>\n",
       "</table>\n",
       "</div>"
      ],
      "text/plain": [
       "   movie_name biehn_yes_or_no  biehn_scale_score\n",
       "0  The Matrix             Yes            6.44178"
      ]
     },
     "execution_count": 32,
     "metadata": {},
     "output_type": "execute_result"
    }
   ],
   "source": [
    "# Viewing the final inference output\n",
    "df[['movie_name', 'biehn_yes_or_no', 'biehn_scale_score']]"
   ]
  },
  {
   "cell_type": "code",
   "execution_count": null,
   "id": "cf9d68c2",
   "metadata": {},
   "outputs": [],
   "source": []
  }
 ],
 "metadata": {
  "kernelspec": {
   "display_name": "Python 3 (ipykernel)",
   "language": "python",
   "name": "python3"
  },
  "language_info": {
   "codemirror_mode": {
    "name": "ipython",
    "version": 3
   },
   "file_extension": ".py",
   "mimetype": "text/x-python",
   "name": "python",
   "nbconvert_exporter": "python",
   "pygments_lexer": "ipython3",
   "version": "3.10.1"
  }
 },
 "nbformat": 4,
 "nbformat_minor": 5
}
