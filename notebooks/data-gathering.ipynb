{
 "cells": [
  {
   "cell_type": "markdown",
   "id": "b06e9ef5",
   "metadata": {},
   "source": [
    "# Data Gathering\n",
    "As we are starting this project from total scratch, we need a means to get the data to support the machine learning model from wherever we can get it. Fortunately for us, a number of different movie APIs exist that we can call to get data relevant to support each reviewed movie."
   ]
  },
  {
   "cell_type": "markdown",
   "id": "7367e72c",
   "metadata": {},
   "source": [
    "## Project Setup"
   ]
  },
  {
   "cell_type": "code",
   "execution_count": null,
   "id": "0286d09f",
   "metadata": {},
   "outputs": [],
   "source": [
    "# Importing the necessary Python libraries\n",
    "import os\n",
    "import yaml\n",
    "import pandas as pd"
   ]
  },
  {
   "cell_type": "code",
   "execution_count": null,
   "id": "2f6744b4",
   "metadata": {},
   "outputs": [],
   "source": [
    "# Loading the API keys from the separate, secret YAML file\n",
    "with open('../keys/keys.yml', 'r') as f:\n",
    "    keys_yaml = yaml.safe_load(f)"
   ]
  },
  {
   "cell_type": "code",
   "execution_count": null,
   "id": "a0c31364",
   "metadata": {},
   "outputs": [],
   "source": [
    "# Extracting the API keys from the loaded YAML\n",
    "tmdb_key = keys_yaml['api_keys']['tmdb_key']"
   ]
  },
  {
   "cell_type": "markdown",
   "id": "c95026f7",
   "metadata": {},
   "source": [
    "## API #1: The Movie Database (TMDb)\n",
    "The first API we will be looking at is called **The Movie Database (TMDb)**, and it highly lauded as one of best APIs on the internet for gathering movie data. Fortunately for us, somebody created a Python wrapper that allows simple use of Python code to interact with this API.\n",
    "\n",
    "### TMDb API Key\n",
    "First, you will need to create a sign up to get an API key that will allow you to use the API. This API works on a \"freemium\" tier, but the part that costs is if you're going to use this API at a mass scale. Our project is well within the free tier, so you fortunately don't have to provide anything like a credit card number. But you will have to give some basic information, including your email. I will not be sharing my API key so as to maintain the ability to use the free tier. To sign up for your own API key, please follow the sign up instructions here: [TMDb API Key Registration](https://developers.themoviedb.org/3/getting-started/introduction)\n",
    "\n",
    "### TMDb Python Library\n",
    "There are a number of different user-created Python wrappers to support TMDb, but the one that appears to be the most popular is this one called **tmdbv3api**. The documentation for this API can be found at this link: [tmdbv3api Documentation](https://github.com/AnthonyBloomer/tmdbv3api). To install this Python library on your machine, run the following command:\n",
    "\n",
    "```\n",
    "pip install tmdbv3api\n",
    "```"
   ]
  },
  {
   "cell_type": "code",
   "execution_count": null,
   "id": "66c214b9",
   "metadata": {},
   "outputs": [],
   "source": []
  }
 ],
 "metadata": {
  "kernelspec": {
   "display_name": "Python 3",
   "language": "python",
   "name": "python3"
  },
  "language_info": {
   "codemirror_mode": {
    "name": "ipython",
    "version": 3
   },
   "file_extension": ".py",
   "mimetype": "text/x-python",
   "name": "python",
   "nbconvert_exporter": "python",
   "pygments_lexer": "ipython3",
   "version": "3.8.8"
  }
 },
 "nbformat": 4,
 "nbformat_minor": 5
}
