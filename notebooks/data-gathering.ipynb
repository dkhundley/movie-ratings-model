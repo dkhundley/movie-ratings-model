{
 "cells": [
  {
   "cell_type": "markdown",
   "id": "b06e9ef5",
   "metadata": {},
   "source": [
    "# Data Gathering\n",
    "As we are starting this project from total scratch, we need a means to get the data to support the machine learning model from wherever we can get it. Fortunately for us, a number of different movie APIs exist that we can call to get data relevant to support each reviewed movie."
   ]
  },
  {
   "cell_type": "markdown",
   "id": "7367e72c",
   "metadata": {},
   "source": [
    "## Project Setup"
   ]
  },
  {
   "cell_type": "code",
   "execution_count": 1,
   "id": "0286d09f",
   "metadata": {},
   "outputs": [],
   "source": [
    "# Importing the necessary Python libraries\n",
    "import os\n",
    "import yaml\n",
    "import numpy as np\n",
    "import pandas as pd\n",
    "import tmdbv3api"
   ]
  },
  {
   "cell_type": "code",
   "execution_count": 2,
   "id": "074ddd4d",
   "metadata": {},
   "outputs": [],
   "source": [
    "# Loading Caelan's ratings from Google Sheets-sourced CSV\n",
    "df_ratings = pd.read_csv('../data/raw/caelan-reviews.csv')"
   ]
  },
  {
   "cell_type": "code",
   "execution_count": 3,
   "id": "6171bd23",
   "metadata": {},
   "outputs": [
    {
     "data": {
      "text/html": [
       "<div>\n",
       "<style scoped>\n",
       "    .dataframe tbody tr th:only-of-type {\n",
       "        vertical-align: middle;\n",
       "    }\n",
       "\n",
       "    .dataframe tbody tr th {\n",
       "        vertical-align: top;\n",
       "    }\n",
       "\n",
       "    .dataframe thead th {\n",
       "        text-align: right;\n",
       "    }\n",
       "</style>\n",
       "<table border=\"1\" class=\"dataframe\">\n",
       "  <thead>\n",
       "    <tr style=\"text-align: right;\">\n",
       "      <th></th>\n",
       "      <th>Name</th>\n",
       "      <th>Rating</th>\n",
       "      <th>Flickable</th>\n",
       "    </tr>\n",
       "  </thead>\n",
       "  <tbody>\n",
       "    <tr>\n",
       "      <th>0</th>\n",
       "      <td>Zoolander 2</td>\n",
       "      <td>7.0</td>\n",
       "      <td>Yes</td>\n",
       "    </tr>\n",
       "    <tr>\n",
       "      <th>1</th>\n",
       "      <td>Dope</td>\n",
       "      <td>8.5</td>\n",
       "      <td>Yes</td>\n",
       "    </tr>\n",
       "    <tr>\n",
       "      <th>2</th>\n",
       "      <td>The Big Short</td>\n",
       "      <td>8.0</td>\n",
       "      <td>Yes</td>\n",
       "    </tr>\n",
       "    <tr>\n",
       "      <th>3</th>\n",
       "      <td>Deadpool</td>\n",
       "      <td>10.0</td>\n",
       "      <td>Yes</td>\n",
       "    </tr>\n",
       "    <tr>\n",
       "      <th>4</th>\n",
       "      <td>The Martian</td>\n",
       "      <td>8.0</td>\n",
       "      <td>Yes</td>\n",
       "    </tr>\n",
       "  </tbody>\n",
       "</table>\n",
       "</div>"
      ],
      "text/plain": [
       "            Name  Rating Flickable\n",
       "0    Zoolander 2     7.0       Yes\n",
       "1           Dope     8.5       Yes\n",
       "2  The Big Short     8.0       Yes\n",
       "3       Deadpool    10.0       Yes\n",
       "4    The Martian     8.0       Yes"
      ]
     },
     "execution_count": 3,
     "metadata": {},
     "output_type": "execute_result"
    }
   ],
   "source": [
    "# Viewing the first few rows of df_ratings\n",
    "df_ratings.head()"
   ]
  },
  {
   "cell_type": "code",
   "execution_count": 4,
   "id": "a9db50db",
   "metadata": {},
   "outputs": [
    {
     "name": "stdout",
     "output_type": "stream",
     "text": [
      "<class 'pandas.core.frame.DataFrame'>\n",
      "RangeIndex: 121 entries, 0 to 120\n",
      "Data columns (total 3 columns):\n",
      " #   Column     Non-Null Count  Dtype  \n",
      "---  ------     --------------  -----  \n",
      " 0   Name       121 non-null    object \n",
      " 1   Rating     121 non-null    float64\n",
      " 2   Flickable  121 non-null    object \n",
      "dtypes: float64(1), object(2)\n",
      "memory usage: 3.0+ KB\n"
     ]
    }
   ],
   "source": [
    "# Viewing the DataFrame info of df_ratings\n",
    "df_ratings.info()"
   ]
  },
  {
   "cell_type": "code",
   "execution_count": 5,
   "id": "2f6744b4",
   "metadata": {},
   "outputs": [],
   "source": [
    "# Loading the API keys from the separate, secret YAML file\n",
    "with open('../keys/keys.yml', 'r') as f:\n",
    "    keys_yaml = yaml.safe_load(f)"
   ]
  },
  {
   "cell_type": "code",
   "execution_count": 6,
   "id": "a0c31364",
   "metadata": {},
   "outputs": [],
   "source": [
    "# Extracting the API keys from the loaded YAML\n",
    "tmdb_key = keys_yaml['api_keys']['tmdb_key']"
   ]
  },
  {
   "cell_type": "markdown",
   "id": "c95026f7",
   "metadata": {},
   "source": [
    "## API #1: The Movie Database (TMDb)\n",
    "The first API we will be looking at is called **The Movie Database (TMDb)**, and it highly lauded as one of best APIs on the internet for gathering movie data. Fortunately for us, somebody created a Python wrapper that allows simple use of Python code to interact with this API.\n",
    "\n",
    "### TMDb API Key\n",
    "First, you will need to create a sign up to get an API key that will allow you to use the API. This API works on a \"freemium\" tier, but the part that costs is if you're going to use this API at a mass scale. Our project is well within the free tier, so you fortunately don't have to provide anything like a credit card number. But you will have to give some basic information, including your email. I will not be sharing my API key so as to maintain the ability to use the free tier. To sign up for your own API key, please follow the sign up instructions here: [TMDb API Key Registration](https://developers.themoviedb.org/3/getting-started/introduction)\n",
    "\n",
    "### TMDb Python Library\n",
    "There are a number of different user-created Python wrappers to support TMDb, but the one that appears to be the most popular is this one called **tmdbv3api**. The documentation for this API can be found at this link: [tmdbv3api Documentation](https://github.com/AnthonyBloomer/tmdbv3api). To install this Python library on your machine, run the following command:\n",
    "\n",
    "```\n",
    "pip install tmdbv3api\n",
    "```"
   ]
  },
  {
   "cell_type": "code",
   "execution_count": 7,
   "id": "66c214b9",
   "metadata": {},
   "outputs": [],
   "source": [
    "# Instantiating the TMDb objects and setting the API key\n",
    "tmdb = tmdbv3api.TMDb()\n",
    "tmdb_search = tmdbv3api.Search()\n",
    "tmdb_movies = tmdbv3api.Movie()\n",
    "tmdb.api_key = tmdb_key"
   ]
  },
  {
   "cell_type": "markdown",
   "id": "c982775b",
   "metadata": {},
   "source": [
    "#### Testing Process with Single Movie\n",
    "Before we craft something fancy, let's do some basic testing to see how we can get what we need using an example movie, which in this case is *The Matrix*."
   ]
  },
  {
   "cell_type": "code",
   "execution_count": 8,
   "id": "701f5f2c",
   "metadata": {},
   "outputs": [
    {
     "data": {
      "text/plain": [
       "603"
      ]
     },
     "execution_count": 8,
     "metadata": {},
     "output_type": "execute_result"
    }
   ],
   "source": [
    "# Getting the tmdb_id from the preliminary search\n",
    "tmdb_id = tmdb_search.movies({'query': 'The Matrix'})[0]['id']\n",
    "tmdb_id"
   ]
  },
  {
   "cell_type": "code",
   "execution_count": 9,
   "id": "eb5dfb39",
   "metadata": {},
   "outputs": [],
   "source": [
    "# Getting the details of the moving using the tmdb_id\n",
    "tmdb_details = dict(tmdb_movies.details(tmdb_id))"
   ]
  },
  {
   "cell_type": "code",
   "execution_count": 10,
   "id": "595caff0",
   "metadata": {},
   "outputs": [],
   "source": [
    "# Adding the movie_title and tmdb_id to the tmdb_details dictionary\n",
    "tmdb_details['movie_title'] = 'The Matrix'\n",
    "tmdb_details['tmdb_id'] = tmdb_id"
   ]
  },
  {
   "cell_type": "code",
   "execution_count": 11,
   "id": "34a55eb3",
   "metadata": {},
   "outputs": [
    {
     "data": {
      "text/plain": [
       "2"
      ]
     },
     "execution_count": 11,
     "metadata": {},
     "output_type": "execute_result"
    }
   ],
   "source": [
    "# Checking the length of TMDb genres to see if there is a secondary genre\n",
    "tmdb_genre_length = len(tmdb_details['genres'])\n",
    "tmdb_genre_length"
   ]
  },
  {
   "cell_type": "code",
   "execution_count": 12,
   "id": "cfb4bd08",
   "metadata": {},
   "outputs": [],
   "source": [
    "# Separating the primary_genre from the 'genres' nested child dictionary\n",
    "tmdb_details['primary_genre'] = tmdb_details['genres'][0]['name']"
   ]
  },
  {
   "cell_type": "code",
   "execution_count": 13,
   "id": "e30f1813",
   "metadata": {},
   "outputs": [],
   "source": [
    "# Separating the secondary_genre from the 'genres' nested child dictionary if it exists\n",
    "if tmdb_genre_length >= 2:\n",
    "    tmdb_details['secondary_genre'] = tmdb_details['genres'][1]['name']\n",
    "else:\n",
    "    tmdb_details['secondary_genre'] = 'No Secondary Genre'"
   ]
  },
  {
   "cell_type": "code",
   "execution_count": 14,
   "id": "bb320c15",
   "metadata": {},
   "outputs": [],
   "source": [
    "# Defining which features we need to keep from tmdb_details\n",
    "tmdb_feats = ['movie_title', 'tmdb_id', 'budget', 'primary_genre', 'secondary_genre', 'imdb_id', 'popularity', 'revenue', 'runtime', 'vote_average', 'vote_count']"
   ]
  },
  {
   "cell_type": "code",
   "execution_count": 15,
   "id": "836ac6b4",
   "metadata": {},
   "outputs": [
    {
     "data": {
      "text/plain": [
       "{'budget': 63000000,\n",
       " 'imdb_id': 'tt0133093',\n",
       " 'popularity': 111.724,\n",
       " 'revenue': 463517383,\n",
       " 'runtime': 136,\n",
       " 'vote_average': 8.2,\n",
       " 'vote_count': 19846,\n",
       " 'movie_title': 'The Matrix',\n",
       " 'tmdb_id': 603,\n",
       " 'primary_genre': 'Action',\n",
       " 'secondary_genre': 'Science Fiction'}"
      ]
     },
     "execution_count": 15,
     "metadata": {},
     "output_type": "execute_result"
    }
   ],
   "source": [
    "# Slimming down tmdb_details with only the features we want to keep\n",
    "tmdb_details = {key: value for key, value in tmdb_details.items() if key in tmdb_feats}\n",
    "tmdb_details"
   ]
  },
  {
   "cell_type": "code",
   "execution_count": 16,
   "id": "a07a2902",
   "metadata": {},
   "outputs": [
    {
     "data": {
      "text/html": [
       "<div>\n",
       "<style scoped>\n",
       "    .dataframe tbody tr th:only-of-type {\n",
       "        vertical-align: middle;\n",
       "    }\n",
       "\n",
       "    .dataframe tbody tr th {\n",
       "        vertical-align: top;\n",
       "    }\n",
       "\n",
       "    .dataframe thead th {\n",
       "        text-align: right;\n",
       "    }\n",
       "</style>\n",
       "<table border=\"1\" class=\"dataframe\">\n",
       "  <thead>\n",
       "    <tr style=\"text-align: right;\">\n",
       "      <th></th>\n",
       "      <th>budget</th>\n",
       "      <th>imdb_id</th>\n",
       "      <th>popularity</th>\n",
       "      <th>revenue</th>\n",
       "      <th>runtime</th>\n",
       "      <th>vote_average</th>\n",
       "      <th>vote_count</th>\n",
       "      <th>movie_title</th>\n",
       "      <th>tmdb_id</th>\n",
       "      <th>primary_genre</th>\n",
       "      <th>secondary_genre</th>\n",
       "    </tr>\n",
       "  </thead>\n",
       "  <tbody>\n",
       "    <tr>\n",
       "      <th>0</th>\n",
       "      <td>63000000</td>\n",
       "      <td>tt0133093</td>\n",
       "      <td>111.724</td>\n",
       "      <td>463517383</td>\n",
       "      <td>136</td>\n",
       "      <td>8.2</td>\n",
       "      <td>19846</td>\n",
       "      <td>The Matrix</td>\n",
       "      <td>603</td>\n",
       "      <td>Action</td>\n",
       "      <td>Science Fiction</td>\n",
       "    </tr>\n",
       "  </tbody>\n",
       "</table>\n",
       "</div>"
      ],
      "text/plain": [
       "     budget    imdb_id  popularity    revenue  runtime  vote_average  \\\n",
       "0  63000000  tt0133093     111.724  463517383      136           8.2   \n",
       "\n",
       "   vote_count movie_title  tmdb_id primary_genre  secondary_genre  \n",
       "0       19846  The Matrix      603        Action  Science Fiction  "
      ]
     },
     "execution_count": 16,
     "metadata": {},
     "output_type": "execute_result"
    }
   ],
   "source": [
    "# Converting the tmdb_details dictionary to a Python DataFrame\n",
    "new_tmdb_entry = pd.DataFrame.from_dict([tmdb_details])\n",
    "new_tmdb_entry"
   ]
  },
  {
   "cell_type": "markdown",
   "id": "24b4ba78",
   "metadata": {},
   "source": [
    "#### Creating TMDb Data Pipeline\n",
    "Now that we have our test working, we can go ahead and create a pipeline that will iterate through all the movies in the `df_ratings` DataFrame and get all the TMDb data that we need to perform feature engineering later."
   ]
  },
  {
   "cell_type": "code",
   "execution_count": 17,
   "id": "24bffcd5",
   "metadata": {},
   "outputs": [],
   "source": [
    "# Instantiating the TMDb objects and setting the API key\n",
    "tmdb = tmdbv3api.TMDb()\n",
    "tmdb_search = tmdbv3api.Search()\n",
    "tmdb_movies = tmdbv3api.Movie()\n",
    "tmdb.api_key = tmdb_key"
   ]
  },
  {
   "cell_type": "code",
   "execution_count": 27,
   "id": "e31ee2fa",
   "metadata": {},
   "outputs": [],
   "source": [
    "# Defining which features we need to keep from tmdb_details\n",
    "tmdb_feats = ['movie_title', 'rating', 'flickable', 'tmdb_id', 'imdb_id', 'budget', 'primary_genre', 'secondary_genre', 'popularity', 'revenue', 'runtime', 'vote_average', 'vote_count']"
   ]
  },
  {
   "cell_type": "code",
   "execution_count": 35,
   "id": "32a7d7ce",
   "metadata": {},
   "outputs": [],
   "source": [
    "# Creating a new DataFrame to hold all the TMDb data\n",
    "df_tmdb = pd.DataFrame(columns = tmdb_feats)"
   ]
  },
  {
   "cell_type": "code",
   "execution_count": 36,
   "id": "676f9a82",
   "metadata": {},
   "outputs": [],
   "source": [
    "# Iterating through the df_ratings DataFrame to get the names for extracting detailed info from TMDb\n",
    "for index, row in df_ratings.iterrows():\n",
    "    # Extracting info from df_ratings\n",
    "    movie_name = row['Name']\n",
    "    rating = row['Rating']\n",
    "    flickable = row['Flickable']\n",
    "    \n",
    "    # Performing the preliminary search\n",
    "    search_results = tmdb_search.movies({'query': movie_name})\n",
    "    \n",
    "    # Extracting tmdb_id if search results exist\n",
    "    if len(search_results) != 0:\n",
    "        tmdb_id = search_results[0]['id']\n",
    "    else:\n",
    "        print(f'Results not found for title: {movie_name}.')\n",
    "        continue\n",
    "    \n",
    "    # Getting the details of the movie using the tmdb_id\n",
    "    tmdb_details = dict(tmdb_movies.details(tmdb_id))\n",
    "    \n",
    "    # Adding the df_ratings info and tmdb_id to the tmdb_details dictionary\n",
    "    tmdb_details['movie_title'] = movie_name\n",
    "    tmdb_details['rating'] = rating\n",
    "    tmdb_details['flickable'] = flickable\n",
    "    tmdb_details['tmdb_id'] = tmdb_id\n",
    "    \n",
    "    # Checking the length of TMDb genres to see if there is a secondary genre\n",
    "    tmdb_genre_length = len(tmdb_details['genres'])\n",
    "    \n",
    "    # Separating the primary_genre from the 'genres' nested child dictionary if it exists\n",
    "    if tmdb_genre_length == 0:\n",
    "        tmdb_details['primary_genre'] = np.nan\n",
    "    else:\n",
    "        tmdb_details['primary_genre'] = tmdb_details['genres'][0]['name']\n",
    "        \n",
    "    # Separating the secondary_genre from the 'genres' nested child dictionary if it exists\n",
    "    if tmdb_genre_length >= 2:\n",
    "        tmdb_details['secondary_genre'] = tmdb_details['genres'][1]['name']\n",
    "    else:\n",
    "        tmdb_details['secondary_genre'] = np.nan\n",
    "    \n",
    "    # Slimming down tmdb_details with only the features we want to keep\n",
    "    tmdb_details = {key: value for key, value in tmdb_details.items() if key in tmdb_feats}\n",
    "    \n",
    "    # Converting the tmdb_details dictionary to a Pandas DataFrame\n",
    "    new_tmdb_entry = pd.DataFrame.from_dict([tmdb_details])\n",
    "    \n",
    "    # Appending the new movie entry to the overall df_tmdb DataFrame\n",
    "    df_tmdb = df_tmdb.append(new_tmdb_entry)"
   ]
  },
  {
   "cell_type": "code",
   "execution_count": 37,
   "id": "d58fade7",
   "metadata": {},
   "outputs": [
    {
     "data": {
      "text/html": [
       "<div>\n",
       "<style scoped>\n",
       "    .dataframe tbody tr th:only-of-type {\n",
       "        vertical-align: middle;\n",
       "    }\n",
       "\n",
       "    .dataframe tbody tr th {\n",
       "        vertical-align: top;\n",
       "    }\n",
       "\n",
       "    .dataframe thead th {\n",
       "        text-align: right;\n",
       "    }\n",
       "</style>\n",
       "<table border=\"1\" class=\"dataframe\">\n",
       "  <thead>\n",
       "    <tr style=\"text-align: right;\">\n",
       "      <th></th>\n",
       "      <th>movie_title</th>\n",
       "      <th>rating</th>\n",
       "      <th>flickable</th>\n",
       "      <th>tmdb_id</th>\n",
       "      <th>imdb_id</th>\n",
       "      <th>budget</th>\n",
       "      <th>primary_genre</th>\n",
       "      <th>secondary_genre</th>\n",
       "      <th>popularity</th>\n",
       "      <th>revenue</th>\n",
       "      <th>runtime</th>\n",
       "      <th>vote_average</th>\n",
       "      <th>vote_count</th>\n",
       "    </tr>\n",
       "  </thead>\n",
       "  <tbody>\n",
       "    <tr>\n",
       "      <th>0</th>\n",
       "      <td>Zoolander 2</td>\n",
       "      <td>7.0</td>\n",
       "      <td>Yes</td>\n",
       "      <td>329833</td>\n",
       "      <td>tt1608290</td>\n",
       "      <td>50000000</td>\n",
       "      <td>Comedy</td>\n",
       "      <td>NaN</td>\n",
       "      <td>12.902</td>\n",
       "      <td>55969000</td>\n",
       "      <td>100</td>\n",
       "      <td>4.8</td>\n",
       "      <td>1766</td>\n",
       "    </tr>\n",
       "    <tr>\n",
       "      <th>0</th>\n",
       "      <td>Dope</td>\n",
       "      <td>8.5</td>\n",
       "      <td>Yes</td>\n",
       "      <td>308639</td>\n",
       "      <td>tt3850214</td>\n",
       "      <td>700000</td>\n",
       "      <td>Crime</td>\n",
       "      <td>Drama</td>\n",
       "      <td>8.966</td>\n",
       "      <td>17986781</td>\n",
       "      <td>103</td>\n",
       "      <td>7.1</td>\n",
       "      <td>1179</td>\n",
       "    </tr>\n",
       "    <tr>\n",
       "      <th>0</th>\n",
       "      <td>The Big Short</td>\n",
       "      <td>8.0</td>\n",
       "      <td>Yes</td>\n",
       "      <td>318846</td>\n",
       "      <td>tt1596363</td>\n",
       "      <td>28000000</td>\n",
       "      <td>Comedy</td>\n",
       "      <td>Drama</td>\n",
       "      <td>19.466</td>\n",
       "      <td>133346506</td>\n",
       "      <td>131</td>\n",
       "      <td>7.3</td>\n",
       "      <td>6892</td>\n",
       "    </tr>\n",
       "    <tr>\n",
       "      <th>0</th>\n",
       "      <td>Deadpool</td>\n",
       "      <td>10.0</td>\n",
       "      <td>Yes</td>\n",
       "      <td>293660</td>\n",
       "      <td>tt1431045</td>\n",
       "      <td>58000000</td>\n",
       "      <td>Action</td>\n",
       "      <td>Adventure</td>\n",
       "      <td>115.889</td>\n",
       "      <td>783100000</td>\n",
       "      <td>108</td>\n",
       "      <td>7.6</td>\n",
       "      <td>25487</td>\n",
       "    </tr>\n",
       "    <tr>\n",
       "      <th>0</th>\n",
       "      <td>The Martian</td>\n",
       "      <td>8.0</td>\n",
       "      <td>Yes</td>\n",
       "      <td>286217</td>\n",
       "      <td>tt3659388</td>\n",
       "      <td>108000000</td>\n",
       "      <td>Drama</td>\n",
       "      <td>Adventure</td>\n",
       "      <td>62.166</td>\n",
       "      <td>630161890</td>\n",
       "      <td>144</td>\n",
       "      <td>7.7</td>\n",
       "      <td>16071</td>\n",
       "    </tr>\n",
       "  </tbody>\n",
       "</table>\n",
       "</div>"
      ],
      "text/plain": [
       "     movie_title  rating flickable tmdb_id    imdb_id     budget  \\\n",
       "0    Zoolander 2     7.0       Yes  329833  tt1608290   50000000   \n",
       "0           Dope     8.5       Yes  308639  tt3850214     700000   \n",
       "0  The Big Short     8.0       Yes  318846  tt1596363   28000000   \n",
       "0       Deadpool    10.0       Yes  293660  tt1431045   58000000   \n",
       "0    The Martian     8.0       Yes  286217  tt3659388  108000000   \n",
       "\n",
       "  primary_genre secondary_genre  popularity    revenue runtime  vote_average  \\\n",
       "0        Comedy             NaN      12.902   55969000     100           4.8   \n",
       "0         Crime           Drama       8.966   17986781     103           7.1   \n",
       "0        Comedy           Drama      19.466  133346506     131           7.3   \n",
       "0        Action       Adventure     115.889  783100000     108           7.6   \n",
       "0         Drama       Adventure      62.166  630161890     144           7.7   \n",
       "\n",
       "  vote_count  \n",
       "0       1766  \n",
       "0       1179  \n",
       "0       6892  \n",
       "0      25487  \n",
       "0      16071  "
      ]
     },
     "execution_count": 37,
     "metadata": {},
     "output_type": "execute_result"
    }
   ],
   "source": [
    "# Viewing the first few rows of the full TMDb data\n",
    "df_tmdb.head()"
   ]
  },
  {
   "cell_type": "code",
   "execution_count": 38,
   "id": "b2775e24",
   "metadata": {},
   "outputs": [
    {
     "name": "stdout",
     "output_type": "stream",
     "text": [
      "<class 'pandas.core.frame.DataFrame'>\n",
      "Int64Index: 121 entries, 0 to 0\n",
      "Data columns (total 13 columns):\n",
      " #   Column           Non-Null Count  Dtype  \n",
      "---  ------           --------------  -----  \n",
      " 0   movie_title      121 non-null    object \n",
      " 1   rating           121 non-null    float64\n",
      " 2   flickable        121 non-null    object \n",
      " 3   tmdb_id          121 non-null    object \n",
      " 4   imdb_id          121 non-null    object \n",
      " 5   budget           121 non-null    object \n",
      " 6   primary_genre    120 non-null    object \n",
      " 7   secondary_genre  108 non-null    object \n",
      " 8   popularity       121 non-null    float64\n",
      " 9   revenue          121 non-null    object \n",
      " 10  runtime          121 non-null    object \n",
      " 11  vote_average     121 non-null    float64\n",
      " 12  vote_count       121 non-null    object \n",
      "dtypes: float64(3), object(10)\n",
      "memory usage: 13.2+ KB\n"
     ]
    }
   ],
   "source": [
    "# Viewing the Pandas DataFrame info of the full TMDb data\n",
    "df_tmdb.info()"
   ]
  },
  {
   "cell_type": "code",
   "execution_count": 39,
   "id": "da528284",
   "metadata": {},
   "outputs": [],
   "source": [
    "# Saving out the TMDb data\n",
    "df_tmdb.to_csv('../data/raw/tmdb_data.csv', index = False)"
   ]
  },
  {
   "cell_type": "code",
   "execution_count": null,
   "id": "3a2eca7a",
   "metadata": {},
   "outputs": [],
   "source": []
  }
 ],
 "metadata": {
  "kernelspec": {
   "display_name": "Python 3",
   "language": "python",
   "name": "python3"
  },
  "language_info": {
   "codemirror_mode": {
    "name": "ipython",
    "version": 3
   },
   "file_extension": ".py",
   "mimetype": "text/x-python",
   "name": "python",
   "nbconvert_exporter": "python",
   "pygments_lexer": "ipython3",
   "version": "3.8.8"
  }
 },
 "nbformat": 4,
 "nbformat_minor": 5
}
