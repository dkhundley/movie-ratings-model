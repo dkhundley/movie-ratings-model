{
 "cells": [
  {
   "cell_type": "markdown",
   "id": "b06e9ef5",
   "metadata": {},
   "source": [
    "# Data Gathering\n",
    "As we are starting this project from total scratch, we need a means to get the data to support the machine learning model from wherever we can get it. Fortunately for us, a number of different movie APIs exist that we can call to get data relevant to support each reviewed movie."
   ]
  },
  {
   "cell_type": "markdown",
   "id": "7367e72c",
   "metadata": {},
   "source": [
    "## Project Setup"
   ]
  },
  {
   "cell_type": "code",
   "execution_count": 1,
   "id": "0286d09f",
   "metadata": {},
   "outputs": [],
   "source": [
    "# Importing the necessary Python libraries\n",
    "import os\n",
    "import yaml\n",
    "import numpy as np\n",
    "import pandas as pd\n",
    "import tmdbv3api\n",
    "from imdb import IMDb"
   ]
  },
  {
   "cell_type": "code",
   "execution_count": 2,
   "id": "074ddd4d",
   "metadata": {},
   "outputs": [],
   "source": [
    "# Loading Caelan's ratings from Google Sheets-sourced CSV\n",
    "df_ratings = pd.read_csv('../data/raw/caelan-reviews.csv')"
   ]
  },
  {
   "cell_type": "code",
   "execution_count": 3,
   "id": "6171bd23",
   "metadata": {},
   "outputs": [
    {
     "data": {
      "text/html": [
       "<div>\n",
       "<style scoped>\n",
       "    .dataframe tbody tr th:only-of-type {\n",
       "        vertical-align: middle;\n",
       "    }\n",
       "\n",
       "    .dataframe tbody tr th {\n",
       "        vertical-align: top;\n",
       "    }\n",
       "\n",
       "    .dataframe thead th {\n",
       "        text-align: right;\n",
       "    }\n",
       "</style>\n",
       "<table border=\"1\" class=\"dataframe\">\n",
       "  <thead>\n",
       "    <tr style=\"text-align: right;\">\n",
       "      <th></th>\n",
       "      <th>Name</th>\n",
       "      <th>Rating</th>\n",
       "      <th>Flickable</th>\n",
       "    </tr>\n",
       "  </thead>\n",
       "  <tbody>\n",
       "    <tr>\n",
       "      <th>0</th>\n",
       "      <td>Zoolander 2</td>\n",
       "      <td>7.0</td>\n",
       "      <td>Yes</td>\n",
       "    </tr>\n",
       "    <tr>\n",
       "      <th>1</th>\n",
       "      <td>Dope</td>\n",
       "      <td>8.5</td>\n",
       "      <td>Yes</td>\n",
       "    </tr>\n",
       "    <tr>\n",
       "      <th>2</th>\n",
       "      <td>The Big Short</td>\n",
       "      <td>8.0</td>\n",
       "      <td>Yes</td>\n",
       "    </tr>\n",
       "    <tr>\n",
       "      <th>3</th>\n",
       "      <td>Deadpool</td>\n",
       "      <td>10.0</td>\n",
       "      <td>Yes</td>\n",
       "    </tr>\n",
       "    <tr>\n",
       "      <th>4</th>\n",
       "      <td>The Martian</td>\n",
       "      <td>8.0</td>\n",
       "      <td>Yes</td>\n",
       "    </tr>\n",
       "  </tbody>\n",
       "</table>\n",
       "</div>"
      ],
      "text/plain": [
       "            Name  Rating Flickable\n",
       "0    Zoolander 2     7.0       Yes\n",
       "1           Dope     8.5       Yes\n",
       "2  The Big Short     8.0       Yes\n",
       "3       Deadpool    10.0       Yes\n",
       "4    The Martian     8.0       Yes"
      ]
     },
     "execution_count": 3,
     "metadata": {},
     "output_type": "execute_result"
    }
   ],
   "source": [
    "# Viewing the first few rows of df_ratings\n",
    "df_ratings.head()"
   ]
  },
  {
   "cell_type": "code",
   "execution_count": 4,
   "id": "a9db50db",
   "metadata": {},
   "outputs": [
    {
     "name": "stdout",
     "output_type": "stream",
     "text": [
      "<class 'pandas.core.frame.DataFrame'>\n",
      "RangeIndex: 121 entries, 0 to 120\n",
      "Data columns (total 3 columns):\n",
      " #   Column     Non-Null Count  Dtype  \n",
      "---  ------     --------------  -----  \n",
      " 0   Name       121 non-null    object \n",
      " 1   Rating     121 non-null    float64\n",
      " 2   Flickable  121 non-null    object \n",
      "dtypes: float64(1), object(2)\n",
      "memory usage: 3.0+ KB\n"
     ]
    }
   ],
   "source": [
    "# Viewing the DataFrame info of df_ratings\n",
    "df_ratings.info()"
   ]
  },
  {
   "cell_type": "code",
   "execution_count": 5,
   "id": "2f6744b4",
   "metadata": {},
   "outputs": [],
   "source": [
    "# Loading the API keys from the separate, secret YAML file\n",
    "with open('../keys/keys.yml', 'r') as f:\n",
    "    keys_yaml = yaml.safe_load(f)"
   ]
  },
  {
   "cell_type": "code",
   "execution_count": 6,
   "id": "a0c31364",
   "metadata": {},
   "outputs": [],
   "source": [
    "# Extracting the API keys from the loaded YAML\n",
    "tmdb_key = keys_yaml['api_keys']['tmdb_key']"
   ]
  },
  {
   "cell_type": "markdown",
   "id": "c95026f7",
   "metadata": {},
   "source": [
    "## Data Source #1: The Movie Database (TMDb)\n",
    "The first data source we will be looking at is called **The Movie Database (TMDb)**, and it highly lauded as one of best APIs on the internet for gathering movie data. Fortunately for us, somebody created a Python wrapper that allows simple use of Python code to interact with this API.\n",
    "\n",
    "### TMDb API Key\n",
    "First, you will need to create a sign up to get an API key that will allow you to use the API. This API works on a \"freemium\" tier, but the part that costs is if you're going to use this API at a mass scale. Our project is well within the free tier, so you fortunately don't have to provide anything like a credit card number. But you will have to give some basic information, including your email. I will not be sharing my API key so as to maintain the ability to use the free tier. To sign up for your own API key, please follow the sign up instructions here: [TMDb API Key Registration](https://developers.themoviedb.org/3/getting-started/introduction)\n",
    "\n",
    "### TMDb Python Library\n",
    "There are a number of different user-created Python wrappers to support TMDb, but the one that appears to be the most popular is this one called **tmdbv3api**. The documentation for this API can be found at this link: [tmdbv3api Documentation](https://github.com/AnthonyBloomer/tmdbv3api). To install this Python library on your machine, run the following command:\n",
    "\n",
    "```\n",
    "pip install tmdbv3api\n",
    "```"
   ]
  },
  {
   "cell_type": "code",
   "execution_count": 7,
   "id": "66c214b9",
   "metadata": {},
   "outputs": [],
   "source": [
    "# Instantiating the TMDb objects and setting the API key\n",
    "tmdb = tmdbv3api.TMDb()\n",
    "tmdb_search = tmdbv3api.Search()\n",
    "tmdb_movies = tmdbv3api.Movie()\n",
    "tmdb.api_key = tmdb_key"
   ]
  },
  {
   "cell_type": "markdown",
   "id": "c982775b",
   "metadata": {},
   "source": [
    "### Testing Process with Single Movie\n",
    "Before we craft something fancy, let's do some basic testing to see how we can get what we need using an example movie, which in this case is *The Matrix*."
   ]
  },
  {
   "cell_type": "code",
   "execution_count": 8,
   "id": "701f5f2c",
   "metadata": {},
   "outputs": [
    {
     "data": {
      "text/plain": [
       "603"
      ]
     },
     "execution_count": 8,
     "metadata": {},
     "output_type": "execute_result"
    }
   ],
   "source": [
    "# Getting the tmdb_id from the preliminary search\n",
    "tmdb_id = tmdb_search.movies({'query': 'The Matrix'})[0]['id']\n",
    "tmdb_id"
   ]
  },
  {
   "cell_type": "code",
   "execution_count": 9,
   "id": "eb5dfb39",
   "metadata": {},
   "outputs": [],
   "source": [
    "# Getting the details of the moving using the tmdb_id\n",
    "tmdb_details = dict(tmdb_movies.details(tmdb_id))"
   ]
  },
  {
   "cell_type": "code",
   "execution_count": 10,
   "id": "595caff0",
   "metadata": {},
   "outputs": [],
   "source": [
    "# Adding the movie_title and tmdb_id to the tmdb_details dictionary\n",
    "tmdb_details['movie_title'] = 'The Matrix'\n",
    "tmdb_details['tmdb_id'] = tmdb_id"
   ]
  },
  {
   "cell_type": "code",
   "execution_count": 11,
   "id": "34a55eb3",
   "metadata": {},
   "outputs": [
    {
     "data": {
      "text/plain": [
       "2"
      ]
     },
     "execution_count": 11,
     "metadata": {},
     "output_type": "execute_result"
    }
   ],
   "source": [
    "# Checking the length of TMDb genres to see if there is a secondary genre\n",
    "tmdb_genre_length = len(tmdb_details['genres'])\n",
    "tmdb_genre_length"
   ]
  },
  {
   "cell_type": "code",
   "execution_count": 12,
   "id": "cfb4bd08",
   "metadata": {},
   "outputs": [],
   "source": [
    "# Separating the primary_genre from the 'genres' nested child dictionary if it exists\n",
    "if tmdb_genre_length == 0:\n",
    "    tmdb_details['primary_genre'] = np.nan\n",
    "else:\n",
    "    tmdb_details['primary_genre'] = tmdb_details['genres'][0]['name']"
   ]
  },
  {
   "cell_type": "code",
   "execution_count": 13,
   "id": "e30f1813",
   "metadata": {},
   "outputs": [],
   "source": [
    "# Separating the secondary_genre from the 'genres' nested child dictionary if it exists\n",
    "if tmdb_genre_length >= 2:\n",
    "    tmdb_details['secondary_genre'] = tmdb_details['genres'][1]['name']\n",
    "else:\n",
    "    tmdb_details['secondary_genre'] = np.nan"
   ]
  },
  {
   "cell_type": "code",
   "execution_count": 14,
   "id": "bb320c15",
   "metadata": {},
   "outputs": [],
   "source": [
    "# Defining which features we need to keep from tmdb_details\n",
    "tmdb_feats = ['movie_title', 'rating', 'flickable', 'tmdb_id', 'imdb_id', 'budget', 'primary_genre', 'secondary_genre', 'popularity', 'revenue', 'runtime', 'vote_average', 'vote_count']"
   ]
  },
  {
   "cell_type": "code",
   "execution_count": 15,
   "id": "836ac6b4",
   "metadata": {},
   "outputs": [
    {
     "data": {
      "text/plain": [
       "{'budget': 63000000,\n",
       " 'imdb_id': 'tt0133093',\n",
       " 'popularity': 127.06,\n",
       " 'revenue': 463517383,\n",
       " 'runtime': 136,\n",
       " 'vote_average': 8.2,\n",
       " 'vote_count': 19853,\n",
       " 'movie_title': 'The Matrix',\n",
       " 'tmdb_id': 603,\n",
       " 'primary_genre': 'Action',\n",
       " 'secondary_genre': 'Science Fiction'}"
      ]
     },
     "execution_count": 15,
     "metadata": {},
     "output_type": "execute_result"
    }
   ],
   "source": [
    "# Slimming down tmdb_details with only the features we want to keep\n",
    "tmdb_details = {key: value for key, value in tmdb_details.items() if key in tmdb_feats}\n",
    "tmdb_details"
   ]
  },
  {
   "cell_type": "code",
   "execution_count": 16,
   "id": "a07a2902",
   "metadata": {},
   "outputs": [
    {
     "data": {
      "text/html": [
       "<div>\n",
       "<style scoped>\n",
       "    .dataframe tbody tr th:only-of-type {\n",
       "        vertical-align: middle;\n",
       "    }\n",
       "\n",
       "    .dataframe tbody tr th {\n",
       "        vertical-align: top;\n",
       "    }\n",
       "\n",
       "    .dataframe thead th {\n",
       "        text-align: right;\n",
       "    }\n",
       "</style>\n",
       "<table border=\"1\" class=\"dataframe\">\n",
       "  <thead>\n",
       "    <tr style=\"text-align: right;\">\n",
       "      <th></th>\n",
       "      <th>budget</th>\n",
       "      <th>imdb_id</th>\n",
       "      <th>popularity</th>\n",
       "      <th>revenue</th>\n",
       "      <th>runtime</th>\n",
       "      <th>vote_average</th>\n",
       "      <th>vote_count</th>\n",
       "      <th>movie_title</th>\n",
       "      <th>tmdb_id</th>\n",
       "      <th>primary_genre</th>\n",
       "      <th>secondary_genre</th>\n",
       "    </tr>\n",
       "  </thead>\n",
       "  <tbody>\n",
       "    <tr>\n",
       "      <th>0</th>\n",
       "      <td>63000000</td>\n",
       "      <td>tt0133093</td>\n",
       "      <td>127.06</td>\n",
       "      <td>463517383</td>\n",
       "      <td>136</td>\n",
       "      <td>8.2</td>\n",
       "      <td>19853</td>\n",
       "      <td>The Matrix</td>\n",
       "      <td>603</td>\n",
       "      <td>Action</td>\n",
       "      <td>Science Fiction</td>\n",
       "    </tr>\n",
       "  </tbody>\n",
       "</table>\n",
       "</div>"
      ],
      "text/plain": [
       "     budget    imdb_id  popularity    revenue  runtime  vote_average  \\\n",
       "0  63000000  tt0133093      127.06  463517383      136           8.2   \n",
       "\n",
       "   vote_count movie_title  tmdb_id primary_genre  secondary_genre  \n",
       "0       19853  The Matrix      603        Action  Science Fiction  "
      ]
     },
     "execution_count": 16,
     "metadata": {},
     "output_type": "execute_result"
    }
   ],
   "source": [
    "# Converting the tmdb_details dictionary to a Python DataFrame\n",
    "new_matrix_entry = pd.DataFrame.from_dict([tmdb_details])\n",
    "new_matrix_entry"
   ]
  },
  {
   "cell_type": "markdown",
   "id": "24b4ba78",
   "metadata": {},
   "source": [
    "### Creating TMDb Data Pipeline\n",
    "Now that we have our test working, we can go ahead and create a pipeline that will iterate through all the movies in the `df_ratings` DataFrame and get all the TMDb data that we need to perform feature engineering later."
   ]
  },
  {
   "cell_type": "code",
   "execution_count": 17,
   "id": "24bffcd5",
   "metadata": {},
   "outputs": [],
   "source": [
    "# Instantiating the TMDb objects and setting the API key\n",
    "tmdb = tmdbv3api.TMDb()\n",
    "tmdb_search = tmdbv3api.Search()\n",
    "tmdb_movies = tmdbv3api.Movie()\n",
    "tmdb.api_key = tmdb_key"
   ]
  },
  {
   "cell_type": "code",
   "execution_count": 18,
   "id": "e31ee2fa",
   "metadata": {},
   "outputs": [],
   "source": [
    "# Defining which features we need to keep from tmdb_details\n",
    "tmdb_feats = ['movie_title', 'rating', 'flickable', 'tmdb_id', 'imdb_id', 'budget', 'primary_genre', 'secondary_genre', 'popularity', 'revenue', 'runtime', 'vote_average', 'vote_count']"
   ]
  },
  {
   "cell_type": "code",
   "execution_count": 19,
   "id": "676f9a82",
   "metadata": {},
   "outputs": [],
   "source": [
    "# Creating a new DataFrame to hold all the TMDb data\n",
    "df_tmdb = pd.DataFrame(columns = tmdb_feats)\n",
    "\n",
    "# Iterating through the df_ratings DataFrame to get the names for extracting detailed info from TMDb\n",
    "for index, row in df_ratings.iterrows():\n",
    "    # Extracting info from df_ratings\n",
    "    movie_name = row['Name']\n",
    "    rating = row['Rating']\n",
    "    flickable = row['Flickable']\n",
    "    \n",
    "    # Performing the preliminary search\n",
    "    search_results = tmdb_search.movies({'query': movie_name})\n",
    "    \n",
    "    # Extracting tmdb_id if search results exist\n",
    "    if len(search_results) != 0:\n",
    "        tmdb_id = search_results[0]['id']\n",
    "    else:\n",
    "        print(f'Results not found for title: {movie_name}.')\n",
    "        continue\n",
    "    \n",
    "    # Getting the details of the movie using the tmdb_id\n",
    "    tmdb_details = dict(tmdb_movies.details(tmdb_id))\n",
    "    \n",
    "    # Adding the df_ratings info and tmdb_id to the tmdb_details dictionary\n",
    "    tmdb_details['movie_title'] = movie_name\n",
    "    tmdb_details['rating'] = rating\n",
    "    tmdb_details['flickable'] = flickable\n",
    "    tmdb_details['tmdb_id'] = tmdb_id\n",
    "    \n",
    "    # Checking the length of TMDb genres to see if there is a secondary genre\n",
    "    tmdb_genre_length = len(tmdb_details['genres'])\n",
    "    \n",
    "    # Separating the primary_genre from the 'genres' nested child dictionary if it exists\n",
    "    if tmdb_genre_length == 0:\n",
    "        tmdb_details['primary_genre'] = np.nan\n",
    "    else:\n",
    "        tmdb_details['primary_genre'] = tmdb_details['genres'][0]['name']\n",
    "        \n",
    "    # Separating the secondary_genre from the 'genres' nested child dictionary if it exists\n",
    "    if tmdb_genre_length >= 2:\n",
    "        tmdb_details['secondary_genre'] = tmdb_details['genres'][1]['name']\n",
    "    else:\n",
    "        tmdb_details['secondary_genre'] = np.nan\n",
    "    \n",
    "    # Slimming down tmdb_details with only the features we want to keep\n",
    "    tmdb_details = {key: value for key, value in tmdb_details.items() if key in tmdb_feats}\n",
    "    \n",
    "    # Converting the tmdb_details dictionary to a Pandas DataFrame\n",
    "    new_tmdb_entry = pd.DataFrame.from_dict([tmdb_details])\n",
    "    \n",
    "    # Appending the new movie entry to the overall df_tmdb DataFrame\n",
    "    df_tmdb = df_tmdb.append(new_tmdb_entry, ignore_index = True)"
   ]
  },
  {
   "cell_type": "code",
   "execution_count": 20,
   "id": "d58fade7",
   "metadata": {},
   "outputs": [
    {
     "data": {
      "text/html": [
       "<div>\n",
       "<style scoped>\n",
       "    .dataframe tbody tr th:only-of-type {\n",
       "        vertical-align: middle;\n",
       "    }\n",
       "\n",
       "    .dataframe tbody tr th {\n",
       "        vertical-align: top;\n",
       "    }\n",
       "\n",
       "    .dataframe thead th {\n",
       "        text-align: right;\n",
       "    }\n",
       "</style>\n",
       "<table border=\"1\" class=\"dataframe\">\n",
       "  <thead>\n",
       "    <tr style=\"text-align: right;\">\n",
       "      <th></th>\n",
       "      <th>movie_title</th>\n",
       "      <th>rating</th>\n",
       "      <th>flickable</th>\n",
       "      <th>tmdb_id</th>\n",
       "      <th>imdb_id</th>\n",
       "      <th>budget</th>\n",
       "      <th>primary_genre</th>\n",
       "      <th>secondary_genre</th>\n",
       "      <th>popularity</th>\n",
       "      <th>revenue</th>\n",
       "      <th>runtime</th>\n",
       "      <th>vote_average</th>\n",
       "      <th>vote_count</th>\n",
       "    </tr>\n",
       "  </thead>\n",
       "  <tbody>\n",
       "    <tr>\n",
       "      <th>0</th>\n",
       "      <td>Zoolander 2</td>\n",
       "      <td>7.0</td>\n",
       "      <td>Yes</td>\n",
       "      <td>329833</td>\n",
       "      <td>tt1608290</td>\n",
       "      <td>50000000</td>\n",
       "      <td>Comedy</td>\n",
       "      <td>NaN</td>\n",
       "      <td>14.443</td>\n",
       "      <td>55969000</td>\n",
       "      <td>100</td>\n",
       "      <td>4.8</td>\n",
       "      <td>1766</td>\n",
       "    </tr>\n",
       "    <tr>\n",
       "      <th>1</th>\n",
       "      <td>Dope</td>\n",
       "      <td>8.5</td>\n",
       "      <td>Yes</td>\n",
       "      <td>308639</td>\n",
       "      <td>tt3850214</td>\n",
       "      <td>700000</td>\n",
       "      <td>Crime</td>\n",
       "      <td>Drama</td>\n",
       "      <td>10.102</td>\n",
       "      <td>17986781</td>\n",
       "      <td>103</td>\n",
       "      <td>7.1</td>\n",
       "      <td>1179</td>\n",
       "    </tr>\n",
       "    <tr>\n",
       "      <th>2</th>\n",
       "      <td>The Big Short</td>\n",
       "      <td>8.0</td>\n",
       "      <td>Yes</td>\n",
       "      <td>318846</td>\n",
       "      <td>tt1596363</td>\n",
       "      <td>28000000</td>\n",
       "      <td>Comedy</td>\n",
       "      <td>Drama</td>\n",
       "      <td>27.252</td>\n",
       "      <td>133346506</td>\n",
       "      <td>131</td>\n",
       "      <td>7.3</td>\n",
       "      <td>6894</td>\n",
       "    </tr>\n",
       "    <tr>\n",
       "      <th>3</th>\n",
       "      <td>Deadpool</td>\n",
       "      <td>10.0</td>\n",
       "      <td>Yes</td>\n",
       "      <td>293660</td>\n",
       "      <td>tt1431045</td>\n",
       "      <td>58000000</td>\n",
       "      <td>Action</td>\n",
       "      <td>Adventure</td>\n",
       "      <td>132.891</td>\n",
       "      <td>783100000</td>\n",
       "      <td>108</td>\n",
       "      <td>7.6</td>\n",
       "      <td>25491</td>\n",
       "    </tr>\n",
       "    <tr>\n",
       "      <th>4</th>\n",
       "      <td>The Martian</td>\n",
       "      <td>8.0</td>\n",
       "      <td>Yes</td>\n",
       "      <td>286217</td>\n",
       "      <td>tt3659388</td>\n",
       "      <td>108000000</td>\n",
       "      <td>Drama</td>\n",
       "      <td>Adventure</td>\n",
       "      <td>54.332</td>\n",
       "      <td>630161890</td>\n",
       "      <td>144</td>\n",
       "      <td>7.7</td>\n",
       "      <td>16074</td>\n",
       "    </tr>\n",
       "  </tbody>\n",
       "</table>\n",
       "</div>"
      ],
      "text/plain": [
       "     movie_title  rating flickable tmdb_id    imdb_id     budget  \\\n",
       "0    Zoolander 2     7.0       Yes  329833  tt1608290   50000000   \n",
       "1           Dope     8.5       Yes  308639  tt3850214     700000   \n",
       "2  The Big Short     8.0       Yes  318846  tt1596363   28000000   \n",
       "3       Deadpool    10.0       Yes  293660  tt1431045   58000000   \n",
       "4    The Martian     8.0       Yes  286217  tt3659388  108000000   \n",
       "\n",
       "  primary_genre secondary_genre  popularity    revenue runtime  vote_average  \\\n",
       "0        Comedy             NaN      14.443   55969000     100           4.8   \n",
       "1         Crime           Drama      10.102   17986781     103           7.1   \n",
       "2        Comedy           Drama      27.252  133346506     131           7.3   \n",
       "3        Action       Adventure     132.891  783100000     108           7.6   \n",
       "4         Drama       Adventure      54.332  630161890     144           7.7   \n",
       "\n",
       "  vote_count  \n",
       "0       1766  \n",
       "1       1179  \n",
       "2       6894  \n",
       "3      25491  \n",
       "4      16074  "
      ]
     },
     "execution_count": 20,
     "metadata": {},
     "output_type": "execute_result"
    }
   ],
   "source": [
    "# Viewing the first few rows of the full TMDb data\n",
    "df_tmdb.head()"
   ]
  },
  {
   "cell_type": "code",
   "execution_count": 21,
   "id": "b2775e24",
   "metadata": {},
   "outputs": [
    {
     "name": "stdout",
     "output_type": "stream",
     "text": [
      "<class 'pandas.core.frame.DataFrame'>\n",
      "RangeIndex: 121 entries, 0 to 120\n",
      "Data columns (total 13 columns):\n",
      " #   Column           Non-Null Count  Dtype  \n",
      "---  ------           --------------  -----  \n",
      " 0   movie_title      121 non-null    object \n",
      " 1   rating           121 non-null    float64\n",
      " 2   flickable        121 non-null    object \n",
      " 3   tmdb_id          121 non-null    object \n",
      " 4   imdb_id          121 non-null    object \n",
      " 5   budget           121 non-null    object \n",
      " 6   primary_genre    119 non-null    object \n",
      " 7   secondary_genre  107 non-null    object \n",
      " 8   popularity       121 non-null    float64\n",
      " 9   revenue          121 non-null    object \n",
      " 10  runtime          121 non-null    object \n",
      " 11  vote_average     121 non-null    float64\n",
      " 12  vote_count       121 non-null    object \n",
      "dtypes: float64(3), object(10)\n",
      "memory usage: 12.4+ KB\n"
     ]
    }
   ],
   "source": [
    "# Viewing the Pandas DataFrame info of the full TMDb data\n",
    "df_tmdb.info()"
   ]
  },
  {
   "cell_type": "code",
   "execution_count": 22,
   "id": "da528284",
   "metadata": {},
   "outputs": [],
   "source": [
    "# Saving out the TMDb data\n",
    "df_tmdb.to_csv('../data/raw/tmdb_data.csv', index = False)"
   ]
  },
  {
   "cell_type": "code",
   "execution_count": 23,
   "id": "b298a4ae",
   "metadata": {},
   "outputs": [],
   "source": [
    "# Using df_tmdb as source for all new data in a single DataFrame\n",
    "df_all_data = df_tmdb"
   ]
  },
  {
   "cell_type": "markdown",
   "id": "ed90461a",
   "metadata": {},
   "source": [
    "## Data Source #2: iMDb\n",
    "The next source we will be using is iMDb. While iMDb does have an official API, it doesn't seem readily accessible to the public. Fortunately, it looks like somebody created an alternative that I'm guessing that the developer used some advanced screen scraping to do. We could also do our own screen scraping if we wanted to, but that seems like a lot of work when this other Python alternative works just fine. This Python alternative is called **iMDbPY** and can be installed by running the following command:\n",
    "```\n",
    "pip install imdbpy\n",
    "```\n",
    "\n",
    "The `README` supporting this Python library can be found at this link: [iMDbPY Documentation](https://github.com/alberanid/imdbpy).\n",
    "\n",
    "Because TMDb already gave us so much information, the only new features we'll be adding from this source are `imdb_rating` and `imdb_votes`."
   ]
  },
  {
   "cell_type": "markdown",
   "id": "1464bf3c",
   "metadata": {},
   "source": [
    "### Testing Process with Single Movie\n",
    "Just as we did with TMDb, let's first do some testing with a single movie in order to ensure that we can use this just fine. Because this Python library bases its search on iMDb ID, we're going to build off our work in TMDb since that API nice supplies us with the apporpriate iMDb IDs."
   ]
  },
  {
   "cell_type": "code",
   "execution_count": 24,
   "id": "65df6f47",
   "metadata": {},
   "outputs": [
    {
     "data": {
      "text/html": [
       "<div>\n",
       "<style scoped>\n",
       "    .dataframe tbody tr th:only-of-type {\n",
       "        vertical-align: middle;\n",
       "    }\n",
       "\n",
       "    .dataframe tbody tr th {\n",
       "        vertical-align: top;\n",
       "    }\n",
       "\n",
       "    .dataframe thead th {\n",
       "        text-align: right;\n",
       "    }\n",
       "</style>\n",
       "<table border=\"1\" class=\"dataframe\">\n",
       "  <thead>\n",
       "    <tr style=\"text-align: right;\">\n",
       "      <th></th>\n",
       "      <th>budget</th>\n",
       "      <th>imdb_id</th>\n",
       "      <th>popularity</th>\n",
       "      <th>revenue</th>\n",
       "      <th>runtime</th>\n",
       "      <th>vote_average</th>\n",
       "      <th>vote_count</th>\n",
       "      <th>movie_title</th>\n",
       "      <th>tmdb_id</th>\n",
       "      <th>primary_genre</th>\n",
       "      <th>secondary_genre</th>\n",
       "    </tr>\n",
       "  </thead>\n",
       "  <tbody>\n",
       "    <tr>\n",
       "      <th>0</th>\n",
       "      <td>63000000</td>\n",
       "      <td>tt0133093</td>\n",
       "      <td>127.06</td>\n",
       "      <td>463517383</td>\n",
       "      <td>136</td>\n",
       "      <td>8.2</td>\n",
       "      <td>19853</td>\n",
       "      <td>The Matrix</td>\n",
       "      <td>603</td>\n",
       "      <td>Action</td>\n",
       "      <td>Science Fiction</td>\n",
       "    </tr>\n",
       "  </tbody>\n",
       "</table>\n",
       "</div>"
      ],
      "text/plain": [
       "     budget    imdb_id  popularity    revenue  runtime  vote_average  \\\n",
       "0  63000000  tt0133093      127.06  463517383      136           8.2   \n",
       "\n",
       "   vote_count movie_title  tmdb_id primary_genre  secondary_genre  \n",
       "0       19853  The Matrix      603        Action  Science Fiction  "
      ]
     },
     "execution_count": 24,
     "metadata": {},
     "output_type": "execute_result"
    }
   ],
   "source": [
    "# Refreshing ourselves on the TMDb output for The Matrix\n",
    "new_matrix_entry"
   ]
  },
  {
   "cell_type": "code",
   "execution_count": 25,
   "id": "7056b63c",
   "metadata": {},
   "outputs": [],
   "source": [
    "# Extracting the iMDb ID from the TMDb search results and removing first two \"tt\" characters\n",
    "imdb_id = new_matrix_entry['imdb_id']\n",
    "imdb_id = imdb_id[0][2:]"
   ]
  },
  {
   "cell_type": "code",
   "execution_count": 26,
   "id": "ef8f7c93",
   "metadata": {},
   "outputs": [],
   "source": [
    "# Instantiating the iMDbPY search object\n",
    "imdb_search = IMDb()"
   ]
  },
  {
   "cell_type": "code",
   "execution_count": 27,
   "id": "cd9ad63c",
   "metadata": {},
   "outputs": [],
   "source": [
    "# Using iMDbPY to get movie details using the iMDb ID\n",
    "imdb_details = dict(imdb_search.get_movie(imdb_id))"
   ]
  },
  {
   "cell_type": "code",
   "execution_count": 28,
   "id": "f91646cc",
   "metadata": {},
   "outputs": [],
   "source": [
    "# Adding imdb_rating and imdb_votes to new test entry for The Matrix\n",
    "new_matrix_entry['imdb_rating'] = imdb_details['rating']\n",
    "new_matrix_entry['imdb_votes'] = imdb_details['votes']"
   ]
  },
  {
   "cell_type": "code",
   "execution_count": 29,
   "id": "9c22d13b",
   "metadata": {},
   "outputs": [
    {
     "data": {
      "text/html": [
       "<div>\n",
       "<style scoped>\n",
       "    .dataframe tbody tr th:only-of-type {\n",
       "        vertical-align: middle;\n",
       "    }\n",
       "\n",
       "    .dataframe tbody tr th {\n",
       "        vertical-align: top;\n",
       "    }\n",
       "\n",
       "    .dataframe thead th {\n",
       "        text-align: right;\n",
       "    }\n",
       "</style>\n",
       "<table border=\"1\" class=\"dataframe\">\n",
       "  <thead>\n",
       "    <tr style=\"text-align: right;\">\n",
       "      <th></th>\n",
       "      <th>budget</th>\n",
       "      <th>imdb_id</th>\n",
       "      <th>popularity</th>\n",
       "      <th>revenue</th>\n",
       "      <th>runtime</th>\n",
       "      <th>vote_average</th>\n",
       "      <th>vote_count</th>\n",
       "      <th>movie_title</th>\n",
       "      <th>tmdb_id</th>\n",
       "      <th>primary_genre</th>\n",
       "      <th>secondary_genre</th>\n",
       "      <th>imdb_rating</th>\n",
       "      <th>imdb_votes</th>\n",
       "    </tr>\n",
       "  </thead>\n",
       "  <tbody>\n",
       "    <tr>\n",
       "      <th>0</th>\n",
       "      <td>63000000</td>\n",
       "      <td>tt0133093</td>\n",
       "      <td>127.06</td>\n",
       "      <td>463517383</td>\n",
       "      <td>136</td>\n",
       "      <td>8.2</td>\n",
       "      <td>19853</td>\n",
       "      <td>The Matrix</td>\n",
       "      <td>603</td>\n",
       "      <td>Action</td>\n",
       "      <td>Science Fiction</td>\n",
       "      <td>8.7</td>\n",
       "      <td>1755501</td>\n",
       "    </tr>\n",
       "  </tbody>\n",
       "</table>\n",
       "</div>"
      ],
      "text/plain": [
       "     budget    imdb_id  popularity    revenue  runtime  vote_average  \\\n",
       "0  63000000  tt0133093      127.06  463517383      136           8.2   \n",
       "\n",
       "   vote_count movie_title  tmdb_id primary_genre  secondary_genre  \\\n",
       "0       19853  The Matrix      603        Action  Science Fiction   \n",
       "\n",
       "   imdb_rating  imdb_votes  \n",
       "0          8.7     1755501  "
      ]
     },
     "execution_count": 29,
     "metadata": {},
     "output_type": "execute_result"
    }
   ],
   "source": [
    "# Viewing the updated entry\n",
    "new_matrix_entry"
   ]
  },
  {
   "cell_type": "markdown",
   "id": "8371b312",
   "metadata": {},
   "source": [
    "### Creating iMDb Data Pipeline\n",
    "Now that we have our test working, we can go ahead and create a pipeline that will iterate through all the movies in the `df_ratings` DataFrame and get all the iMDb data that we need to perform feature engineering later."
   ]
  },
  {
   "cell_type": "code",
   "execution_count": 30,
   "id": "5326122f",
   "metadata": {},
   "outputs": [],
   "source": [
    "# Instantiating the iMDbPY search object\n",
    "imdb_search = IMDb()"
   ]
  },
  {
   "cell_type": "code",
   "execution_count": 31,
   "id": "36c946be",
   "metadata": {},
   "outputs": [],
   "source": [
    "# Copying the original df_tmdb DataFrame for testing purposes\n",
    "df_tmdb_copy = df_all_data"
   ]
  },
  {
   "cell_type": "code",
   "execution_count": 32,
   "id": "c01d1380",
   "metadata": {},
   "outputs": [
    {
     "name": "stdout",
     "output_type": "stream",
     "text": [
      "The following movie has no iMDb rating: Raw.\n"
     ]
    }
   ],
   "source": [
    "# Iterating through each entry in df_tmdb, using the iMDb ID to extract relevant movie information\n",
    "for index, row in df_all_data.iterrows():\n",
    "    # Extracting movie title from the row\n",
    "    movie_title = row['movie_title']\n",
    "    \n",
    "    # Extracting the iMDb ID from the TMDb search results and removing first two \"tt\" characters\n",
    "    imdb_id = row['imdb_id']\n",
    "    imdb_id = imdb_id[2:]\n",
    "    \n",
    "    # Using iMDbPY to get movie details using the iMDb ID\n",
    "    imdb_details = dict(imdb_search.get_movie(imdb_id))\n",
    "    \n",
    "    # Adding imdb_rating and imdb_votes to movie's row if available\n",
    "    if 'rating' not in imdb_details.keys():\n",
    "        print(f'The following movie has no iMDb rating: {movie_title}.')\n",
    "        df_all_data.loc[index, 'imdb_rating'] = np.nan\n",
    "    else:\n",
    "        df_all_data.loc[index, 'imdb_rating'] = imdb_details['rating']\n",
    "    if 'votes' not in imdb_details.keys():\n",
    "        df_all_data.loc[index, 'imdb_rating'] = np.nan\n",
    "    else:\n",
    "        df_all_data.loc[index, 'imdb_votes'] = imdb_details['votes']"
   ]
  },
  {
   "cell_type": "code",
   "execution_count": 34,
   "id": "a99253c5",
   "metadata": {},
   "outputs": [
    {
     "data": {
      "text/html": [
       "<div>\n",
       "<style scoped>\n",
       "    .dataframe tbody tr th:only-of-type {\n",
       "        vertical-align: middle;\n",
       "    }\n",
       "\n",
       "    .dataframe tbody tr th {\n",
       "        vertical-align: top;\n",
       "    }\n",
       "\n",
       "    .dataframe thead th {\n",
       "        text-align: right;\n",
       "    }\n",
       "</style>\n",
       "<table border=\"1\" class=\"dataframe\">\n",
       "  <thead>\n",
       "    <tr style=\"text-align: right;\">\n",
       "      <th></th>\n",
       "      <th>movie_title</th>\n",
       "      <th>rating</th>\n",
       "      <th>flickable</th>\n",
       "      <th>tmdb_id</th>\n",
       "      <th>imdb_id</th>\n",
       "      <th>budget</th>\n",
       "      <th>primary_genre</th>\n",
       "      <th>secondary_genre</th>\n",
       "      <th>popularity</th>\n",
       "      <th>revenue</th>\n",
       "      <th>runtime</th>\n",
       "      <th>vote_average</th>\n",
       "      <th>vote_count</th>\n",
       "      <th>imdb_rating</th>\n",
       "      <th>imdb_votes</th>\n",
       "    </tr>\n",
       "  </thead>\n",
       "  <tbody>\n",
       "    <tr>\n",
       "      <th>0</th>\n",
       "      <td>Zoolander 2</td>\n",
       "      <td>7.0</td>\n",
       "      <td>Yes</td>\n",
       "      <td>329833</td>\n",
       "      <td>tt1608290</td>\n",
       "      <td>50000000</td>\n",
       "      <td>Comedy</td>\n",
       "      <td>NaN</td>\n",
       "      <td>14.443</td>\n",
       "      <td>55969000</td>\n",
       "      <td>100</td>\n",
       "      <td>4.8</td>\n",
       "      <td>1766</td>\n",
       "      <td>4.7</td>\n",
       "      <td>67044.0</td>\n",
       "    </tr>\n",
       "    <tr>\n",
       "      <th>1</th>\n",
       "      <td>Dope</td>\n",
       "      <td>8.5</td>\n",
       "      <td>Yes</td>\n",
       "      <td>308639</td>\n",
       "      <td>tt3850214</td>\n",
       "      <td>700000</td>\n",
       "      <td>Crime</td>\n",
       "      <td>Drama</td>\n",
       "      <td>10.102</td>\n",
       "      <td>17986781</td>\n",
       "      <td>103</td>\n",
       "      <td>7.1</td>\n",
       "      <td>1179</td>\n",
       "      <td>7.2</td>\n",
       "      <td>82769.0</td>\n",
       "    </tr>\n",
       "    <tr>\n",
       "      <th>2</th>\n",
       "      <td>The Big Short</td>\n",
       "      <td>8.0</td>\n",
       "      <td>Yes</td>\n",
       "      <td>318846</td>\n",
       "      <td>tt1596363</td>\n",
       "      <td>28000000</td>\n",
       "      <td>Comedy</td>\n",
       "      <td>Drama</td>\n",
       "      <td>27.252</td>\n",
       "      <td>133346506</td>\n",
       "      <td>131</td>\n",
       "      <td>7.3</td>\n",
       "      <td>6894</td>\n",
       "      <td>7.8</td>\n",
       "      <td>389680.0</td>\n",
       "    </tr>\n",
       "    <tr>\n",
       "      <th>3</th>\n",
       "      <td>Deadpool</td>\n",
       "      <td>10.0</td>\n",
       "      <td>Yes</td>\n",
       "      <td>293660</td>\n",
       "      <td>tt1431045</td>\n",
       "      <td>58000000</td>\n",
       "      <td>Action</td>\n",
       "      <td>Adventure</td>\n",
       "      <td>132.891</td>\n",
       "      <td>783100000</td>\n",
       "      <td>108</td>\n",
       "      <td>7.6</td>\n",
       "      <td>25491</td>\n",
       "      <td>8.0</td>\n",
       "      <td>947323.0</td>\n",
       "    </tr>\n",
       "    <tr>\n",
       "      <th>4</th>\n",
       "      <td>The Martian</td>\n",
       "      <td>8.0</td>\n",
       "      <td>Yes</td>\n",
       "      <td>286217</td>\n",
       "      <td>tt3659388</td>\n",
       "      <td>108000000</td>\n",
       "      <td>Drama</td>\n",
       "      <td>Adventure</td>\n",
       "      <td>54.332</td>\n",
       "      <td>630161890</td>\n",
       "      <td>144</td>\n",
       "      <td>7.7</td>\n",
       "      <td>16074</td>\n",
       "      <td>8.0</td>\n",
       "      <td>794224.0</td>\n",
       "    </tr>\n",
       "  </tbody>\n",
       "</table>\n",
       "</div>"
      ],
      "text/plain": [
       "     movie_title  rating flickable tmdb_id    imdb_id     budget  \\\n",
       "0    Zoolander 2     7.0       Yes  329833  tt1608290   50000000   \n",
       "1           Dope     8.5       Yes  308639  tt3850214     700000   \n",
       "2  The Big Short     8.0       Yes  318846  tt1596363   28000000   \n",
       "3       Deadpool    10.0       Yes  293660  tt1431045   58000000   \n",
       "4    The Martian     8.0       Yes  286217  tt3659388  108000000   \n",
       "\n",
       "  primary_genre secondary_genre  popularity    revenue runtime  vote_average  \\\n",
       "0        Comedy             NaN      14.443   55969000     100           4.8   \n",
       "1         Crime           Drama      10.102   17986781     103           7.1   \n",
       "2        Comedy           Drama      27.252  133346506     131           7.3   \n",
       "3        Action       Adventure     132.891  783100000     108           7.6   \n",
       "4         Drama       Adventure      54.332  630161890     144           7.7   \n",
       "\n",
       "  vote_count  imdb_rating  imdb_votes  \n",
       "0       1766          4.7     67044.0  \n",
       "1       1179          7.2     82769.0  \n",
       "2       6894          7.8    389680.0  \n",
       "3      25491          8.0    947323.0  \n",
       "4      16074          8.0    794224.0  "
      ]
     },
     "execution_count": 34,
     "metadata": {},
     "output_type": "execute_result"
    }
   ],
   "source": [
    "# Viewing the first few rows of the updated df_all_data DataFrame\n",
    "df_all_data.head()"
   ]
  },
  {
   "cell_type": "code",
   "execution_count": 35,
   "id": "4a6c32ef",
   "metadata": {},
   "outputs": [
    {
     "data": {
      "text/html": [
       "<div>\n",
       "<style scoped>\n",
       "    .dataframe tbody tr th:only-of-type {\n",
       "        vertical-align: middle;\n",
       "    }\n",
       "\n",
       "    .dataframe tbody tr th {\n",
       "        vertical-align: top;\n",
       "    }\n",
       "\n",
       "    .dataframe thead th {\n",
       "        text-align: right;\n",
       "    }\n",
       "</style>\n",
       "<table border=\"1\" class=\"dataframe\">\n",
       "  <thead>\n",
       "    <tr style=\"text-align: right;\">\n",
       "      <th></th>\n",
       "      <th>movie_title</th>\n",
       "      <th>imdb_id</th>\n",
       "      <th>rating</th>\n",
       "      <th>flickable</th>\n",
       "      <th>imdb_rating</th>\n",
       "      <th>imdb_votes</th>\n",
       "    </tr>\n",
       "  </thead>\n",
       "  <tbody>\n",
       "    <tr>\n",
       "      <th>0</th>\n",
       "      <td>Zoolander 2</td>\n",
       "      <td>tt1608290</td>\n",
       "      <td>7.0</td>\n",
       "      <td>Yes</td>\n",
       "      <td>4.7</td>\n",
       "      <td>67044.0</td>\n",
       "    </tr>\n",
       "    <tr>\n",
       "      <th>1</th>\n",
       "      <td>Dope</td>\n",
       "      <td>tt3850214</td>\n",
       "      <td>8.5</td>\n",
       "      <td>Yes</td>\n",
       "      <td>7.2</td>\n",
       "      <td>82769.0</td>\n",
       "    </tr>\n",
       "    <tr>\n",
       "      <th>2</th>\n",
       "      <td>The Big Short</td>\n",
       "      <td>tt1596363</td>\n",
       "      <td>8.0</td>\n",
       "      <td>Yes</td>\n",
       "      <td>7.8</td>\n",
       "      <td>389680.0</td>\n",
       "    </tr>\n",
       "    <tr>\n",
       "      <th>3</th>\n",
       "      <td>Deadpool</td>\n",
       "      <td>tt1431045</td>\n",
       "      <td>10.0</td>\n",
       "      <td>Yes</td>\n",
       "      <td>8.0</td>\n",
       "      <td>947323.0</td>\n",
       "    </tr>\n",
       "    <tr>\n",
       "      <th>4</th>\n",
       "      <td>The Martian</td>\n",
       "      <td>tt3659388</td>\n",
       "      <td>8.0</td>\n",
       "      <td>Yes</td>\n",
       "      <td>8.0</td>\n",
       "      <td>794224.0</td>\n",
       "    </tr>\n",
       "    <tr>\n",
       "      <th>...</th>\n",
       "      <td>...</td>\n",
       "      <td>...</td>\n",
       "      <td>...</td>\n",
       "      <td>...</td>\n",
       "      <td>...</td>\n",
       "      <td>...</td>\n",
       "    </tr>\n",
       "    <tr>\n",
       "      <th>116</th>\n",
       "      <td>Scary Stories to Tell in the Dark</td>\n",
       "      <td>tt3387520</td>\n",
       "      <td>6.2</td>\n",
       "      <td>Yes</td>\n",
       "      <td>6.2</td>\n",
       "      <td>67622.0</td>\n",
       "    </tr>\n",
       "    <tr>\n",
       "      <th>117</th>\n",
       "      <td>Palm Springs</td>\n",
       "      <td>tt9484998</td>\n",
       "      <td>8.9</td>\n",
       "      <td>Yes</td>\n",
       "      <td>7.4</td>\n",
       "      <td>130120.0</td>\n",
       "    </tr>\n",
       "    <tr>\n",
       "      <th>118</th>\n",
       "      <td>Beverly Hills Ninja</td>\n",
       "      <td>tt0118708</td>\n",
       "      <td>8.6</td>\n",
       "      <td>Yes</td>\n",
       "      <td>5.6</td>\n",
       "      <td>40302.0</td>\n",
       "    </tr>\n",
       "    <tr>\n",
       "      <th>119</th>\n",
       "      <td>The Girl Next Door</td>\n",
       "      <td>tt0265208</td>\n",
       "      <td>7.3</td>\n",
       "      <td>No</td>\n",
       "      <td>6.7</td>\n",
       "      <td>214740.0</td>\n",
       "    </tr>\n",
       "    <tr>\n",
       "      <th>120</th>\n",
       "      <td>Talladega Nights: The Ballad of Ricky Bobby</td>\n",
       "      <td>tt0415306</td>\n",
       "      <td>8.9</td>\n",
       "      <td>Yes</td>\n",
       "      <td>6.6</td>\n",
       "      <td>174723.0</td>\n",
       "    </tr>\n",
       "  </tbody>\n",
       "</table>\n",
       "<p>121 rows × 6 columns</p>\n",
       "</div>"
      ],
      "text/plain": [
       "                                     movie_title    imdb_id  rating flickable  \\\n",
       "0                                    Zoolander 2  tt1608290     7.0       Yes   \n",
       "1                                           Dope  tt3850214     8.5       Yes   \n",
       "2                                  The Big Short  tt1596363     8.0       Yes   \n",
       "3                                       Deadpool  tt1431045    10.0       Yes   \n",
       "4                                    The Martian  tt3659388     8.0       Yes   \n",
       "..                                           ...        ...     ...       ...   \n",
       "116            Scary Stories to Tell in the Dark  tt3387520     6.2       Yes   \n",
       "117                                 Palm Springs  tt9484998     8.9       Yes   \n",
       "118                          Beverly Hills Ninja  tt0118708     8.6       Yes   \n",
       "119                           The Girl Next Door  tt0265208     7.3        No   \n",
       "120  Talladega Nights: The Ballad of Ricky Bobby  tt0415306     8.9       Yes   \n",
       "\n",
       "     imdb_rating  imdb_votes  \n",
       "0            4.7     67044.0  \n",
       "1            7.2     82769.0  \n",
       "2            7.8    389680.0  \n",
       "3            8.0    947323.0  \n",
       "4            8.0    794224.0  \n",
       "..           ...         ...  \n",
       "116          6.2     67622.0  \n",
       "117          7.4    130120.0  \n",
       "118          5.6     40302.0  \n",
       "119          6.7    214740.0  \n",
       "120          6.6    174723.0  \n",
       "\n",
       "[121 rows x 6 columns]"
      ]
     },
     "execution_count": 35,
     "metadata": {},
     "output_type": "execute_result"
    }
   ],
   "source": [
    "# Extracting out only the iMDb bits to save as separate CSV file\n",
    "df_imdb = df_all_data[['movie_title', 'imdb_id', 'rating', 'flickable', 'imdb_rating', 'imdb_votes']]\n",
    "df_imdb"
   ]
  },
  {
   "cell_type": "code",
   "execution_count": 36,
   "id": "8c41b3be",
   "metadata": {},
   "outputs": [],
   "source": [
    "# Saving iMDb data to its own CSV file\n",
    "df_imdb.to_csv('../data/raw/imdb_data.csv', index = False)"
   ]
  },
  {
   "cell_type": "code",
   "execution_count": 37,
   "id": "5b0a3189",
   "metadata": {},
   "outputs": [],
   "source": [
    "# Saving df_all_data to CSV as a checkpoint spot\n",
    "df_all_data.to_csv('../data/raw/all_data.csv', index = False)"
   ]
  },
  {
   "cell_type": "markdown",
   "id": "1d517527",
   "metadata": {},
   "source": [
    "## Data Source #3: Rotten Tomatoes\n",
    "Of all the things I have been watching for in our other data sources so far, I have had in my mind to use the Rotten Tomatoes critic and audience scores to support the model. Interestingly, neither the TMDb API nor iMDb package contained this information, so we'll have to look for it from its own source!"
   ]
  }
 ],
 "metadata": {
  "kernelspec": {
   "display_name": "Python 3",
   "language": "python",
   "name": "python3"
  },
  "language_info": {
   "codemirror_mode": {
    "name": "ipython",
    "version": 3
   },
   "file_extension": ".py",
   "mimetype": "text/x-python",
   "name": "python",
   "nbconvert_exporter": "python",
   "pygments_lexer": "ipython3",
   "version": "3.8.8"
  }
 },
 "nbformat": 4,
 "nbformat_minor": 5
}
