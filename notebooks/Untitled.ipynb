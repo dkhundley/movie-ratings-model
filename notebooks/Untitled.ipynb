{
 "cells": [
  {
   "cell_type": "code",
   "execution_count": 8,
   "id": "c524f2e4",
   "metadata": {},
   "outputs": [],
   "source": [
    "from rotten_tomatoes_scraper.rt_scraper import MovieScraper"
   ]
  },
  {
   "cell_type": "code",
   "execution_count": 9,
   "id": "97c982f9",
   "metadata": {},
   "outputs": [],
   "source": [
    "movie_scraper = MovieScraper(movie_title = 'The Matrix')"
   ]
  },
  {
   "cell_type": "code",
   "execution_count": 10,
   "id": "d6624611",
   "metadata": {},
   "outputs": [],
   "source": [
    "movie_scraper.extract_metadata()"
   ]
  },
  {
   "cell_type": "code",
   "execution_count": 11,
   "id": "5059d312",
   "metadata": {},
   "outputs": [
    {
     "name": "stdout",
     "output_type": "stream",
     "text": [
      "{'Score_Rotten': '88', 'Score_Audience': '85', 'Rating': 'R', 'Genre': ['Action', 'Sci-fi']}\n"
     ]
    }
   ],
   "source": [
    "print(movie_scraper.metadata)"
   ]
  },
  {
   "cell_type": "code",
   "execution_count": 12,
   "id": "96e8d115",
   "metadata": {},
   "outputs": [],
   "source": [
    "from bs4 import BeautifulSoup"
   ]
  },
  {
   "cell_type": "code",
   "execution_count": 13,
   "id": "33013fb9",
   "metadata": {},
   "outputs": [],
   "source": [
    "BASE_URL = \"https://www.rottentomatoes.com/api/private/v2.0\"\n",
    "SEARCH_URL = f\"{BASE_URL}/search\""
   ]
  },
  {
   "cell_type": "code",
   "execution_count": 16,
   "id": "3de38c73",
   "metadata": {},
   "outputs": [
    {
     "data": {
      "text/plain": [
       "'https://www.rottentomatoes.com/api/private/v2.0/search'"
      ]
     },
     "execution_count": 16,
     "metadata": {},
     "output_type": "execute_result"
    }
   ],
   "source": [
    "SEARCH_URL "
   ]
  },
  {
   "cell_type": "code",
   "execution_count": 17,
   "id": "7b71d48f",
   "metadata": {},
   "outputs": [],
   "source": [
    "import requests"
   ]
  },
  {
   "cell_type": "code",
   "execution_count": 18,
   "id": "e07857c1",
   "metadata": {},
   "outputs": [],
   "source": [
    "r = requests.get(url = SEARCH_URL, params = {'q': 'The Matrix', 'limit': 10})"
   ]
  },
  {
   "cell_type": "code",
   "execution_count": 19,
   "id": "7f972a2e",
   "metadata": {},
   "outputs": [],
   "source": [
    "r.raise_for_status()"
   ]
  },
  {
   "cell_type": "code",
   "execution_count": 20,
   "id": "7c4ca01b",
   "metadata": {},
   "outputs": [
    {
     "data": {
      "text/plain": [
       "{'actorCount': 0,\n",
       " 'actors': [],\n",
       " 'criticCount': 0,\n",
       " 'critics': [],\n",
       " 'franchiseCount': 0,\n",
       " 'franchises': [],\n",
       " 'movieCount': 28,\n",
       " 'movies': [{'name': 'The Matrix',\n",
       "   'year': 1999,\n",
       "   'url': '/m/matrix',\n",
       "   'image': 'https://resizing.flixster.com/njN4J5C_yF_fwljyIC9Jb_Lg6vY=/fit-in/80x80/v1.bTsxMTE2ODA5NjtqOzE5MDI5OzEyMDA7ODAwOzEyMDA',\n",
       "   'meterClass': 'certified_fresh',\n",
       "   'meterScore': 88,\n",
       "   'castItems': [{'name': 'Keanu Reeves', 'url': '/celebrity/keanu_reeves'},\n",
       "    {'name': 'Laurence Fishburne', 'url': '/celebrity/laurence_fishburne'},\n",
       "    {'name': 'Carrie-Anne Moss', 'url': '/celebrity/carrieanne_moss'}],\n",
       "   'subline': 'Keanu Reeves, Laurence Fishburne, Carrie-Anne Moss, '},\n",
       "  {'name': 'The Matrix Revolutions',\n",
       "   'year': 2003,\n",
       "   'url': '/m/matrix_revolutions',\n",
       "   'image': 'https://resizing.flixster.com/icPiUE5LnxrF9e8BeqMw5PwdceU=/fit-in/80x80/v1.bTsxMTE3NjQ3MztqOzE5MDI5OzEyMDA7ODAwOzEyMDA',\n",
       "   'meterClass': 'rotten',\n",
       "   'meterScore': 35,\n",
       "   'castItems': [{'name': 'Keanu Reeves', 'url': '/celebrity/keanu_reeves'},\n",
       "    {'name': 'Laurence Fishburne', 'url': '/celebrity/laurence_fishburne'},\n",
       "    {'name': 'Carrie-Anne Moss', 'url': '/celebrity/carrieanne_moss'}],\n",
       "   'subline': 'Keanu Reeves, Laurence Fishburne, Carrie-Anne Moss, '},\n",
       "  {'name': 'The Matrix Reloaded',\n",
       "   'year': 2003,\n",
       "   'url': '/m/matrix_reloaded',\n",
       "   'image': 'https://resizing.flixster.com/ZBU6E8SCO4sXyEqnaOKQA3QARYE=/fit-in/80x80/v1.bTsxMTE2OTY5OTtqOzE5MDI5OzEyMDA7ODAwOzEyMDA',\n",
       "   'meterClass': 'certified_fresh',\n",
       "   'meterScore': 73,\n",
       "   'castItems': [{'name': 'Keanu Reeves', 'url': '/celebrity/keanu_reeves'},\n",
       "    {'name': 'Laurence Fishburne', 'url': '/celebrity/laurence_fishburne'},\n",
       "    {'name': 'Carrie-Anne Moss', 'url': '/celebrity/carrieanne_moss'}],\n",
       "   'subline': 'Keanu Reeves, Laurence Fishburne, Carrie-Anne Moss, '},\n",
       "  {'name': 'The Matrix Revisited',\n",
       "   'year': 2001,\n",
       "   'url': '/m/matrix_revisited',\n",
       "   'image': 'https://resizing.flixster.com/iZeJphcJ2YYszukereNHG5kH1s8=/fit-in/80x80/v1.bTsxMTYxNTIyNjtqOzE5MDM0OzEyMDA7NjY2Ozk1MA',\n",
       "   'meterClass': 'fresh',\n",
       "   'meterScore': 71,\n",
       "   'castItems': [],\n",
       "   'subline': ''},\n",
       "  {'name': 'Armitage - Dual Matrix',\n",
       "   'year': 2002,\n",
       "   'url': '/m/armitage_dualmatrix',\n",
       "   'image': 'https://resizing.flixster.com/k1oMSlphTvdWmVOfZOgnQJAyZXs=/fit-in/80x80/v1.bTsxMjE4NTkwNztqOzE4OTUxOzEyMDA7MTEwOzE1MA',\n",
       "   'meterClass': 'N/A',\n",
       "   'castItems': [{'name': 'Juliette Lewis',\n",
       "     'url': '/celebrity/juliette_lewis'},\n",
       "    {'name': 'Hikaru Hanada', 'url': '/celebrity/hikaru_hanada'},\n",
       "    {'name': 'Kazuhiro Yamaji', 'url': '/celebrity/kazuhiro_yamaji'}],\n",
       "   'subline': 'Juliette Lewis, Hikaru Hanada, Kazuhiro Yamaji, '},\n",
       "  {'name': 'David Icke:Secrets of the Matrix',\n",
       "   'year': 2004,\n",
       "   'url': '/m/david-ickesecrets-of-the-matrix',\n",
       "   'image': 'https://resizing.flixster.com/0jlMksiTKwbQnYCTv_v3X6pVGw0=/fit-in/80x80/v1.bTsxMjE4Nzg4NjtqOzE4OTUxOzEyMDA7MTEwOzE1MA',\n",
       "   'meterClass': 'N/A',\n",
       "   'castItems': [{'name': 'David Icke', 'url': '/celebrity/david_icke'}],\n",
       "   'subline': 'David Icke, '},\n",
       "  {'name': 'Armitage III: Poly Matrix',\n",
       "   'year': 1997,\n",
       "   'url': '/m/armitage_iii_poly_matrix_1997',\n",
       "   'image': 'https://resizing.flixster.com/j6ADVaF-zVc_kKRrhX7sMsdUwjQ=/fit-in/80x80/v1.bTsxMTYxNzk5MjtqOzE5MDM0OzEyMDA7NzY4OzEwMjQ',\n",
       "   'meterClass': 'N/A',\n",
       "   'castItems': [{'name': 'Elizabeth Berkley',\n",
       "     'url': '/celebrity/elizabeth_berkley'},\n",
       "    {'name': 'Kiefer Sutherland', 'url': '/celebrity/kiefer_sutherland'},\n",
       "    {'name': 'Dan Woren', 'url': '/celebrity/dan-woren'}],\n",
       "   'subline': 'Elizabeth Berkley, Kiefer Sutherland, Dan Woren, '},\n",
       "  {'name': \"That 70's Matrix, (Morpheus)\",\n",
       "   'year': 2001,\n",
       "   'url': '/m/that-70s-matrix-morpheus',\n",
       "   'image': 'https://staticv2-4.rottentomatoes.com/static/images/redesign/poster_default_redesign.gif',\n",
       "   'meterClass': 'N/A',\n",
       "   'castItems': [{'name': 'Christo Garcia',\n",
       "     'url': '/celebrity/christo_garcia'},\n",
       "    {'name': 'Adam Salvatore', 'url': '/celebrity/adam_salvatore'},\n",
       "    {'name': 'Stephen Blackehart', 'url': '/celebrity/stephen_blackehart'}],\n",
       "   'subline': 'Christo Garcia, Adam Salvatore, Stephen Blackehart, '},\n",
       "  {'name': 'The Matrix Resurrections',\n",
       "   'year': 2021,\n",
       "   'url': '/m/the_matrix_resurrections',\n",
       "   'image': 'https://resizing.flixster.com/dV_8AqETa8a_AmzUgdApXVeIvcc=/fit-in/80x80/v1.bTsxMzkyNTc5MTtqOzE5MDE2OzEyMDA7Mjc2NDs0MDk2',\n",
       "   'meterClass': 'N/A',\n",
       "   'castItems': [{'name': 'Keanu Reeves', 'url': '/celebrity/keanu_reeves'},\n",
       "    {'name': 'Carrie-Anne Moss', 'url': '/celebrity/carrieanne_moss'},\n",
       "    {'name': 'Jessica Henwick', 'url': '/celebrity/jessica_henwick'}],\n",
       "   'subline': 'Keanu Reeves, Carrie-Anne Moss, Jessica Henwick, '}],\n",
       " 'tvCount': 0,\n",
       " 'tvSeries': []}"
      ]
     },
     "execution_count": 20,
     "metadata": {},
     "output_type": "execute_result"
    }
   ],
   "source": [
    "r.json()"
   ]
  },
  {
   "cell_type": "code",
   "execution_count": null,
   "id": "5e193577",
   "metadata": {},
   "outputs": [],
   "source": []
  }
 ],
 "metadata": {
  "kernelspec": {
   "display_name": "Python 3",
   "language": "python",
   "name": "python3"
  },
  "language_info": {
   "codemirror_mode": {
    "name": "ipython",
    "version": 3
   },
   "file_extension": ".py",
   "mimetype": "text/x-python",
   "name": "python",
   "nbconvert_exporter": "python",
   "pygments_lexer": "ipython3",
   "version": "3.8.8"
  }
 },
 "nbformat": 4,
 "nbformat_minor": 5
}
