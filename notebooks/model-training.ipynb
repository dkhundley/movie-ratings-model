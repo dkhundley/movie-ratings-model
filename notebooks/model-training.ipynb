{
 "cells": [
  {
   "cell_type": "markdown",
   "id": "c1f2acea",
   "metadata": {},
   "source": [
    "# Model Training Pipeline\n",
    "In the model selection notebook (`model-selection.ipynb`), we tested out a number of different algorithms to support the binary classification and regression models. This notebook will take the final candidates from that notebook to craft a full training pipeline. This full training pipeline will not only perform model training but will also incorporate feature engineering. At the end of this notebook, we will produce two serialized models in `.pkl` form: one for the binary classification model and the other for the regression model."
   ]
  },
  {
   "cell_type": "markdown",
   "id": "95d6e705",
   "metadata": {},
   "source": [
    "## Project Setup"
   ]
  },
  {
   "cell_type": "code",
   "execution_count": 1,
   "id": "b0aa0b8b",
   "metadata": {},
   "outputs": [],
   "source": [
    "# Importing the necessary Python libraries\n",
    "import warnings\n",
    "import numpy as np\n",
    "import pandas as pd\n",
    "from datetime import datetime\n",
    "from category_encoders.one_hot import OneHotEncoder\n",
    "from sklearn.linear_model import Lasso\n",
    "from sklearn.ensemble import RandomForestClassifier\n",
    "from sklearn.pipeline import Pipeline\n",
    "\n",
    "# Hiding any warnings\n",
    "warnings.filterwarnings('ignore')\n",
    "\n",
    "# Adjusting Pandas output\n",
    "pd.set_option(\"display.max_columns\", None)"
   ]
  },
  {
   "cell_type": "code",
   "execution_count": null,
   "id": "b19d1243",
   "metadata": {},
   "outputs": [],
   "source": []
  }
 ],
 "metadata": {
  "kernelspec": {
   "display_name": "Python 3 (ipykernel)",
   "language": "python",
   "name": "python3"
  },
  "language_info": {
   "codemirror_mode": {
    "name": "ipython",
    "version": 3
   },
   "file_extension": ".py",
   "mimetype": "text/x-python",
   "name": "python",
   "nbconvert_exporter": "python",
   "pygments_lexer": "ipython3",
   "version": "3.10.1"
  }
 },
 "nbformat": 4,
 "nbformat_minor": 5
}
