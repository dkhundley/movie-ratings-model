{
 "cells": [
  {
   "cell_type": "code",
   "execution_count": 1,
   "id": "7401dcce",
   "metadata": {},
   "outputs": [],
   "source": [
    "# Importing the required libraries\n",
    "import os\n",
    "import requests\n",
    "import pandas as pd\n",
    "from bs4 import BeautifulSoup"
   ]
  },
  {
   "cell_type": "code",
   "execution_count": 2,
   "id": "5eb7bc28",
   "metadata": {},
   "outputs": [],
   "source": [
    "# Loading up the dataframe with OMDb data\n",
    "df = pd.read_csv('../data/raw/all_data.csv')"
   ]
  },
  {
   "cell_type": "code",
   "execution_count": 3,
   "id": "6c82df19",
   "metadata": {},
   "outputs": [
    {
     "data": {
      "text/html": [
       "<div>\n",
       "<style scoped>\n",
       "    .dataframe tbody tr th:only-of-type {\n",
       "        vertical-align: middle;\n",
       "    }\n",
       "\n",
       "    .dataframe tbody tr th {\n",
       "        vertical-align: top;\n",
       "    }\n",
       "\n",
       "    .dataframe thead th {\n",
       "        text-align: right;\n",
       "    }\n",
       "</style>\n",
       "<table border=\"1\" class=\"dataframe\">\n",
       "  <thead>\n",
       "    <tr style=\"text-align: right;\">\n",
       "      <th></th>\n",
       "      <th>movie_name</th>\n",
       "      <th>biehn_scale_rating</th>\n",
       "      <th>biehn_yes_or_no</th>\n",
       "      <th>tmdb_id</th>\n",
       "      <th>imdb_id</th>\n",
       "      <th>budget</th>\n",
       "      <th>primary_genre</th>\n",
       "      <th>secondary_genre</th>\n",
       "      <th>tmdb_popularity</th>\n",
       "      <th>revenue</th>\n",
       "      <th>runtime</th>\n",
       "      <th>tmdb_vote_average</th>\n",
       "      <th>tmdb_vote_count</th>\n",
       "      <th>imdb_rating</th>\n",
       "      <th>imdb_votes</th>\n",
       "      <th>year</th>\n",
       "      <th>rt_critic_score</th>\n",
       "      <th>metascore</th>\n",
       "    </tr>\n",
       "  </thead>\n",
       "  <tbody>\n",
       "    <tr>\n",
       "      <th>0</th>\n",
       "      <td>Zoolander 2</td>\n",
       "      <td>7.0</td>\n",
       "      <td>Yes</td>\n",
       "      <td>329833</td>\n",
       "      <td>tt1608290</td>\n",
       "      <td>50000000</td>\n",
       "      <td>Comedy</td>\n",
       "      <td>NaN</td>\n",
       "      <td>13.830</td>\n",
       "      <td>55969000</td>\n",
       "      <td>100</td>\n",
       "      <td>4.8</td>\n",
       "      <td>1770</td>\n",
       "      <td>4.7</td>\n",
       "      <td>67134.0</td>\n",
       "      <td>1997</td>\n",
       "      <td>22%</td>\n",
       "      <td>34.0</td>\n",
       "    </tr>\n",
       "    <tr>\n",
       "      <th>1</th>\n",
       "      <td>Dope</td>\n",
       "      <td>8.5</td>\n",
       "      <td>Yes</td>\n",
       "      <td>308639</td>\n",
       "      <td>tt3850214</td>\n",
       "      <td>700000</td>\n",
       "      <td>Crime</td>\n",
       "      <td>Drama</td>\n",
       "      <td>8.980</td>\n",
       "      <td>17986781</td>\n",
       "      <td>103</td>\n",
       "      <td>7.1</td>\n",
       "      <td>1181</td>\n",
       "      <td>7.2</td>\n",
       "      <td>82856.0</td>\n",
       "      <td>1997</td>\n",
       "      <td>88%</td>\n",
       "      <td>72.0</td>\n",
       "    </tr>\n",
       "    <tr>\n",
       "      <th>2</th>\n",
       "      <td>The Big Short</td>\n",
       "      <td>8.0</td>\n",
       "      <td>Yes</td>\n",
       "      <td>318846</td>\n",
       "      <td>tt1596363</td>\n",
       "      <td>28000000</td>\n",
       "      <td>Comedy</td>\n",
       "      <td>Drama</td>\n",
       "      <td>27.772</td>\n",
       "      <td>133346506</td>\n",
       "      <td>131</td>\n",
       "      <td>7.3</td>\n",
       "      <td>6910</td>\n",
       "      <td>7.8</td>\n",
       "      <td>390958.0</td>\n",
       "      <td>1997</td>\n",
       "      <td>89%</td>\n",
       "      <td>81.0</td>\n",
       "    </tr>\n",
       "    <tr>\n",
       "      <th>3</th>\n",
       "      <td>Deadpool</td>\n",
       "      <td>10.0</td>\n",
       "      <td>Yes</td>\n",
       "      <td>293660</td>\n",
       "      <td>tt1431045</td>\n",
       "      <td>58000000</td>\n",
       "      <td>Action</td>\n",
       "      <td>Adventure</td>\n",
       "      <td>142.705</td>\n",
       "      <td>783100000</td>\n",
       "      <td>108</td>\n",
       "      <td>7.6</td>\n",
       "      <td>25551</td>\n",
       "      <td>8.0</td>\n",
       "      <td>949510.0</td>\n",
       "      <td>1997</td>\n",
       "      <td>85%</td>\n",
       "      <td>65.0</td>\n",
       "    </tr>\n",
       "    <tr>\n",
       "      <th>4</th>\n",
       "      <td>The Martian</td>\n",
       "      <td>8.0</td>\n",
       "      <td>Yes</td>\n",
       "      <td>286217</td>\n",
       "      <td>tt3659388</td>\n",
       "      <td>108000000</td>\n",
       "      <td>Drama</td>\n",
       "      <td>Adventure</td>\n",
       "      <td>57.411</td>\n",
       "      <td>630161890</td>\n",
       "      <td>144</td>\n",
       "      <td>7.7</td>\n",
       "      <td>16113</td>\n",
       "      <td>8.0</td>\n",
       "      <td>795821.0</td>\n",
       "      <td>1997</td>\n",
       "      <td>91%</td>\n",
       "      <td>80.0</td>\n",
       "    </tr>\n",
       "  </tbody>\n",
       "</table>\n",
       "</div>"
      ],
      "text/plain": [
       "      movie_name  biehn_scale_rating biehn_yes_or_no  tmdb_id    imdb_id  \\\n",
       "0    Zoolander 2                 7.0             Yes   329833  tt1608290   \n",
       "1           Dope                 8.5             Yes   308639  tt3850214   \n",
       "2  The Big Short                 8.0             Yes   318846  tt1596363   \n",
       "3       Deadpool                10.0             Yes   293660  tt1431045   \n",
       "4    The Martian                 8.0             Yes   286217  tt3659388   \n",
       "\n",
       "      budget primary_genre secondary_genre  tmdb_popularity    revenue  \\\n",
       "0   50000000        Comedy             NaN           13.830   55969000   \n",
       "1     700000         Crime           Drama            8.980   17986781   \n",
       "2   28000000        Comedy           Drama           27.772  133346506   \n",
       "3   58000000        Action       Adventure          142.705  783100000   \n",
       "4  108000000         Drama       Adventure           57.411  630161890   \n",
       "\n",
       "   runtime  tmdb_vote_average  tmdb_vote_count  imdb_rating  imdb_votes  year  \\\n",
       "0      100                4.8             1770          4.7     67134.0  1997   \n",
       "1      103                7.1             1181          7.2     82856.0  1997   \n",
       "2      131                7.3             6910          7.8    390958.0  1997   \n",
       "3      108                7.6            25551          8.0    949510.0  1997   \n",
       "4      144                7.7            16113          8.0    795821.0  1997   \n",
       "\n",
       "  rt_critic_score  metascore  \n",
       "0             22%       34.0  \n",
       "1             88%       72.0  \n",
       "2             89%       81.0  \n",
       "3             85%       65.0  \n",
       "4             91%       80.0  "
      ]
     },
     "execution_count": 3,
     "metadata": {},
     "output_type": "execute_result"
    }
   ],
   "source": [
    "# Viewing the first few rows of the all the collected movie data\n",
    "df.head()"
   ]
  },
  {
   "cell_type": "code",
   "execution_count": 4,
   "id": "443d5018",
   "metadata": {},
   "outputs": [],
   "source": [
    "# Setting \"The Matrix\" URL for Rotten Tomatoes\n",
    "matrix_url = 'https://www.rottentomatoes.com/m/matrix'"
   ]
  },
  {
   "cell_type": "code",
   "execution_count": 5,
   "id": "400ba78f",
   "metadata": {},
   "outputs": [],
   "source": [
    "# Getting the page contents from Rotten Tomatoes' page for \"The Matrix\"\n",
    "page_content = (requests.get(matrix_url)).content"
   ]
  },
  {
   "cell_type": "code",
   "execution_count": 6,
   "id": "c4ae6cb9",
   "metadata": {},
   "outputs": [],
   "source": [
    "# Parsing through page HTML content with Beautiful Soup\n",
    "soup = BeautifulSoup(page_content, 'html.parser')"
   ]
  },
  {
   "cell_type": "code",
   "execution_count": 7,
   "id": "d75ec3d1",
   "metadata": {},
   "outputs": [
    {
     "data": {
      "text/plain": [
       "<score-board audiencescore=\"85\" audiencestate=\"upright\" class=\"scoreboard\" data-qa=\"score-panel\" rating=\"R\" skeleton=\"panel\" tomatometerscore=\"88\" tomatometerstate=\"certified-fresh\">\n",
       "<h1 class=\"scoreboard__title\" data-qa=\"score-panel-movie-title\" slot=\"title\">The Matrix</h1>\n",
       "<p class=\"scoreboard__info\" slot=\"info\">1999, Action/Sci-fi, 2h 16m</p>\n",
       "<a class=\"scoreboard__link scoreboard__link--tomatometer\" data-qa=\"tomatometer-review-count\" href=\"/m/matrix/reviews?intcmp=rt-scorecard_tomatometer-reviews\" slot=\"critics-count\">155 Reviews</a>\n",
       "<a class=\"scoreboard__link scoreboard__link--audience\" data-qa=\"audience-rating-count\" href=\"/m/matrix/reviews?type=user&amp;intcmp=rt-scorecard_audience-score-reviews\" slot=\"audience-count\">250,000+ Ratings</a>\n",
       "<div id=\"tomatometer_sponsorship_ad\" slot=\"sponsorship\"></div>\n",
       "</score-board>"
      ]
     },
     "execution_count": 7,
     "metadata": {},
     "output_type": "execute_result"
    }
   ],
   "source": [
    "# Getting the Rotten Tomatoes scoreboard information from Beautiful Soup\n",
    "score_board = soup.find('score-board')\n",
    "score_board"
   ]
  },
  {
   "cell_type": "code",
   "execution_count": 10,
   "id": "91420eb7",
   "metadata": {},
   "outputs": [
    {
     "data": {
      "text/plain": [
       "'85'"
      ]
     },
     "execution_count": 10,
     "metadata": {},
     "output_type": "execute_result"
    }
   ],
   "source": [
    "# Extracting audience score from Beatiful Soup\n",
    "rt_audience_score = score_board['audiencescore']\n",
    "rt_audience_score"
   ]
  },
  {
   "cell_type": "code",
   "execution_count": 11,
   "id": "11e1011b",
   "metadata": {},
   "outputs": [
    {
     "data": {
      "text/plain": [
       "'88'"
      ]
     },
     "execution_count": 11,
     "metadata": {},
     "output_type": "execute_result"
    }
   ],
   "source": [
    "# Extracting critic score from Beautiful Soup\n",
    "rt_scraped_critic_score = score_board['tomatometerscore']\n",
    "rt_scraped_critic_score"
   ]
  },
  {
   "cell_type": "code",
   "execution_count": 12,
   "id": "000a55f3",
   "metadata": {},
   "outputs": [],
   "source": [
    "# Setting the movie title\n",
    "movie_name = 'The Matrix'"
   ]
  },
  {
   "cell_type": "code",
   "execution_count": 13,
   "id": "12b3ac30",
   "metadata": {},
   "outputs": [],
   "source": [
    "# Setting the search URL for Rotten Tomatoes\n",
    "rt_search_url = f'https://www.rottentomatoes.com/search?search={movie_name}'"
   ]
  },
  {
   "cell_type": "code",
   "execution_count": 14,
   "id": "46455872",
   "metadata": {},
   "outputs": [],
   "source": [
    "# Getting the base HTML page contents with the Requests library\n",
    "search_page_results = (requests.get(rt_search_url)).content"
   ]
  },
  {
   "cell_type": "code",
   "execution_count": 16,
   "id": "1c4a4f43",
   "metadata": {},
   "outputs": [],
   "source": [
    "# Turning search page results into Beautiful Soup object\n",
    "search_soup = BeautifulSoup(search_page_results, 'html.parser')"
   ]
  },
  {
   "cell_type": "code",
   "execution_count": 20,
   "id": "d2224fe6",
   "metadata": {},
   "outputs": [
    {
     "data": {
      "text/plain": [
       "<search-page-result data-qa=\"search-result\" skeleton=\"panel\" slot=\"movie\" type=\"movie\">\n",
       "<h2 data-qa=\"search-result-title\" slot=\"title\">Movies</h2>\n",
       "<button data-qa=\"paging-btn-prev\" slot=\"prev-btn\">Prev</button>\n",
       "<button data-qa=\"paging-btn-next\" slot=\"next-btn\">Next</button>\n",
       "<ul slot=\"list\">\n",
       "<search-page-media-row cast=\"Keanu Reeves,Carrie-Anne Moss,Jada Pinkett Smith\" data-qa=\"data-row\" endyear=\"\" releaseyear=\"2021\" skeleton=\"panel\" startyear=\"\" tomatometerscore=\"\" tomatometerstate=\"\">\n",
       "<a class=\"unset\" data-qa=\"thumbnail-link\" href=\"https://rottentomatoes.com/m/the_matrix_resurrections\" slot=\"thumbnail\">\n",
       "<img alt=\"The Matrix Resurrections\" src=\"https://resizing.flixster.com/enW38h4P51EbLL-XumTuGLYOmYs=/fit-in/80x126/v2/https://resizing.flixster.com/oQ_XiyVaSX88uaRymOVjIiBlmTQ=/ems.ZW1zLXByZC1hc3NldHMvbW92aWVzL2IxMzljYjVhLWZkZjYtNDNlOC04MGRhLWI2YjRiY2FhMWNmOC5qcGc=\"/>\n",
       "</a>\n",
       "<a class=\"unset\" data-qa=\"info-name\" href=\"https://rottentomatoes.com/m/the_matrix_resurrections\" slot=\"title\">\n",
       "                                        The Matrix Resurrections\n",
       "                                    </a>\n",
       "</search-page-media-row>\n",
       "<search-page-media-row cast=\"Keanu Reeves,Laurence Fishburne,Carrie-Anne Moss\" data-qa=\"data-row\" endyear=\"\" releaseyear=\"2003\" skeleton=\"panel\" startyear=\"\" tomatometerscore=\"73\" tomatometerstate=\"certified-fresh\">\n",
       "<a class=\"unset\" data-qa=\"thumbnail-link\" href=\"https://rottentomatoes.com/m/matrix_reloaded\" slot=\"thumbnail\">\n",
       "<img alt=\"The Matrix Reloaded\" src=\"https://resizing.flixster.com/GdmhuVMheB2vGX6CAKVa5HF4voQ=/fit-in/80x126/v2/https://flxt.tmsimg.com/NowShowing/28901/28901_cm.jpg\"/>\n",
       "</a>\n",
       "<a class=\"unset\" data-qa=\"info-name\" href=\"https://rottentomatoes.com/m/matrix_reloaded\" slot=\"title\">\n",
       "                                        The Matrix Reloaded\n",
       "                                    </a>\n",
       "</search-page-media-row>\n",
       "<search-page-media-row cast=\"Keanu Reeves,Laurence Fishburne,Carrie-Anne Moss\" data-qa=\"data-row\" endyear=\"\" releaseyear=\"2003\" skeleton=\"panel\" startyear=\"\" tomatometerscore=\"35\" tomatometerstate=\"rotten\">\n",
       "<a class=\"unset\" data-qa=\"thumbnail-link\" href=\"https://rottentomatoes.com/m/matrix_revolutions\" slot=\"thumbnail\">\n",
       "<img alt=\"The Matrix Revolutions\" src=\"https://resizing.flixster.com/Ofl-rhoLQ0iA9N2gCmrtZI3FBtc=/fit-in/80x126/v2/https://flxt.tmsimg.com/assets/p33157_p_v13_aa.jpg\"/>\n",
       "</a>\n",
       "<a class=\"unset\" data-qa=\"info-name\" href=\"https://rottentomatoes.com/m/matrix_revolutions\" slot=\"title\">\n",
       "                                        The Matrix Revolutions\n",
       "                                    </a>\n",
       "</search-page-media-row>\n",
       "<search-page-media-row cast=\"Unknown Actor\" data-qa=\"data-row\" endyear=\"\" releaseyear=\"2001\" skeleton=\"panel\" startyear=\"\" tomatometerscore=\"71\" tomatometerstate=\"fresh\">\n",
       "<a class=\"unset\" data-qa=\"thumbnail-link\" href=\"https://rottentomatoes.com/m/matrix_revisited\" slot=\"thumbnail\">\n",
       "<img alt=\"The Matrix Revisited\" src=\"https://staticv2-4.rottentomatoes.com/static/images/redesign/poster_default_redesign.gif\"/>\n",
       "</a>\n",
       "<a class=\"unset\" data-qa=\"info-name\" href=\"https://rottentomatoes.com/m/matrix_revisited\" slot=\"title\">\n",
       "                                        The Matrix Revisited\n",
       "                                    </a>\n",
       "</search-page-media-row>\n",
       "<search-page-media-row cast=\"Keanu Reeves,Laurence Fishburne,Carrie-Anne Moss\" data-qa=\"data-row\" endyear=\"\" releaseyear=\"1999\" skeleton=\"panel\" startyear=\"\" tomatometerscore=\"88\" tomatometerstate=\"certified-fresh\">\n",
       "<a class=\"unset\" data-qa=\"thumbnail-link\" href=\"https://rottentomatoes.com/m/matrix\" slot=\"thumbnail\">\n",
       "<img alt=\"The Matrix\" src=\"https://resizing.flixster.com/6UHQX0XXTHsWAgnapGOSE3NslW4=/fit-in/80x126/v2/https://flxt.tmsimg.com/assets/p22804_p_v10_ab.jpg\"/>\n",
       "</a>\n",
       "<a class=\"unset\" data-qa=\"info-name\" href=\"https://rottentomatoes.com/m/matrix\" slot=\"title\">\n",
       "                                        The Matrix\n",
       "                                    </a>\n",
       "</search-page-media-row>\n",
       "<search-page-media-row cast=\"Nick Bostrom,Joshua Cooke,Erik Davis\" data-qa=\"data-row\" endyear=\"\" releaseyear=\"2020\" skeleton=\"panel\" startyear=\"\" tomatometerscore=\"68\" tomatometerstate=\"fresh\">\n",
       "<a class=\"unset\" data-qa=\"thumbnail-link\" href=\"https://rottentomatoes.com/m/a_glitch_in_the_matrix\" slot=\"thumbnail\">\n",
       "<img alt=\"A Glitch in the Matrix\" src=\"https://resizing.flixster.com/GoH1KwqNnNsPd5LGVGsglilfL-s=/fit-in/80x126/v2/https://resizing.flixster.com/x_dN4sQ2i-cxEZ1_50tqw5V0OGQ=/ems.ZW1zLXByZC1hc3NldHMvbW92aWVzLzQ4MzNiM2I4LTgxZDYtNDVlYi05OGU2LTBlZDMyNGY4NWE5Yi5qcGc=\"/>\n",
       "</a>\n",
       "<a class=\"unset\" data-qa=\"info-name\" href=\"https://rottentomatoes.com/m/a_glitch_in_the_matrix\" slot=\"title\">\n",
       "                                        A Glitch in the Matrix\n",
       "                                    </a>\n",
       "</search-page-media-row>\n",
       "<search-page-media-row cast=\"Adam Dreamhealer,Arielle Essex,Peter Fraser\" data-qa=\"data-row\" endyear=\"\" releaseyear=\"2009\" skeleton=\"panel\" startyear=\"\" tomatometerscore=\"\" tomatometerstate=\"\">\n",
       "<a class=\"unset\" data-qa=\"thumbnail-link\" href=\"https://rottentomatoes.com/m/the-living-matrix\" slot=\"thumbnail\">\n",
       "<img alt=\"The Living Matrix\" src=\"https://resizing.flixster.com/WYA-odh0nk6EK0OGEy-STJUwqY0=/fit-in/80x126/v2/https://flxt.tmsimg.com/assets/p7865446_p_v10_aa.jpg\"/>\n",
       "</a>\n",
       "<a class=\"unset\" data-qa=\"info-name\" href=\"https://rottentomatoes.com/m/the-living-matrix\" slot=\"title\">\n",
       "                                        The Living Matrix\n",
       "                                    </a>\n",
       "</search-page-media-row>\n",
       "<search-page-media-row cast=\"Samantha Phillips,Morgan Kelly,John Matrix\" data-qa=\"data-row\" endyear=\"\" releaseyear=\"2000\" skeleton=\"panel\" startyear=\"\" tomatometerscore=\"\" tomatometerstate=\"\">\n",
       "<a class=\"unset\" data-qa=\"thumbnail-link\" href=\"https://rottentomatoes.com/m/andromina_the_pleasure_planet\" slot=\"thumbnail\">\n",
       "<img alt=\"Andromina: The Pleasure Planet\" src=\"https://resizing.flixster.com/lDCmUxHa_67S3FSlQYeHVBTLHX8=/fit-in/80x126/v2/https://flxt.tmsimg.com/assets/p25867_v_v10_aa.jpg\"/>\n",
       "</a>\n",
       "<a class=\"unset\" data-qa=\"info-name\" href=\"https://rottentomatoes.com/m/andromina_the_pleasure_planet\" slot=\"title\">\n",
       "                                        Andromina: The Pleasure Planet\n",
       "                                    </a>\n",
       "</search-page-media-row>\n",
       "<search-page-media-row cast=\"Leon Lai,Rene Liu,Bingbing Fan\" data-qa=\"data-row\" endyear=\"\" releaseyear=\"2007\" skeleton=\"panel\" startyear=\"\" tomatometerscore=\"\" tomatometerstate=\"\">\n",
       "<a class=\"unset\" data-qa=\"thumbnail-link\" href=\"https://rottentomatoes.com/m/the-matrimony-xin-zhong-you-gui\" slot=\"thumbnail\">\n",
       "<img alt=\"The Matrimony\" src=\"https://staticv2-4.rottentomatoes.com/static/images/redesign/poster_default_redesign.gif\"/>\n",
       "</a>\n",
       "<a class=\"unset\" data-qa=\"info-name\" href=\"https://rottentomatoes.com/m/the-matrimony-xin-zhong-you-gui\" slot=\"title\">\n",
       "                                        The Matrimony\n",
       "                                    </a>\n",
       "</search-page-media-row>\n",
       "<search-page-media-row cast=\"Douglas Fairbanks,Constance Talmadge,Wilbur Higby\" data-qa=\"data-row\" endyear=\"\" releaseyear=\"1916\" skeleton=\"panel\" startyear=\"\" tomatometerscore=\"\" tomatometerstate=\"\">\n",
       "<a class=\"unset\" data-qa=\"thumbnail-link\" href=\"https://rottentomatoes.com/m/the_matrimaniac\" slot=\"thumbnail\">\n",
       "<img alt=\"The Matrimaniac\" src=\"https://staticv2-4.rottentomatoes.com/static/images/redesign/poster_default_redesign.gif\"/>\n",
       "</a>\n",
       "<a class=\"unset\" data-qa=\"info-name\" href=\"https://rottentomatoes.com/m/the_matrimaniac\" slot=\"title\">\n",
       "                                        The Matrimaniac\n",
       "                                    </a>\n",
       "</search-page-media-row>\n",
       "</ul>\n",
       "<button data-qa=\"search-more-btn\" slot=\"more-btn\">More Movies...</button>\n",
       "</search-page-result>"
      ]
     },
     "execution_count": 20,
     "metadata": {},
     "output_type": "execute_result"
    }
   ],
   "source": [
    "search_soup.find('search-page-result', attrs = {'type': 'movie'})"
   ]
  },
  {
   "cell_type": "code",
   "execution_count": null,
   "id": "3be2c9ff",
   "metadata": {},
   "outputs": [],
   "source": []
  }
 ],
 "metadata": {
  "kernelspec": {
   "display_name": "Python 3",
   "language": "python",
   "name": "python3"
  },
  "language_info": {
   "codemirror_mode": {
    "name": "ipython",
    "version": 3
   },
   "file_extension": ".py",
   "mimetype": "text/x-python",
   "name": "python",
   "nbconvert_exporter": "python",
   "pygments_lexer": "ipython3",
   "version": "3.8.8"
  }
 },
 "nbformat": 4,
 "nbformat_minor": 5
}
