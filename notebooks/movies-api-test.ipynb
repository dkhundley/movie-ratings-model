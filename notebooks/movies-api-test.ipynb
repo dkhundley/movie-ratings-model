{
 "cells": [
  {
   "cell_type": "code",
   "execution_count": 1,
   "metadata": {},
   "outputs": [],
   "source": [
    "from rotten_tomatoes_client import RottenTomatoesClient\n",
    "from imdb import IMDb"
   ]
  },
  {
   "cell_type": "code",
   "execution_count": null,
   "metadata": {},
   "outputs": [],
   "source": [
    "ia = IMDb()"
   ]
  },
  {
   "cell_type": "code",
   "execution_count": null,
   "metadata": {},
   "outputs": [],
   "source": [
    "the_matrix = ia.get_movie('0133093')"
   ]
  },
  {
   "cell_type": "code",
   "execution_count": null,
   "metadata": {},
   "outputs": [],
   "source": [
    "imdb_movie = ia.search_movie('The Matrix')"
   ]
  },
  {
   "cell_type": "code",
   "execution_count": null,
   "metadata": {},
   "outputs": [],
   "source": [
    "imdb_movie[0]"
   ]
  },
  {
   "cell_type": "code",
   "execution_count": null,
   "metadata": {},
   "outputs": [],
   "source": [
    "imdb_movie[0]['title']"
   ]
  },
  {
   "cell_type": "code",
   "execution_count": null,
   "metadata": {},
   "outputs": [],
   "source": [
    "imdb_movie[0]"
   ]
  },
  {
   "cell_type": "code",
   "execution_count": null,
   "metadata": {},
   "outputs": [],
   "source": [
    "the_matrix"
   ]
  },
  {
   "cell_type": "code",
   "execution_count": 4,
   "metadata": {},
   "outputs": [],
   "source": [
    "result = RottenTomatoesClient.search(term=\"Indiana Jones\", limit=5)"
   ]
  },
  {
   "cell_type": "code",
   "execution_count": 5,
   "metadata": {},
   "outputs": [
    {
     "data": {
      "text/plain": [
       "{'actorCount': 0,\n",
       " 'actors': [],\n",
       " 'criticCount': 0,\n",
       " 'critics': [],\n",
       " 'franchiseCount': 1,\n",
       " 'franchises': [{'title': 'Indiana Jones',\n",
       "   'url': '/franchise/indiana_jones',\n",
       "   'image': 'https://resizing.flixster.com/k8us2nw8uY25y16Ha7l2M5jqqm4=/fit-in/80x80/v1.bjsxNDMzNTI2O2o7MTg5MTY7MTIwMDs2MDA7MjYy'}],\n",
       " 'movieCount': 32,\n",
       " 'movies': [{'name': 'Raiders of the Lost Ark',\n",
       "   'year': 1981,\n",
       "   'url': '/m/raiders_of_the_lost_ark',\n",
       "   'image': 'https://resizing.flixster.com/tZDnYqdTS-DxASH7HOiYmcA2Aws=/fit-in/80x80/v1.bTsxMTE1NzYxNDtqOzE4OTM5OzEyMDA7MTAxMDsxNTAw',\n",
       "   'meterClass': 'certified_fresh',\n",
       "   'meterScore': 95,\n",
       "   'castItems': [{'name': 'Harrison Ford', 'url': '/celebrity/harrison_ford'},\n",
       "    {'name': 'Karen Allen', 'url': '/celebrity/karen_allen'},\n",
       "    {'name': 'Paul Freeman', 'url': '/celebrity/1005456-paul_freeman'}],\n",
       "   'subline': 'Harrison Ford, Karen Allen, Paul Freeman, '},\n",
       "  {'name': 'Indiana Jones and the Temple of Doom',\n",
       "   'year': 1984,\n",
       "   'url': '/m/indiana_jones_and_the_temple_of_doom',\n",
       "   'image': 'https://resizing.flixster.com/rQyEMkKtx7djNtYMRan2NXzAwrc=/fit-in/80x80/v1.bTsxMTIxMzY0MztqOzE4OTM5OzEyMDA7MTQ5MTsxOTg4',\n",
       "   'meterClass': 'certified_fresh',\n",
       "   'meterScore': 84,\n",
       "   'castItems': [{'name': 'Harrison Ford', 'url': '/celebrity/harrison_ford'},\n",
       "    {'name': 'Kate Capshaw', 'url': '/celebrity/kate_capshaw'},\n",
       "    {'name': 'Jonathan Ke Quan', 'url': '/celebrity/jonathan-ke-quan'}],\n",
       "   'subline': 'Harrison Ford, Kate Capshaw, Jonathan Ke Quan, '},\n",
       "  {'name': 'Indiana Jones and the Last Crusade',\n",
       "   'year': 1989,\n",
       "   'url': '/m/indiana_jones_and_the_last_crusade',\n",
       "   'image': 'https://resizing.flixster.com/Bpz_qsUc6P4-lmqczcCmH0EMU9c=/fit-in/80x80/v1.bTsxMTIxMzY0NDtqOzE4OTM5OzEyMDA7MjU1MzszNDA0',\n",
       "   'meterClass': 'certified_fresh',\n",
       "   'meterScore': 88,\n",
       "   'castItems': [{'name': 'Harrison Ford', 'url': '/celebrity/harrison_ford'},\n",
       "    {'name': 'Sean Connery', 'url': '/celebrity/sean_connery'},\n",
       "    {'name': 'Alison Doody', 'url': '/celebrity/alison_doody'}],\n",
       "   'subline': 'Harrison Ford, Sean Connery, Alison Doody, '},\n",
       "  {'name': 'Indiana Jones and the Kingdom of the Crystal Skull',\n",
       "   'year': 2008,\n",
       "   'url': '/m/indiana_jones_and_the_kingdom_of_the_crystal_skull',\n",
       "   'image': 'https://resizing.flixster.com/JM-FW0YBliaI3guEQJT-ehQXuHA=/fit-in/80x80/v1.bTsxMTIxODUxNztqOzE4OTM5OzEyMDA7MTAxMTsxMzQ4',\n",
       "   'meterClass': 'certified_fresh',\n",
       "   'meterScore': 78,\n",
       "   'castItems': [{'name': 'Harrison Ford', 'url': '/celebrity/harrison_ford'},\n",
       "    {'name': 'Shia LaBeouf', 'url': '/celebrity/shia_labeouf'},\n",
       "    {'name': 'Cate Blanchett', 'url': '/celebrity/cate_blanchett'}],\n",
       "   'subline': 'Harrison Ford, Shia LaBeouf, Cate Blanchett, '},\n",
       "  {'name': 'Indiana Jones 5',\n",
       "   'year': 2022,\n",
       "   'url': '/m/indiana_jones_5',\n",
       "   'image': 'https://staticv2-4.rottentomatoes.com/static/images/redesign/poster_default_redesign.gif',\n",
       "   'meterClass': 'N/A',\n",
       "   'castItems': [{'name': 'Harrison Ford', 'url': '/celebrity/harrison_ford'}],\n",
       "   'subline': 'Harrison Ford, '}],\n",
       " 'tvCount': 1,\n",
       " 'tvSeries': [{'title': 'The Young Indiana Jones Chronicles',\n",
       "   'startYear': 1992,\n",
       "   'endYear': 1993,\n",
       "   'url': '/tv/the_young_indiana_jones_chronicles',\n",
       "   'meterClass': 'fresh',\n",
       "   'meterScore': 77,\n",
       "   'image': 'https://resizing.flixster.com/fXhU3ojzdcL3wZY-zQLMMLTs99I=/fit-in/80x80/v1.dDsyNzY4NDA7ajsxODg1ODsxMjAwOzY2Njs5OTk'}]}"
      ]
     },
     "execution_count": 5,
     "metadata": {},
     "output_type": "execute_result"
    },
    {
     "data": {
      "text/plain": [
       "{'actorCount': 0,\n",
       " 'actors': [],\n",
       " 'criticCount': 0,\n",
       " 'critics': [],\n",
       " 'franchiseCount': 1,\n",
       " 'franchises': [{'title': 'Indiana Jones',\n",
       "   'url': '/franchise/indiana_jones',\n",
       "   'image': 'https://resizing.flixster.com/k8us2nw8uY25y16Ha7l2M5jqqm4=/fit-in/80x80/v1.bjsxNDMzNTI2O2o7MTg5MTY7MTIwMDs2MDA7MjYy'}],\n",
       " 'movieCount': 32,\n",
       " 'movies': [{'name': 'Raiders of the Lost Ark',\n",
       "   'year': 1981,\n",
       "   'url': '/m/raiders_of_the_lost_ark',\n",
       "   'image': 'https://resizing.flixster.com/tZDnYqdTS-DxASH7HOiYmcA2Aws=/fit-in/80x80/v1.bTsxMTE1NzYxNDtqOzE4OTM5OzEyMDA7MTAxMDsxNTAw',\n",
       "   'meterClass': 'certified_fresh',\n",
       "   'meterScore': 95,\n",
       "   'castItems': [{'name': 'Harrison Ford', 'url': '/celebrity/harrison_ford'},\n",
       "    {'name': 'Karen Allen', 'url': '/celebrity/karen_allen'},\n",
       "    {'name': 'Paul Freeman', 'url': '/celebrity/1005456-paul_freeman'}],\n",
       "   'subline': 'Harrison Ford, Karen Allen, Paul Freeman, '},\n",
       "  {'name': 'Indiana Jones and the Temple of Doom',\n",
       "   'year': 1984,\n",
       "   'url': '/m/indiana_jones_and_the_temple_of_doom',\n",
       "   'image': 'https://resizing.flixster.com/rQyEMkKtx7djNtYMRan2NXzAwrc=/fit-in/80x80/v1.bTsxMTIxMzY0MztqOzE4OTM5OzEyMDA7MTQ5MTsxOTg4',\n",
       "   'meterClass': 'certified_fresh',\n",
       "   'meterScore': 84,\n",
       "   'castItems': [{'name': 'Harrison Ford', 'url': '/celebrity/harrison_ford'},\n",
       "    {'name': 'Kate Capshaw', 'url': '/celebrity/kate_capshaw'},\n",
       "    {'name': 'Jonathan Ke Quan', 'url': '/celebrity/jonathan-ke-quan'}],\n",
       "   'subline': 'Harrison Ford, Kate Capshaw, Jonathan Ke Quan, '},\n",
       "  {'name': 'Indiana Jones and the Last Crusade',\n",
       "   'year': 1989,\n",
       "   'url': '/m/indiana_jones_and_the_last_crusade',\n",
       "   'image': 'https://resizing.flixster.com/Bpz_qsUc6P4-lmqczcCmH0EMU9c=/fit-in/80x80/v1.bTsxMTIxMzY0NDtqOzE4OTM5OzEyMDA7MjU1MzszNDA0',\n",
       "   'meterClass': 'certified_fresh',\n",
       "   'meterScore': 88,\n",
       "   'castItems': [{'name': 'Harrison Ford', 'url': '/celebrity/harrison_ford'},\n",
       "    {'name': 'Sean Connery', 'url': '/celebrity/sean_connery'},\n",
       "    {'name': 'Alison Doody', 'url': '/celebrity/alison_doody'}],\n",
       "   'subline': 'Harrison Ford, Sean Connery, Alison Doody, '},\n",
       "  {'name': 'Indiana Jones and the Kingdom of the Crystal Skull',\n",
       "   'year': 2008,\n",
       "   'url': '/m/indiana_jones_and_the_kingdom_of_the_crystal_skull',\n",
       "   'image': 'https://resizing.flixster.com/JM-FW0YBliaI3guEQJT-ehQXuHA=/fit-in/80x80/v1.bTsxMTIxODUxNztqOzE4OTM5OzEyMDA7MTAxMTsxMzQ4',\n",
       "   'meterClass': 'certified_fresh',\n",
       "   'meterScore': 78,\n",
       "   'castItems': [{'name': 'Harrison Ford', 'url': '/celebrity/harrison_ford'},\n",
       "    {'name': 'Shia LaBeouf', 'url': '/celebrity/shia_labeouf'},\n",
       "    {'name': 'Cate Blanchett', 'url': '/celebrity/cate_blanchett'}],\n",
       "   'subline': 'Harrison Ford, Shia LaBeouf, Cate Blanchett, '},\n",
       "  {'name': 'Indiana Jones 5',\n",
       "   'year': 2022,\n",
       "   'url': '/m/indiana_jones_5',\n",
       "   'image': 'https://staticv2-4.rottentomatoes.com/static/images/redesign/poster_default_redesign.gif',\n",
       "   'meterClass': 'N/A',\n",
       "   'castItems': [{'name': 'Harrison Ford', 'url': '/celebrity/harrison_ford'}],\n",
       "   'subline': 'Harrison Ford, '}],\n",
       " 'tvCount': 1,\n",
       " 'tvSeries': [{'title': 'The Young Indiana Jones Chronicles',\n",
       "   'startYear': 1992,\n",
       "   'endYear': 1993,\n",
       "   'url': '/tv/the_young_indiana_jones_chronicles',\n",
       "   'meterClass': 'fresh',\n",
       "   'meterScore': 77,\n",
       "   'image': 'https://resizing.flixster.com/fXhU3ojzdcL3wZY-zQLMMLTs99I=/fit-in/80x80/v1.dDsyNzY4NDA7ajsxODg1ODsxMjAwOzY2Njs5OTk'}]}"
      ]
     },
     "execution_count": 5,
     "metadata": {},
     "output_type": "execute_result"
    }
   ],
   "source": [
    "result"
   ]
  },
  {
   "cell_type": "code",
   "execution_count": null,
   "metadata": {},
   "outputs": [],
   "source": []
  }
 ],
 "metadata": {
  "kernelspec": {
   "display_name": "Python 3",
   "language": "python",
   "name": "python3"
  },
  "language_info": {
   "codemirror_mode": {
    "name": "ipython",
    "version": 3
   },
   "file_extension": ".py",
   "mimetype": "text/x-python",
   "name": "python",
   "nbconvert_exporter": "python",
   "pygments_lexer": "ipython3",
   "version": "3.8.8"
  }
 },
 "nbformat": 4,
 "nbformat_minor": 2
}
