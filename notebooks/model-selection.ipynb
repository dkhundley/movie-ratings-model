{
 "cells": [
  {
   "cell_type": "markdown",
   "id": "a3421021",
   "metadata": {},
   "source": [
    "# Model Selection\n",
    "Now that we have completed feature engineering, we are ready to start testing our dataset against various algorithms to see which produces the most accurate inferences. As a reminder, this project technically contains **two different models** as we are looking to predict two different values: a binary \"yes/no\" approval rating and a single-point decimal float between 0.0 and 10.0, more lovingly referred to as the *Biehn Scale*.\n",
    "\n",
    "For each model we'll be creating, we will be testing **five different types of algorithms** to assess which performs the best. You might be asking the question, \"Which algorithm is the best for my situation?\" A super strong mathematician might be able to give you a decent answer, but at the end of the day, the truth is simply this: **The algorithm most right for your project is the one that produces the most consistently accurate results!** To that end, we test multiple algorithms instead of settling on a single one.\n",
    "\n",
    "The goal of this notebook is to assess the results of each of the algorithms. Once we settle on one that seems to produce the best results, then we will create another notebook to formalize the model training process with a full ML pipeline."
   ]
  },
  {
   "cell_type": "markdown",
   "id": "8d00a7df",
   "metadata": {},
   "source": [
    "## Modeling Strategy\n",
    "While we already noted that we will be testing out five of each respective algorithm, there are some specific activities we will also need to do when performing the modeling. These things include the following:\n",
    "\n",
    "- **Hyperparameter Tuning**: In order to ensure each algorithm is performing optimally, we will be performing hyperparameter tuning to seek the ideal hyperparameters for each model.\n",
    "- **K-Fold Validation**: Because the dataset we will be training against is relatively small, we can't do a typical train-test split like we would with a normally large dataset. Because we want to make the most efficient use of our dataset, we will be using k-fold validation. This processes will shuffle the dataset into little training and validation batches, and this will happen multiple times. The output of this process will allow us to assess the dataset to its fullest extent.\n",
    "- **Metric Validation**: With the models trained, we will want to ensure they perform effectively be comparing them with proper validation metrics.\n",
    "- **Feature Scaling (Optional)**: Depending on the algorithm we use, we may or may not need to perform a feature scaling on the dataset."
   ]
  },
  {
   "cell_type": "markdown",
   "id": "c5ef958d",
   "metadata": {},
   "source": [
    "## Project Setup\n",
    "Let's go ahead and perform a handful of activities as we prepare start the model selection."
   ]
  },
  {
   "cell_type": "code",
   "execution_count": 1,
   "id": "a1365f50",
   "metadata": {},
   "outputs": [],
   "source": [
    "# Importing the necessary Python libraries\n",
    "import numpy as np\n",
    "import pandas as pd\n",
    "from statistics import mean\n",
    "from sklearn.preprocessing import StandardScaler\n",
    "from sklearn.model_selection import KFold, GridSearchCV\n",
    "from sklearn.metrics import accuracy_score, roc_auc_score, f1_score, mean_absolute_error, mean_squared_error, r2_score\n",
    "\n",
    "# Importing the binary classification algorithms\n",
    "from sklearn.linear_model import LogisticRegression\n",
    "from sklearn.naive_bayes import GaussianNB\n",
    "from sklearn.svm import SVC\n",
    "from sklearn.ensemble import RandomForestClassifier\n",
    "# from catboost import CatBoostClassifier\n",
    "\n",
    "# Importing the regression algorithms\n",
    "from sklearn.linear_model import LinearRegression\n",
    "from sklearn.linear_model import Lasso\n",
    "from sklearn.svm import SVR\n",
    "from sklearn.ensemble import RandomForestRegressor\n",
    "# from catboost import CatBoostRegressor"
   ]
  },
  {
   "cell_type": "code",
   "execution_count": 2,
   "id": "79e666cf",
   "metadata": {},
   "outputs": [],
   "source": [
    "# Importing warnings to suppress warnings\n",
    "import warnings\n",
    "warnings.filterwarnings('ignore')"
   ]
  },
  {
   "cell_type": "code",
   "execution_count": 3,
   "id": "6e87f4ff",
   "metadata": {},
   "outputs": [],
   "source": [
    "# Loading in the cleaned dataset\n",
    "df_clean = pd.read_csv('../data/clean/train.csv')"
   ]
  },
  {
   "cell_type": "code",
   "execution_count": 4,
   "id": "ee823af1",
   "metadata": {},
   "outputs": [],
   "source": [
    "# Dropping the movie name from df_clean\n",
    "df_clean.drop(columns = ['movie_name'], inplace = True)"
   ]
  },
  {
   "cell_type": "markdown",
   "id": "8b51aa68",
   "metadata": {},
   "source": [
    "## Binary Classification Models\n",
    "Now that we have loaded in the feature engineered dataset, `df_clean`, we are now ready to begin testing out a number of different binary classification algorithms. As mentioned at the top of this notebook, we will be trying out **five different binary classification algorithms**. Note that we will *not* be testing any deep learning algorithms. This is for two reasons: a) I don't want to have to mess with a GPU, and b) they tend not to perform any better than the algorithms listed below.\n",
    "\n",
    "These algorithms are the following:\n",
    "\n",
    "- **Scikit-Learn's Logistic Regression algorithm**: While \"regression\" in the name can be deceiving, logistic regression is a very simple yet powerful algorithm for binary classification. Because we want to test out various algorithm types, we are selecting Scikit-Learn's logistic regression algorithm as a more simple variant.\n",
    "- **Scikit-Learn's Gaussian Naive Bayes (GaussianNB) algorithm**: The most popular implementation of a Naive Bayes algorithm, we'll be testing out Scikit-Learn's GaussianNB implementation to see how it fares against our dataset.\n",
    "- **Scikit-Learn's Support Vector Machine (SVM) algorithm***: While not as simple as the Logistic Regression algorithm, the SVM is a simpler kind of algorithm. This algorithm tends to perform better in higher dimensions (aka datasets with more features), and while our dataset has a fewer number of dimensions, I still think it's worth checking out.\n",
    "- **Scikit-Learn's Random Forest Classifier algorithm**: This is one of the most popular binary classification algorithms used in the ML industry. This is because it often produces pretty accurate results as well as featuring an easier algorithm explainability. The Random Forest Classifier is also a classic example of what is referred to as an *ensemble model*.\n",
    "- **CatBoost's CatBoostClassifier algorithm**: You may not have heard of this algorithm before, but it is a very popular one amongst my coworkers at my Fortune 50 company. This is because it has often been proven to provide the best performance results.\n",
    "\n",
    "**Indicates that algorithm will need feature scaling*\n",
    "\n",
    "Before we jump into the algorithms, we will need to separate the predictor value, `biehn_yes_or_no`, from the rest of the dataset."
   ]
  },
  {
   "cell_type": "code",
   "execution_count": 5,
   "id": "d0ec13d9",
   "metadata": {},
   "outputs": [],
   "source": [
    "# Splitting the predictor value from the remainder of the dataset\n",
    "X = df_clean.drop(columns = ['biehn_yes_or_no', 'biehn_scale_rating'])\n",
    "y = df_clean[['biehn_yes_or_no']]"
   ]
  },
  {
   "cell_type": "markdown",
   "id": "1a89f381",
   "metadata": {},
   "source": [
    "### Binary Classification Reusable Function\n",
    "Given that we're going to be running similar code on five different models, I thought it would be helpful to create a reusable function that can easily churn through all five of these models."
   ]
  },
  {
   "cell_type": "code",
   "execution_count": 6,
   "id": "3a927b3c",
   "metadata": {},
   "outputs": [],
   "source": [
    "# Creating a reusable function for churning through all five binary classification algorithms\n",
    "def generate_binary_classification_model(X, y, model_algorithm, hyperparameters, needs_scaled = False):\n",
    "    \"\"\"\n",
    "    Generating everything required for training and validation of a binary classification model\n",
    "\n",
    "    Args:\n",
    "        - X (Pandas DataFrame): A DataFrame containing the cleaned training data\n",
    "        - y (Pandas DataFrame): A DataFrame containing the target values correlated to the X training data\n",
    "        - model_algorithm (object): A model algorithm that will be trained against the X and y data\n",
    "        - hyperparameters (dict): A dictionary containing all the hyperparameters to test the model with\n",
    "        - needs_scaled (Boolean): A boolean value that indicates whether or not the input dataset\n",
    "    \"\"\"\n",
    "    \n",
    "    # Performing a scaling on the data if required\n",
    "    if needs_scaled:\n",
    "        \n",
    "        # Instantiating the StandardScaler\n",
    "        scaler = StandardScaler()\n",
    "        \n",
    "        # Performing a fit_transform on the dataset\n",
    "        scaled_features = scaler.fit_transform(X)\n",
    "        \n",
    "        # Transforming the StandardScaler output back into a Pandas DataFrame\n",
    "        X = pd.DataFrame(scaled_features, index = X.index, columns = X.columns)\n",
    "        \n",
    "    # Instantiating a GridSearch object with the inputted model algorithm and hyperparameters\n",
    "    gridsearchcv = GridSearchCV(estimator = model_algorithm,\n",
    "                                param_grid = hyperparameters)\n",
    "    \n",
    "    # Fitting the training data to the GridSearch object\n",
    "    gridsearchcv.fit(X, y)\n",
    "    \n",
    "    # Printing out the best hyperparameters\n",
    "    print(f'Best hyperparameters: {gridsearchcv.best_params_}')\n",
    "    \n",
    "    # Instantiating a new model object with the ideal hyperparameters from the GridSearch job\n",
    "    model_algorithm.set_params(**gridsearchcv.best_params_)\n",
    "    \n",
    "    # Creating a container to hold each set of validation metrics\n",
    "    accuracy_scores, roc_auc_scores, f1_scores = [], [], []\n",
    "    \n",
    "    # Instantiating the K-Fold cross validation object\n",
    "    k_fold = KFold(n_splits = 5)\n",
    "    \n",
    "    # Iterating through each of the folds in K-Fold\n",
    "    for train_index, val_index in k_fold.split(X):\n",
    "\n",
    "        # Splitting the training set from the validation set for this specific fold\n",
    "        X_train, X_val = X.iloc[train_index, :], X.iloc[val_index, :]\n",
    "        y_train, y_val = y.iloc[train_index], y.iloc[val_index]\n",
    "        \n",
    "        # Fitting the X_train and y_train datasets to the model algorithm\n",
    "        model_algorithm.fit(X_train, y_train)\n",
    "\n",
    "        # Getting inferential predictions for the validation dataset\n",
    "        val_preds = model_algorithm.predict(X_val)\n",
    "\n",
    "        # Generating validation metrics by comparing the inferential predictions (val_preds) to the actuals (y_val)\n",
    "        val_accuracy = accuracy_score(y_val, val_preds)\n",
    "        val_roc_auc_score = roc_auc_score(y_val, val_preds)\n",
    "        val_f1_score = f1_score(y_val, val_preds)\n",
    "        \n",
    "        # Appending the validation scores to the respective validation metric container\n",
    "        accuracy_scores.append(val_accuracy)\n",
    "        roc_auc_scores.append(val_roc_auc_score)\n",
    "        f1_scores.append(val_f1_score)\n",
    "        \n",
    "    # Getting the average (mean) of each validation score\n",
    "    average_accuracy = int(mean(accuracy_scores) * 100)\n",
    "    average_roc_auc_score = int(mean(roc_auc_scores) * 100)\n",
    "    average_f1_score = int(mean(f1_scores) * 100)\n",
    "    \n",
    "    # Printing out the average validation metrics\n",
    "    print(f'Average accuracy score: {average_accuracy}%')\n",
    "    print(f'Average ROC AUC score: {average_roc_auc_score}%')\n",
    "    print(f'Average F1 score: {average_f1_score}%')"
   ]
  },
  {
   "cell_type": "markdown",
   "id": "fdddd43d",
   "metadata": {},
   "source": [
    "### Algorithm #1: Logistic Regression"
   ]
  },
  {
   "cell_type": "code",
   "execution_count": 7,
   "id": "b41e36a4",
   "metadata": {},
   "outputs": [],
   "source": [
    "# Setting the hyperparameter grid for the Logistic Regression algorithm\n",
    "logistic_reg_params = {\n",
    "    'penalty': ['l1', 'l2'],\n",
    "    'C': np.logspace(-4, 4, 20),\n",
    "    'solver': ['lbfgs', 'liblinear']\n",
    "}"
   ]
  },
  {
   "cell_type": "code",
   "execution_count": 8,
   "id": "809c3fb8",
   "metadata": {},
   "outputs": [],
   "source": [
    "# Instantiating the Logistic Regression algorithm object\n",
    "logistic_reg_algorithm = LogisticRegression()"
   ]
  },
  {
   "cell_type": "code",
   "execution_count": 9,
   "id": "a9ba6b8f",
   "metadata": {},
   "outputs": [
    {
     "name": "stdout",
     "output_type": "stream",
     "text": [
      "Best hyperparameters: {'C': 0.03359818286283781, 'penalty': 'l1', 'solver': 'liblinear'}\n",
      "Average accuracy score: 79%\n",
      "Average ROC AUC score: 54%\n",
      "Average F1 score: 88%\n"
     ]
    }
   ],
   "source": [
    "# Feeding the algorithm into the reusable binary classification function\n",
    "generate_binary_classification_model(X = X,\n",
    "                                     y = y,\n",
    "                                     model_algorithm = logistic_reg_algorithm,\n",
    "                                     hyperparameters = logistic_reg_params)"
   ]
  },
  {
   "cell_type": "markdown",
   "id": "bf5a79a7",
   "metadata": {},
   "source": [
    "### Algorithm #2: Gaussian Naive Bayes"
   ]
  },
  {
   "cell_type": "code",
   "execution_count": 10,
   "id": "d2528479",
   "metadata": {},
   "outputs": [],
   "source": [
    "# Setting the hyperparameter grid for the GaussianNB algorithm\n",
    "gaussian_nb_params = {\n",
    "    'var_smoothing': np.logspace(0, -9, num = 100)\n",
    "}"
   ]
  },
  {
   "cell_type": "code",
   "execution_count": 11,
   "id": "958d3f0b",
   "metadata": {},
   "outputs": [],
   "source": [
    "# Instantiating the GaussianNB algorithm object\n",
    "gaussian_nb_algorithm = GaussianNB()"
   ]
  },
  {
   "cell_type": "code",
   "execution_count": 12,
   "id": "74f4cfb7",
   "metadata": {},
   "outputs": [
    {
     "name": "stdout",
     "output_type": "stream",
     "text": [
      "Best hyperparameters: {'var_smoothing': 1.0}\n",
      "Average accuracy score: 78%\n",
      "Average ROC AUC score: 50%\n",
      "Average F1 score: 88%\n"
     ]
    }
   ],
   "source": [
    "# Feeding the algorithm into the reusable binary classification function\n",
    "generate_binary_classification_model(X = X,\n",
    "                                     y = y,\n",
    "                                     model_algorithm = gaussian_nb_algorithm,\n",
    "                                     hyperparameters = gaussian_nb_params)"
   ]
  },
  {
   "cell_type": "markdown",
   "id": "2bd8bdca",
   "metadata": {},
   "source": [
    "### Algorithm #3: Support Vector Machine (Support Vector Classifier)"
   ]
  },
  {
   "cell_type": "code",
   "execution_count": 13,
   "id": "592ec026",
   "metadata": {},
   "outputs": [],
   "source": [
    "# Setting the hyperparameter grid for the Support Vector Machine (SVM) algorithm\n",
    "svm_params = {\n",
    "    'C': [0.1, 1, 10, 100, 1000],\n",
    "    'gamma': [1, 0.1, 0.01, 0.001, 0.0001],\n",
    "    'kernel': ['rbf', 'linear', 'poly']\n",
    "}"
   ]
  },
  {
   "cell_type": "code",
   "execution_count": 14,
   "id": "75fc5093",
   "metadata": {},
   "outputs": [],
   "source": [
    "# Instantiating the Support Vector Classifier (SVC) algorithm object\n",
    "svc_algorithm = SVC()"
   ]
  },
  {
   "cell_type": "code",
   "execution_count": 15,
   "id": "ee576323",
   "metadata": {},
   "outputs": [
    {
     "name": "stdout",
     "output_type": "stream",
     "text": [
      "Best hyperparameters: {'C': 10, 'gamma': 0.01, 'kernel': 'rbf'}\n",
      "Average accuracy score: 78%\n",
      "Average ROC AUC score: 57%\n",
      "Average F1 score: 87%\n"
     ]
    }
   ],
   "source": [
    "# Feeding the algorithm into the reusable binary classification function\n",
    "generate_binary_classification_model(X = X,\n",
    "                                     y = y,\n",
    "                                     model_algorithm = svc_algorithm,\n",
    "                                     hyperparameters = svm_params,\n",
    "                                     needs_scaled = True)"
   ]
  },
  {
   "cell_type": "markdown",
   "id": "8e4d3a1c",
   "metadata": {},
   "source": [
    "### Algorithm #4: Random Forest Classifier"
   ]
  },
  {
   "cell_type": "code",
   "execution_count": 16,
   "id": "72c042a0",
   "metadata": {},
   "outputs": [],
   "source": [
    "# Setting the hyperparameter grid for the Random Forest Classifier (RFC) algorithm\n",
    "rfc_params = {\n",
    "    'n_estimators': [25, 50, 75],\n",
    "    'max_depth': [10, 15, 20],\n",
    "    'min_samples_split': [5, 10, 15, 20],\n",
    "    'min_samples_leaf': [1, 2, 4]\n",
    "}"
   ]
  },
  {
   "cell_type": "code",
   "execution_count": 17,
   "id": "37f3e2e2",
   "metadata": {},
   "outputs": [],
   "source": [
    "# Instantiating the Random Forest Classifier (RFC) algorithm object\n",
    "rfc_algorithm = RandomForestClassifier()"
   ]
  },
  {
   "cell_type": "code",
   "execution_count": 18,
   "id": "67efddea",
   "metadata": {},
   "outputs": [
    {
     "name": "stdout",
     "output_type": "stream",
     "text": [
      "Best hyperparameters: {'max_depth': 10, 'min_samples_leaf': 4, 'min_samples_split': 10, 'n_estimators': 50}\n",
      "Average accuracy score: 78%\n",
      "Average ROC AUC score: 50%\n",
      "Average F1 score: 88%\n"
     ]
    }
   ],
   "source": [
    "# Feeding the algorithm into the reusable binary classification function\n",
    "generate_binary_classification_model(X = X,\n",
    "                                     y = y,\n",
    "                                     model_algorithm = rfc_algorithm,\n",
    "                                     hyperparameters = rfc_params)"
   ]
  },
  {
   "cell_type": "markdown",
   "id": "4360d5ac",
   "metadata": {},
   "source": [
    "### Algorithm #5: CatBoost Classifier"
   ]
  },
  {
   "cell_type": "code",
   "execution_count": null,
   "id": "a06de11b",
   "metadata": {},
   "outputs": [],
   "source": [
    "# Setting the hyperparameter grid for the CatBoost Classifier algorithm\n",
    "catboost_params = {\n",
    "    'depth': [1, 2, 3],\n",
    "    'learning_rate': [0.001, 0.002, 0.003],\n",
    "    'iterations': [1, 2, 5]\n",
    "}"
   ]
  },
  {
   "cell_type": "code",
   "execution_count": null,
   "id": "7e5df59a",
   "metadata": {},
   "outputs": [],
   "source": [
    "# Instantiating the CatBoost Classifier algorithm object\n",
    "catboost_algorithm = CatBoostClassifier(silent = True)"
   ]
  },
  {
   "cell_type": "code",
   "execution_count": null,
   "id": "e20bba79",
   "metadata": {},
   "outputs": [],
   "source": [
    "# Feeding the algorithm into the reusable binary classification function\n",
    "generate_binary_classification_model(X = X,\n",
    "                                     y = y,\n",
    "                                     model_algorithm = catboost_algorithm,\n",
    "                                     hyperparameters = catboost_params)"
   ]
  },
  {
   "cell_type": "markdown",
   "id": "219297b0",
   "metadata": {},
   "source": [
    "## Regression Models\n",
    "Now that we have worked our way through the binary classification algorithms, we're ready to start looking at the regression algorithms. As a refresher, recall that we are creating this model to predict the score that Caelan gives to a movie on a 0.0 to 10.0 scale known as the **Biehn Scale**. Again, we will not be using any deep learning algorithms here. Here are the list of regression algorithms we will be testing out:\n",
    "\n",
    "- **Scikit-Learn's Linear Regression**: Like the logistic regression algorithm we analyzed with the binary classifiers, this is probably the simplest implementation of a regression algorithm we can test with. I transparently am not expecting much given its simplicity, but it's always worth checking out anyway!\n",
    "- **Scikit-Learn's Lasso Regression**: This algorithm is in the same family as the algorithm above, Lasso is actually an acronym that stands for  Least Absolute Selection Shrinkage Operator. To be completely transparent, I am not well versed on the math underlying this algorithm, so I'm not even going to try explaining it. :)\n",
    "- **Scikit-Learn's Support Vector Regressor**:\n",
    "- **Scikit-Learn's Random Forest Regression**:\n",
    "- **CatBoost's CatBoostRegressor**:"
   ]
  },
  {
   "cell_type": "code",
   "execution_count": 19,
   "id": "43e6389b",
   "metadata": {},
   "outputs": [],
   "source": [
    "# Splitting the predictor value from the remainder of the dataset\n",
    "X = df_clean.drop(columns = ['biehn_scale_rating', 'biehn_yes_or_no'])\n",
    "y = df_clean[['biehn_scale_rating']]"
   ]
  },
  {
   "cell_type": "markdown",
   "id": "79d14848",
   "metadata": {},
   "source": [
    "### Regression Reusable Function\n",
    "Just like with our binary classification models, we'll make our lives a lot easier if we can create a reusable function to quickly churn through all the regression models. The cell below does just that!"
   ]
  },
  {
   "cell_type": "code",
   "execution_count": 64,
   "id": "06398fef",
   "metadata": {},
   "outputs": [],
   "source": [
    "# Creating a reusable function for churning through all five regression algorithms\n",
    "def generate_regression_model(X, y, model_algorithm, hyperparameters, needs_scaled = False):\n",
    "    \"\"\"\n",
    "    Generating everything required for training and validation of a regression model\n",
    "\n",
    "    Args:\n",
    "        - X (Pandas DataFrame): A DataFrame containing the cleaned training data\n",
    "        - y (Pandas DataFrame): A DataFrame containing the target values correlated to the X training data\n",
    "        - model_algorithm (object): A model algorithm that will be trained against the X and y data\n",
    "        - hyperparameters (dict): A dictionary containing all the hyperparameters to test the model with\n",
    "        - needs_scaled (Boolean): A boolean value that indicates whether or not the input dataset\n",
    "    \"\"\"\n",
    "    \n",
    "    # Performing a scaling on the data if required\n",
    "    if needs_scaled:\n",
    "        \n",
    "        # Instantiating the StandardScaler\n",
    "        scaler = StandardScaler()\n",
    "        \n",
    "        # Performing a fit_transform on the dataset\n",
    "        scaled_features = scaler.fit_transform(X)\n",
    "        \n",
    "        # Transforming the StandardScaler output back into a Pandas DataFrame\n",
    "        X = pd.DataFrame(scaled_features, index = X.index, columns = X.columns)\n",
    "        \n",
    "    # Instantiating a GridSearch object with the inputted model algorithm and hyperparameters\n",
    "    gridsearchcv = GridSearchCV(estimator = model_algorithm,\n",
    "                                param_grid = hyperparameters)\n",
    "    \n",
    "    # Fitting the training data to the GridSearch object\n",
    "    gridsearchcv.fit(X, y)\n",
    "    \n",
    "    # Printing out the best hyperparameters\n",
    "    print(f'Best hyperparameters: {gridsearchcv.best_params_}')\n",
    "    \n",
    "    # Instantiating a new model object with the ideal hyperparameters from the GridSearch job\n",
    "    model_algorithm.set_params(**gridsearchcv.best_params_)\n",
    "    \n",
    "    # Creating a container to hold each set of validation metrics\n",
    "    mae_scores, rmse_scores, r2_scores = [], [], []\n",
    "    \n",
    "    # Instantiating the K-Fold cross validation object\n",
    "    k_fold = KFold(n_splits = 5)\n",
    "    \n",
    "    # Iterating through each of the folds in K-Fold\n",
    "    for train_index, val_index in k_fold.split(X):\n",
    "\n",
    "        # Splitting the training set from the validation set for this specific fold\n",
    "        X_train, X_val = X.iloc[train_index, :], X.iloc[val_index, :]\n",
    "        y_train, y_val = y.iloc[train_index], y.iloc[val_index]\n",
    "        \n",
    "        # Fitting the X_train and y_train datasets to the model algorithm\n",
    "        model_algorithm.fit(X_train, y_train)\n",
    "\n",
    "        # Getting inferential predictions for the validation dataset\n",
    "        val_preds = model_algorithm.predict(X_val)\n",
    "\n",
    "        # Generating validation metrics by comparing the inferential predictions (val_preds) to the actuals (y_val)\n",
    "        val_mae_score = mean_absolute_error(y_val, val_preds)\n",
    "        val_mse_score = mean_squared_error(y_val, val_preds)\n",
    "        val_rmse_score = mean_squared_error(y_val, val_preds, squared = False)\n",
    "        val_r2_score = r2_score(y_val, val_preds)\n",
    "        \n",
    "        # Appending the validation scores to the respective validation metric container\n",
    "        mae_scores.append(val_mae_score)\n",
    "        rmse_scores.append(val_rmse_score)\n",
    "        r2_scores.append(val_r2_score)\n",
    "        \n",
    "    # Getting the average (mean) of each validation score\n",
    "    average_mae = mean(mae_scores)\n",
    "    average_rmse = mean(rmse_scores)\n",
    "    average_r2 = mean(r2_scores)\n",
    "     \n",
    "    # Printing out the average validation metrics\n",
    "    print(f'Average mean absolute error: {average_mae}')\n",
    "    print(f'Average root mean squared error: {average_rmse}')\n",
    "    print(f'Average R2 score: {average_r2}')"
   ]
  },
  {
   "cell_type": "markdown",
   "id": "15674d1f",
   "metadata": {},
   "source": [
    "### Algorithm #1: Linear Regression"
   ]
  },
  {
   "cell_type": "code",
   "execution_count": 68,
   "id": "d381b3a6",
   "metadata": {},
   "outputs": [],
   "source": [
    "# Setting the hyperparameter grid for the Linear Regression algorithm\n",
    "linear_reg_params = {\n",
    "    # No hyperparameters to tune!\n",
    "}"
   ]
  },
  {
   "cell_type": "code",
   "execution_count": 69,
   "id": "687afd5c",
   "metadata": {},
   "outputs": [],
   "source": [
    "# Instantiating the Linear Regression algorithm object\n",
    "linear_reg_algorithm = LinearRegression()"
   ]
  },
  {
   "cell_type": "code",
   "execution_count": 70,
   "id": "381e5807",
   "metadata": {},
   "outputs": [
    {
     "name": "stdout",
     "output_type": "stream",
     "text": [
      "Best hyperparameters: {}\n",
      "Average mean absolute error: 1.8523793215485933\n",
      "Average root mean squared error: 2.2251023178018743\n",
      "Average R2 score: -0.25079718140411755\n"
     ]
    }
   ],
   "source": [
    "# Feeding the algorithm into the reusable regression function\n",
    "generate_regression_model(X = X,\n",
    "                          y = y,\n",
    "                          model_algorithm = linear_reg_algorithm,\n",
    "                          hyperparameters = linear_reg_params)"
   ]
  },
  {
   "cell_type": "markdown",
   "id": "dc217bab",
   "metadata": {},
   "source": [
    "### Algorithm #2: Lasso Regression"
   ]
  },
  {
   "cell_type": "code",
   "execution_count": 89,
   "id": "71f56527",
   "metadata": {},
   "outputs": [],
   "source": [
    "# Setting the hyperparameter grid for the Lasso Regression algorithm\n",
    "lasso_reg_params = {\n",
    "    'alpha': np.linspace(0.2, 2, 25)\n",
    "}"
   ]
  },
  {
   "cell_type": "code",
   "execution_count": 87,
   "id": "dd80cd06",
   "metadata": {},
   "outputs": [],
   "source": [
    "# Instantiating the Lasso Regression algorithm object\n",
    "lasso_reg_algorithm = Lasso()"
   ]
  },
  {
   "cell_type": "code",
   "execution_count": 88,
   "id": "ab4dda16",
   "metadata": {},
   "outputs": [
    {
     "name": "stdout",
     "output_type": "stream",
     "text": [
      "Best hyperparameters: {'alpha': 0.275}\n",
      "Average mean absolute error: 1.5216118819619133\n",
      "Average root mean squared error: 1.926506186578574\n",
      "Average R2 score: 0.08599723674901145\n"
     ]
    }
   ],
   "source": [
    "# Feeding the algorithm into the reusable regression function\n",
    "generate_regression_model(X = X,\n",
    "                          y = y,\n",
    "                          model_algorithm = lasso_reg_algorithm,\n",
    "                          hyperparameters = lasso_reg_params,\n",
    "                          needs_scaled = True)"
   ]
  },
  {
   "cell_type": "markdown",
   "id": "ed91f413",
   "metadata": {},
   "source": [
    "### Algorithm #3: Support Vector Machine (Support Vector Regressor)"
   ]
  },
  {
   "cell_type": "code",
   "execution_count": 90,
   "id": "7425b241",
   "metadata": {},
   "outputs": [],
   "source": [
    "# Setting the hyperparameter grid for the Support Vector Regressor algorithm\n",
    "svr_params = {\n",
    "    'C': [0.1, 1, 10, 100, 1000],\n",
    "    'gamma': [1, 0.1, 0.01, 0.001, 0.0001],\n",
    "}"
   ]
  },
  {
   "cell_type": "code",
   "execution_count": 91,
   "id": "2311db64",
   "metadata": {},
   "outputs": [],
   "source": [
    "# Instantiating the Support Vector Regressor algorithm object\n",
    "svr_algorithm = SVR()"
   ]
  },
  {
   "cell_type": "code",
   "execution_count": 92,
   "id": "2c1e40d9",
   "metadata": {},
   "outputs": [
    {
     "name": "stdout",
     "output_type": "stream",
     "text": [
      "Best hyperparameters: {'C': 10, 'gamma': 0.001}\n",
      "Average mean absolute error: 1.492840348529517\n",
      "Average root mean squared error: 1.958912842470548\n",
      "Average R2 score: 0.05679773575439473\n"
     ]
    }
   ],
   "source": [
    "# Feeding the algorithm into the reusable regression function\n",
    "generate_regression_model(X = X,\n",
    "                          y = y,\n",
    "                          model_algorithm = svr_algorithm,\n",
    "                          hyperparameters = svr_params,\n",
    "                          needs_scaled = True)"
   ]
  },
  {
   "cell_type": "markdown",
   "id": "f585623b",
   "metadata": {},
   "source": [
    "### Algorithm #4: Random Forest Regressor"
   ]
  },
  {
   "cell_type": "code",
   "execution_count": 101,
   "id": "81027b7d",
   "metadata": {},
   "outputs": [],
   "source": [
    "# Setting the hyperparameter grid for the Random Forest Regressor algorithm\n",
    "random_forest_regressor_params = {\n",
    "    'n_estimators': [50, 75, 100],\n",
    "    'max_depth': [15, 20, 25, 30],\n",
    "    'min_samples_split': [9, 10, 11, 12],\n",
    "    'min_samples_leaf': [1, 2, 3]\n",
    "}"
   ]
  },
  {
   "cell_type": "code",
   "execution_count": 102,
   "id": "02545230",
   "metadata": {},
   "outputs": [],
   "source": [
    "# Instantiating the Random Forest Regressor algorithm object\n",
    "random_forest_regressor_algorithm = RandomForestRegressor()"
   ]
  },
  {
   "cell_type": "code",
   "execution_count": 103,
   "id": "758b5d38",
   "metadata": {},
   "outputs": [
    {
     "name": "stdout",
     "output_type": "stream",
     "text": [
      "Best hyperparameters: {'max_depth': 20, 'min_samples_leaf': 1, 'min_samples_split': 12, 'n_estimators': 50}\n",
      "Average mean absolute error: 1.5642612058748273\n",
      "Average root mean squared error: 1.9944205167340874\n",
      "Average R2 score: 0.02216908560864377\n"
     ]
    }
   ],
   "source": [
    "# Feeding the algorithm into the reusable regression function\n",
    "generate_regression_model(X = X,\n",
    "                          y = y,\n",
    "                          model_algorithm = random_forest_regressor_algorithm,\n",
    "                          hyperparameters = random_forest_regressor_params)"
   ]
  },
  {
   "cell_type": "markdown",
   "id": "cf25d68f",
   "metadata": {},
   "source": [
    "### Algorithm #5: CatBoost Regressor"
   ]
  },
  {
   "cell_type": "code",
   "execution_count": 40,
   "id": "ea0feac0",
   "metadata": {},
   "outputs": [],
   "source": [
    "# Setting the hyperparameter grid for the CatBoost Regressor algorithm\n",
    "catboost_reg_params = {\n",
    "\n",
    "}"
   ]
  },
  {
   "cell_type": "code",
   "execution_count": 41,
   "id": "3212c4a9",
   "metadata": {},
   "outputs": [
    {
     "ename": "NameError",
     "evalue": "name 'CatBoostRegressor' is not defined",
     "output_type": "error",
     "traceback": [
      "\u001b[0;31m---------------------------------------------------------------------------\u001b[0m",
      "\u001b[0;31mNameError\u001b[0m                                 Traceback (most recent call last)",
      "\u001b[0;32m<ipython-input-41-c24b4ebee593>\u001b[0m in \u001b[0;36m<module>\u001b[0;34m\u001b[0m\n\u001b[1;32m      1\u001b[0m \u001b[0;31m# Instantiating the CatBoost Classifier algorithm object\u001b[0m\u001b[0;34m\u001b[0m\u001b[0;34m\u001b[0m\u001b[0;34m\u001b[0m\u001b[0m\n\u001b[0;32m----> 2\u001b[0;31m \u001b[0mcatboost_reg_algorithm\u001b[0m \u001b[0;34m=\u001b[0m \u001b[0mCatBoostRegressor\u001b[0m\u001b[0;34m(\u001b[0m\u001b[0msilent\u001b[0m \u001b[0;34m=\u001b[0m \u001b[0;32mTrue\u001b[0m\u001b[0;34m)\u001b[0m\u001b[0;34m\u001b[0m\u001b[0;34m\u001b[0m\u001b[0m\n\u001b[0m",
      "\u001b[0;31mNameError\u001b[0m: name 'CatBoostRegressor' is not defined"
     ]
    }
   ],
   "source": [
    "# Instantiating the CatBoost Classifier algorithm object\n",
    "catboost_reg_algorithm = CatBoostRegressor(silent = True)"
   ]
  },
  {
   "cell_type": "code",
   "execution_count": null,
   "id": "64d6818f",
   "metadata": {},
   "outputs": [],
   "source": [
    "# Feeding the algorithm into the reusable regression function\n",
    "generate_regression_model(X = X,\n",
    "                          y = y,\n",
    "                          model_algorithm = catboost_reg_algorithm,\n",
    "                          hyperparameters = catboost_reg_params)"
   ]
  },
  {
   "cell_type": "code",
   "execution_count": null,
   "id": "675e1909",
   "metadata": {},
   "outputs": [],
   "source": []
  }
 ],
 "metadata": {
  "kernelspec": {
   "display_name": "Python 3",
   "language": "python",
   "name": "python3"
  },
  "language_info": {
   "codemirror_mode": {
    "name": "ipython",
    "version": 3
   },
   "file_extension": ".py",
   "mimetype": "text/x-python",
   "name": "python",
   "nbconvert_exporter": "python",
   "pygments_lexer": "ipython3",
   "version": "3.8.8"
  }
 },
 "nbformat": 4,
 "nbformat_minor": 5
}
